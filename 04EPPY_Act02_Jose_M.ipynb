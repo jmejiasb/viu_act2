{
 "cells": [
  {
   "cell_type": "markdown",
   "id": "31ffaa68",
   "metadata": {},
   "source": [
    "<img src=\"../img/viu_logo.png\" width=\"200\">\n",
    "\n",
    "## 04EPPY - Actividad 2\n",
    "\n",
    "25% de la Nota Final\n",
    "\n",
    "### Fecha Entrega\n",
    "- Convocatoria 1 - 31/03/2022\n",
    "- Convocatoria 2 - 07/04/2022\n",
    "\n",
    "### Instrucciones:\n",
    "- Crear un notebook de Python3 que servirá como entrega de la actividad.\n",
    "- Separar bien los apartados propuestos con celdas Markdown.\n",
    "- Mantener una estructura limpia, comentando código y secuenciando los apartados con el código correspondiente que resuelva la actividad.\n",
    "- Como criterio de evaluación se tendrá en cuenta el resultado, la consecución del mismo, estilo, comentarios y adecuación.\n",
    "- No está permitido compartir los resultados ni el código en ninguno de los foros.\n",
    "\n",
    "### Entrega:\n",
    "- Un solo documento en formato notebook: .ipynb\n",
    "- Para hacer la entrega hay que subir el notebook al repositorio en la actividad de blackboard."
   ]
  },
  {
   "cell_type": "markdown",
   "id": "acc1f5f5",
   "metadata": {},
   "source": [
    "# Olympics"
   ]
  },
  {
   "cell_type": "markdown",
   "id": "96ebe415",
   "metadata": {
    "tags": []
   },
   "source": [
    "### A1 - Leer Datasets - 10%\n",
    "- En Kaggle existen dos datasets sobre las olimpiadas modernas\n",
    "  - Atletas y resultados de medallas, desde 1896 a 2016, https://www.kaggle.com/heesoo37/120-years-of-olympic-history-athletes-and-results\n",
    "  - Resultados de atletismo, desde 1896 a 2016, https://www.kaggle.com/jayrav13/olympic-track-field-results\n",
    "  \n",
    "- Obtener y leer los ficheros csv en dataframes de pandas"
   ]
  },
  {
   "cell_type": "markdown",
   "id": "e6b77e57-367a-4869-996f-3057d0c0a8df",
   "metadata": {
    "tags": []
   },
   "source": [
    "##### Descargar y guardar los dataset de Kaggle"
   ]
  },
  {
   "cell_type": "markdown",
   "id": "52e268ff-a8dd-4521-9065-9d43c5f71667",
   "metadata": {},
   "source": [
    "##### Importar paquetes para usar en la actividad"
   ]
  },
  {
   "cell_type": "code",
   "execution_count": 1,
   "id": "50059406-1c89-42bb-b635-8c1991ff90ab",
   "metadata": {
    "tags": []
   },
   "outputs": [],
   "source": [
    "import numpy as np\n",
    "import pandas as pd\n",
    "import zipfile as zp\n",
    "import os\n",
    "import matplotlib.pyplot as plt\n",
    "import seaborn as sns"
   ]
  },
  {
   "cell_type": "markdown",
   "id": "516e7bcb-4d54-430c-af98-cc0ceca52358",
   "metadata": {},
   "source": [
    "##### Autenticacion con Kaggle API"
   ]
  },
  {
   "cell_type": "code",
   "execution_count": 2,
   "id": "e7780bb0-6c88-453e-aebe-d72f7e3842fc",
   "metadata": {
    "tags": []
   },
   "outputs": [],
   "source": [
    "os.environ['KAGGLE_USERNAME'] = \"jmejiasb\"\n",
    "os.environ['KAGGLE_KEY'] = \"782634d4517fd0263297f09bf847ecad\"\n",
    "\n",
    "from kaggle.api.kaggle_api_extended import KaggleApi\n",
    "\n",
    "api = KaggleApi()\n",
    "api.authenticate()"
   ]
  },
  {
   "cell_type": "markdown",
   "id": "c0c4f96c-216a-4c36-a3cd-52171759f8e2",
   "metadata": {},
   "source": [
    "##### Descargar zip de archivos con API de Kaggle\n",
    "##### Para descargar usando el Kaggle API se debe usar el link del dataset (la url de kaggle despues de \"www.kaggle.com/\") y la ruta donde guardar el archivo zip\n"
   ]
  },
  {
   "cell_type": "code",
   "execution_count": 3,
   "id": "3030741d-e5f5-4249-bfae-c2c0637e7098",
   "metadata": {
    "tags": []
   },
   "outputs": [],
   "source": [
    "route = os.path.join(\"res\")\n",
    "api.dataset_download_files(\"heesoo37/120-years-of-olympic-history-athletes-and-results\", path = route)\n",
    "api.dataset_download_files(\"jayrav13/olympic-track-field-results\", path = route)"
   ]
  },
  {
   "cell_type": "markdown",
   "id": "1e98cd2e-d8c1-45bc-bbbc-844c124bc233",
   "metadata": {},
   "source": [
    "##### Extraer archivos zip de los dataset en su respectiva carpeta"
   ]
  },
  {
   "cell_type": "code",
   "execution_count": 4,
   "id": "dfe597bf-6be8-4c1c-b0f1-40c83349abd5",
   "metadata": {
    "tags": []
   },
   "outputs": [
    {
     "name": "stdout",
     "output_type": "stream",
     "text": [
      "Extracting all files...\n",
      "Done!\n",
      "Extracting all files...\n",
      "Done!\n"
     ]
    }
   ],
   "source": [
    "#120 years of olympic history: athletes and results\n",
    "with zp.ZipFile(\"res/120-years-of-olympic-history-athletes-and-results.zip\") as zipp:\n",
    "    print('Extracting all files...') \n",
    "    zipp.extractall(os.path.join(\"res\",\"120_years_olympic_history\")) \n",
    "    print('Done!')\n",
    "    \n",
    "#Olympic track field results\n",
    "with zp.ZipFile(\"res/olympic-track-field-results.zip\") as zipp:\n",
    "    print('Extracting all files...') \n",
    "    zipp.extractall(os.path.join(\"res\",\"olympic-track-field-results\")) \n",
    "    print('Done!')"
   ]
  },
  {
   "cell_type": "markdown",
   "id": "4a106c26-1705-4b5c-a2b8-2b877797489e",
   "metadata": {},
   "source": [
    "##### Guardar csv en su respectivo DataFrame"
   ]
  },
  {
   "cell_type": "code",
   "execution_count": 5,
   "id": "9451e96f-e6e2-495b-9f46-0c12b67e8927",
   "metadata": {
    "tags": []
   },
   "outputs": [
    {
     "data": {
      "text/html": [
       "<div>\n",
       "<style scoped>\n",
       "    .dataframe tbody tr th:only-of-type {\n",
       "        vertical-align: middle;\n",
       "    }\n",
       "\n",
       "    .dataframe tbody tr th {\n",
       "        vertical-align: top;\n",
       "    }\n",
       "\n",
       "    .dataframe thead th {\n",
       "        text-align: right;\n",
       "    }\n",
       "</style>\n",
       "<table border=\"1\" class=\"dataframe\">\n",
       "  <thead>\n",
       "    <tr style=\"text-align: right;\">\n",
       "      <th></th>\n",
       "      <th>ID</th>\n",
       "      <th>Name</th>\n",
       "      <th>Sex</th>\n",
       "      <th>Age</th>\n",
       "      <th>Height</th>\n",
       "      <th>Weight</th>\n",
       "      <th>Team</th>\n",
       "      <th>NOC</th>\n",
       "      <th>Games</th>\n",
       "      <th>Year</th>\n",
       "      <th>Season</th>\n",
       "      <th>City</th>\n",
       "      <th>Sport</th>\n",
       "      <th>Event</th>\n",
       "      <th>Medal</th>\n",
       "    </tr>\n",
       "  </thead>\n",
       "  <tbody>\n",
       "    <tr>\n",
       "      <th>163110</th>\n",
       "      <td>81896</td>\n",
       "      <td>Ernest Marie Eugne Adolphe Moreau de Melen</td>\n",
       "      <td>M</td>\n",
       "      <td>NaN</td>\n",
       "      <td>NaN</td>\n",
       "      <td>NaN</td>\n",
       "      <td>Univ. of Brussels</td>\n",
       "      <td>BEL</td>\n",
       "      <td>1900 Summer</td>\n",
       "      <td>1900</td>\n",
       "      <td>Summer</td>\n",
       "      <td>Paris</td>\n",
       "      <td>Football</td>\n",
       "      <td>Football Men's Football</td>\n",
       "      <td>Bronze</td>\n",
       "    </tr>\n",
       "    <tr>\n",
       "      <th>256128</th>\n",
       "      <td>128238</td>\n",
       "      <td>Per Johan Daniel Wallner</td>\n",
       "      <td>M</td>\n",
       "      <td>29.0</td>\n",
       "      <td>182.0</td>\n",
       "      <td>81.0</td>\n",
       "      <td>Sweden</td>\n",
       "      <td>SWE</td>\n",
       "      <td>1994 Winter</td>\n",
       "      <td>1994</td>\n",
       "      <td>Winter</td>\n",
       "      <td>Lillehammer</td>\n",
       "      <td>Alpine Skiing</td>\n",
       "      <td>Alpine Skiing Men's Giant Slalom</td>\n",
       "      <td>NaN</td>\n",
       "    </tr>\n",
       "    <tr>\n",
       "      <th>39927</th>\n",
       "      <td>20534</td>\n",
       "      <td>Ihor Volodymyrovych Chervynskiy</td>\n",
       "      <td>M</td>\n",
       "      <td>18.0</td>\n",
       "      <td>180.0</td>\n",
       "      <td>73.0</td>\n",
       "      <td>Ukraine</td>\n",
       "      <td>UKR</td>\n",
       "      <td>2000 Summer</td>\n",
       "      <td>2000</td>\n",
       "      <td>Summer</td>\n",
       "      <td>Sydney</td>\n",
       "      <td>Swimming</td>\n",
       "      <td>Swimming Men's 400 metres Freestyle</td>\n",
       "      <td>NaN</td>\n",
       "    </tr>\n",
       "  </tbody>\n",
       "</table>\n",
       "</div>"
      ],
      "text/plain": [
       "            ID                                        Name Sex   Age  Height  \\\n",
       "163110   81896  Ernest Marie Eugne Adolphe Moreau de Melen   M   NaN     NaN   \n",
       "256128  128238                    Per Johan Daniel Wallner   M  29.0   182.0   \n",
       "39927    20534             Ihor Volodymyrovych Chervynskiy   M  18.0   180.0   \n",
       "\n",
       "        Weight               Team  NOC        Games  Year  Season  \\\n",
       "163110     NaN  Univ. of Brussels  BEL  1900 Summer  1900  Summer   \n",
       "256128    81.0             Sweden  SWE  1994 Winter  1994  Winter   \n",
       "39927     73.0            Ukraine  UKR  2000 Summer  2000  Summer   \n",
       "\n",
       "               City          Sport                                Event  \\\n",
       "163110        Paris       Football              Football Men's Football   \n",
       "256128  Lillehammer  Alpine Skiing     Alpine Skiing Men's Giant Slalom   \n",
       "39927        Sydney       Swimming  Swimming Men's 400 metres Freestyle   \n",
       "\n",
       "         Medal  \n",
       "163110  Bronze  \n",
       "256128     NaN  \n",
       "39927      NaN  "
      ]
     },
     "execution_count": 5,
     "metadata": {},
     "output_type": "execute_result"
    }
   ],
   "source": [
    "#120 years of olympic history: athletes and result\n",
    "olympic_history_route = os.path.join(\"res\",\"120_years_olympic_history\",\"athlete_events.csv\")\n",
    "\n",
    "olympic_history = pd.read_csv(olympic_history_route, engine=\"python\", header=0)\n",
    "\n",
    "olympic_history.sample(3)"
   ]
  },
  {
   "cell_type": "code",
   "execution_count": 6,
   "id": "787e4963-db64-41fd-9da5-ac6b8372d36f",
   "metadata": {
    "tags": []
   },
   "outputs": [],
   "source": [
    "#Track field results\n",
    "olympic_track_field_route = os.path.join(\"res\",\"olympic-track-field-results\",\"results.csv\")\n",
    "\n",
    "#Al intentar leer el csv lanza error ya que algunos valores de la columna \"Results\" tienen una coma de mas (ie. \",+0.1\") \n",
    "#y lo toma como una nueva columna\n",
    "\n",
    "#olympic_track_field = pd.read_csv(olympic_track_field_route, engine=\"python\", header=0) #ParserError"
   ]
  },
  {
   "cell_type": "code",
   "execution_count": 7,
   "id": "d7ce7f80-d911-4455-8c68-5e3158ebff3c",
   "metadata": {
    "tags": []
   },
   "outputs": [
    {
     "data": {
      "text/html": [
       "<div>\n",
       "<style scoped>\n",
       "    .dataframe tbody tr th:only-of-type {\n",
       "        vertical-align: middle;\n",
       "    }\n",
       "\n",
       "    .dataframe tbody tr th {\n",
       "        vertical-align: top;\n",
       "    }\n",
       "\n",
       "    .dataframe thead th {\n",
       "        text-align: right;\n",
       "    }\n",
       "</style>\n",
       "<table border=\"1\" class=\"dataframe\">\n",
       "  <thead>\n",
       "    <tr style=\"text-align: right;\">\n",
       "      <th></th>\n",
       "      <th>Gender</th>\n",
       "      <th>Event</th>\n",
       "      <th>Location</th>\n",
       "      <th>Year</th>\n",
       "      <th>Medal</th>\n",
       "      <th>Name</th>\n",
       "      <th>Nationality</th>\n",
       "      <th>Result</th>\n",
       "    </tr>\n",
       "  </thead>\n",
       "  <tbody>\n",
       "    <tr>\n",
       "      <th>697</th>\n",
       "      <td>M</td>\n",
       "      <td>4X100M Relay Men</td>\n",
       "      <td>Antwerp</td>\n",
       "      <td>1920</td>\n",
       "      <td>G</td>\n",
       "      <td>NaN</td>\n",
       "      <td>USA</td>\n",
       "      <td>0:42.2</td>\n",
       "    </tr>\n",
       "    <tr>\n",
       "      <th>1760</th>\n",
       "      <td>W</td>\n",
       "      <td>1500M Women</td>\n",
       "      <td>Los Angeles</td>\n",
       "      <td>1984</td>\n",
       "      <td>S</td>\n",
       "      <td>Doina MELINTE</td>\n",
       "      <td>ROU</td>\n",
       "      <td>4:03.76</td>\n",
       "    </tr>\n",
       "    <tr>\n",
       "      <th>746</th>\n",
       "      <td>M</td>\n",
       "      <td>4X400M Relay Men</td>\n",
       "      <td>Montreal</td>\n",
       "      <td>1976</td>\n",
       "      <td>G</td>\n",
       "      <td>NaN</td>\n",
       "      <td>USA</td>\n",
       "      <td>2:58.65</td>\n",
       "    </tr>\n",
       "  </tbody>\n",
       "</table>\n",
       "</div>"
      ],
      "text/plain": [
       "     Gender             Event     Location  Year Medal           Name  \\\n",
       "697       M  4X100M Relay Men      Antwerp  1920     G            NaN   \n",
       "1760      W       1500M Women  Los Angeles  1984     S  Doina MELINTE   \n",
       "746       M  4X400M Relay Men     Montreal  1976     G            NaN   \n",
       "\n",
       "     Nationality   Result  \n",
       "697          USA   0:42.2  \n",
       "1760         ROU  4:03.76  \n",
       "746          USA  2:58.65  "
      ]
     },
     "execution_count": 7,
     "metadata": {},
     "output_type": "execute_result"
    }
   ],
   "source": [
    "#Para resolver este error se usa el parametro \"usecols\" para que solo tome en cuenta solo las primeras 8 columnas.\n",
    "olympic_track_field = pd.read_csv(olympic_track_field_route, engine=\"python\", header=0, usecols=range(8))\n",
    "\n",
    "olympic_track_field.sample(3)"
   ]
  },
  {
   "cell_type": "markdown",
   "id": "6c87165f",
   "metadata": {
    "tags": []
   },
   "source": [
    "### A2 - Análisis - 45%\n",
    "- Obtener un gráfico de barras con la evolución del número de deportes por año, eje X años, eje Y número de deportes\n",
    "![sports_per_year](res/sports_per_year.png)\n",
    "- Gráfico con la evolución de la participación femenina en las olimpiadas a lo largo de la historia, eje X años, eje Y número de atletas, para cada año una barra para cada sexo\n",
    "![sex](res/sex.png)\n",
    "- Gráfico con los 50 paises con más medallas en toda la historia, en cada barra el nombre completo del pais, longitud de cada barra, total de medallas obtenidas por pais\n",
    "![medallero](res/medallero.png)"
   ]
  },
  {
   "cell_type": "markdown",
   "id": "51f270c1-f3bc-4258-9d33-eb6d4f9604bf",
   "metadata": {
    "tags": []
   },
   "source": [
    "##### A partir de 1992 los juegos olimpicos de invierno se hacen con dos años de diferencia. \n",
    "##### Para que todo el grafico quede en intervalos de 4 años, se hace una list comprehension para cambiar estos años de juegos de invierno a los años de los juegos de verano"
   ]
  },
  {
   "cell_type": "code",
   "execution_count": 8,
   "id": "597403b6-6b4c-46b6-8e4d-c2f4eb8e6c2d",
   "metadata": {
    "tags": []
   },
   "outputs": [
    {
     "data": {
      "text/html": [
       "<div>\n",
       "<style scoped>\n",
       "    .dataframe tbody tr th:only-of-type {\n",
       "        vertical-align: middle;\n",
       "    }\n",
       "\n",
       "    .dataframe tbody tr th {\n",
       "        vertical-align: top;\n",
       "    }\n",
       "\n",
       "    .dataframe thead th {\n",
       "        text-align: right;\n",
       "    }\n",
       "</style>\n",
       "<table border=\"1\" class=\"dataframe\">\n",
       "  <thead>\n",
       "    <tr style=\"text-align: right;\">\n",
       "      <th></th>\n",
       "      <th>ID</th>\n",
       "      <th>Name</th>\n",
       "      <th>Sex</th>\n",
       "      <th>Age</th>\n",
       "      <th>Height</th>\n",
       "      <th>Weight</th>\n",
       "      <th>Team</th>\n",
       "      <th>NOC</th>\n",
       "      <th>Games</th>\n",
       "      <th>Year</th>\n",
       "      <th>Season</th>\n",
       "      <th>City</th>\n",
       "      <th>Sport</th>\n",
       "      <th>Event</th>\n",
       "      <th>Medal</th>\n",
       "    </tr>\n",
       "  </thead>\n",
       "  <tbody>\n",
       "    <tr>\n",
       "      <th>234866</th>\n",
       "      <td>117787</td>\n",
       "      <td>Matteo Tagliariol</td>\n",
       "      <td>M</td>\n",
       "      <td>25.0</td>\n",
       "      <td>188.0</td>\n",
       "      <td>78.0</td>\n",
       "      <td>Italy</td>\n",
       "      <td>ITA</td>\n",
       "      <td>2008 Summer</td>\n",
       "      <td>2008</td>\n",
       "      <td>Summer</td>\n",
       "      <td>Beijing</td>\n",
       "      <td>Fencing</td>\n",
       "      <td>Fencing Men's epee, Team</td>\n",
       "      <td>Bronze</td>\n",
       "    </tr>\n",
       "    <tr>\n",
       "      <th>76127</th>\n",
       "      <td>38632</td>\n",
       "      <td>Luis Rigiberto Garca Jimnez</td>\n",
       "      <td>M</td>\n",
       "      <td>34.0</td>\n",
       "      <td>169.0</td>\n",
       "      <td>67.0</td>\n",
       "      <td>Venezuela</td>\n",
       "      <td>VEN</td>\n",
       "      <td>1968 Summer</td>\n",
       "      <td>1968</td>\n",
       "      <td>Summer</td>\n",
       "      <td>Mexico City</td>\n",
       "      <td>Fencing</td>\n",
       "      <td>Fencing Men's Foil, Team</td>\n",
       "      <td>NaN</td>\n",
       "    </tr>\n",
       "    <tr>\n",
       "      <th>91089</th>\n",
       "      <td>46162</td>\n",
       "      <td>Dionna Marie Harris</td>\n",
       "      <td>F</td>\n",
       "      <td>28.0</td>\n",
       "      <td>160.0</td>\n",
       "      <td>NaN</td>\n",
       "      <td>United States</td>\n",
       "      <td>USA</td>\n",
       "      <td>1996 Summer</td>\n",
       "      <td>1996</td>\n",
       "      <td>Summer</td>\n",
       "      <td>Atlanta</td>\n",
       "      <td>Softball</td>\n",
       "      <td>Softball Women's Softball</td>\n",
       "      <td>Gold</td>\n",
       "    </tr>\n",
       "  </tbody>\n",
       "</table>\n",
       "</div>"
      ],
      "text/plain": [
       "            ID                         Name Sex   Age  Height  Weight  \\\n",
       "234866  117787            Matteo Tagliariol   M  25.0   188.0    78.0   \n",
       "76127    38632  Luis Rigiberto Garca Jimnez   M  34.0   169.0    67.0   \n",
       "91089    46162          Dionna Marie Harris   F  28.0   160.0     NaN   \n",
       "\n",
       "                 Team  NOC        Games  Year  Season         City     Sport  \\\n",
       "234866          Italy  ITA  2008 Summer  2008  Summer      Beijing   Fencing   \n",
       "76127       Venezuela  VEN  1968 Summer  1968  Summer  Mexico City   Fencing   \n",
       "91089   United States  USA  1996 Summer  1996  Summer      Atlanta  Softball   \n",
       "\n",
       "                            Event   Medal  \n",
       "234866   Fencing Men's epee, Team  Bronze  \n",
       "76127    Fencing Men's Foil, Team     NaN  \n",
       "91089   Softball Women's Softball    Gold  "
      ]
     },
     "execution_count": 8,
     "metadata": {},
     "output_type": "execute_result"
    }
   ],
   "source": [
    "olympic_history[\"Year\"] = [x+2 if x % 4 != 0 else x for x in olympic_history[\"Year\"]]\n",
    "\n",
    "olympic_history.sample(3)"
   ]
  },
  {
   "cell_type": "markdown",
   "id": "5cc2586c-f978-4461-b44b-cb284077d40f",
   "metadata": {
    "tags": []
   },
   "source": [
    "- Obtener un gráfico de barras con la evolución del número de deportes por año, eje X años, eje Y número de deportes"
   ]
  },
  {
   "cell_type": "markdown",
   "id": "cfde2938-4626-49b8-9a71-e5ba30d26e7f",
   "metadata": {},
   "source": [
    "##### Filtrar el numero de deportes y el año en que se hizo, debido a que cada deporte tiene varios eventos se eliminan los duplicados"
   ]
  },
  {
   "cell_type": "code",
   "execution_count": 9,
   "id": "bb2c4233-d1a5-4e3b-85c8-461639cc3619",
   "metadata": {
    "tags": []
   },
   "outputs": [
    {
     "data": {
      "text/html": [
       "<div>\n",
       "<style scoped>\n",
       "    .dataframe tbody tr th:only-of-type {\n",
       "        vertical-align: middle;\n",
       "    }\n",
       "\n",
       "    .dataframe tbody tr th {\n",
       "        vertical-align: top;\n",
       "    }\n",
       "\n",
       "    .dataframe thead th {\n",
       "        text-align: right;\n",
       "    }\n",
       "</style>\n",
       "<table border=\"1\" class=\"dataframe\">\n",
       "  <thead>\n",
       "    <tr style=\"text-align: right;\">\n",
       "      <th></th>\n",
       "      <th>Year</th>\n",
       "      <th>Sport</th>\n",
       "    </tr>\n",
       "  </thead>\n",
       "  <tbody>\n",
       "    <tr>\n",
       "      <th>0</th>\n",
       "      <td>1992</td>\n",
       "      <td>Basketball</td>\n",
       "    </tr>\n",
       "    <tr>\n",
       "      <th>1</th>\n",
       "      <td>2012</td>\n",
       "      <td>Judo</td>\n",
       "    </tr>\n",
       "    <tr>\n",
       "      <th>2</th>\n",
       "      <td>1920</td>\n",
       "      <td>Football</td>\n",
       "    </tr>\n",
       "    <tr>\n",
       "      <th>3</th>\n",
       "      <td>1900</td>\n",
       "      <td>Tug-Of-War</td>\n",
       "    </tr>\n",
       "    <tr>\n",
       "      <th>4</th>\n",
       "      <td>1988</td>\n",
       "      <td>Speed Skating</td>\n",
       "    </tr>\n",
       "  </tbody>\n",
       "</table>\n",
       "</div>"
      ],
      "text/plain": [
       "   Year          Sport\n",
       "0  1992     Basketball\n",
       "1  2012           Judo\n",
       "2  1920       Football\n",
       "3  1900     Tug-Of-War\n",
       "4  1988  Speed Skating"
      ]
     },
     "execution_count": 9,
     "metadata": {},
     "output_type": "execute_result"
    }
   ],
   "source": [
    "sports_per_year = olympic_history[[\"Year\",\"Sport\"]].drop_duplicates()\n",
    "\n",
    "sports_per_year.head(5)"
   ]
  },
  {
   "cell_type": "markdown",
   "id": "28045d72-9280-4369-a309-b5769ad247d4",
   "metadata": {},
   "source": [
    "##### Se agrupa por año y se usa el metodo count() para saber el numero de deportes por año"
   ]
  },
  {
   "cell_type": "code",
   "execution_count": 10,
   "id": "b82bab05-632b-4e4d-b992-53ffd9549aca",
   "metadata": {
    "tags": []
   },
   "outputs": [
    {
     "data": {
      "text/html": [
       "<div>\n",
       "<style scoped>\n",
       "    .dataframe tbody tr th:only-of-type {\n",
       "        vertical-align: middle;\n",
       "    }\n",
       "\n",
       "    .dataframe tbody tr th {\n",
       "        vertical-align: top;\n",
       "    }\n",
       "\n",
       "    .dataframe thead th {\n",
       "        text-align: right;\n",
       "    }\n",
       "</style>\n",
       "<table border=\"1\" class=\"dataframe\">\n",
       "  <thead>\n",
       "    <tr style=\"text-align: right;\">\n",
       "      <th></th>\n",
       "      <th>Year</th>\n",
       "      <th>Sport</th>\n",
       "    </tr>\n",
       "  </thead>\n",
       "  <tbody>\n",
       "    <tr>\n",
       "      <th>0</th>\n",
       "      <td>1896</td>\n",
       "      <td>9</td>\n",
       "    </tr>\n",
       "    <tr>\n",
       "      <th>1</th>\n",
       "      <td>1900</td>\n",
       "      <td>20</td>\n",
       "    </tr>\n",
       "    <tr>\n",
       "      <th>2</th>\n",
       "      <td>1904</td>\n",
       "      <td>18</td>\n",
       "    </tr>\n",
       "    <tr>\n",
       "      <th>3</th>\n",
       "      <td>1908</td>\n",
       "      <td>25</td>\n",
       "    </tr>\n",
       "    <tr>\n",
       "      <th>4</th>\n",
       "      <td>1912</td>\n",
       "      <td>17</td>\n",
       "    </tr>\n",
       "  </tbody>\n",
       "</table>\n",
       "</div>"
      ],
      "text/plain": [
       "   Year  Sport\n",
       "0  1896      9\n",
       "1  1900     20\n",
       "2  1904     18\n",
       "3  1908     25\n",
       "4  1912     17"
      ]
     },
     "execution_count": 10,
     "metadata": {},
     "output_type": "execute_result"
    }
   ],
   "source": [
    "sports_per_year = sports_per_year.groupby(\"Year\", as_index=False).count()\n",
    "\n",
    "sports_per_year.head(5)"
   ]
  },
  {
   "cell_type": "markdown",
   "id": "dd4b6ee7-9d8a-4f8a-aa0d-c735bcdaa9ce",
   "metadata": {},
   "source": [
    "##### Crear grafico de barras con seaborn"
   ]
  },
  {
   "cell_type": "code",
   "execution_count": 11,
   "id": "567d5fbd-ffe5-49cd-83e6-14fa38263427",
   "metadata": {
    "tags": []
   },
   "outputs": [
    {
     "data": {
      "image/png": "[encoded data removed]",
      "text/plain": [
       "<Figure size 2000x800 with 1 Axes>"
      ]
     },
     "metadata": {},
     "output_type": "display_data"
    }
   ],
   "source": [
    "sport_per_year_plot = sns.barplot(data=sports_per_year, x=sports_per_year[\"Year\"], y=sports_per_year[\"Sport\"], palette=\"Spectral\")\n",
    "\n",
    "#Modificar parametros del grafico para hacerlo mas presentable\n",
    "sport_per_year_plot.figure.set_figwidth(20)\n",
    "sport_per_year_plot.figure.set_figheight(8)\n",
    "sport_per_year_plot.set_title(\"Number of sports over the years\", fontsize=20)\n",
    "sport_per_year_plot.set_xlabel(\"Years\", fontsize=15)\n",
    "sport_per_year_plot.set_ylabel(\"No. of sports\", fontsize=15)\n",
    "plt.tight_layout()\n",
    "\n",
    "#Mostrar grafico\n",
    "plt.show()"
   ]
  },
  {
   "cell_type": "markdown",
   "id": "d1dfd633-d618-44c5-a55b-2ae9f69b3a29",
   "metadata": {
    "tags": []
   },
   "source": [
    "- Gráfico con la evolución de la participación femenina en las olimpiadas a lo largo de la historia, eje X años, eje Y número de atletas, para cada año una barra para cada sexo "
   ]
  },
  {
   "cell_type": "markdown",
   "id": "812c0885-de5c-4719-97ef-9a12637d8758",
   "metadata": {},
   "source": [
    "##### Filtrar el nombre, año y sexo de cada participante. Se eliminan los atletas que participaron en varios eventos el mismo año."
   ]
  },
  {
   "cell_type": "code",
   "execution_count": 12,
   "id": "fc0ca13e-c673-41d9-b9d5-08e31254e59a",
   "metadata": {
    "tags": []
   },
   "outputs": [
    {
     "data": {
      "text/html": [
       "<div>\n",
       "<style scoped>\n",
       "    .dataframe tbody tr th:only-of-type {\n",
       "        vertical-align: middle;\n",
       "    }\n",
       "\n",
       "    .dataframe tbody tr th {\n",
       "        vertical-align: top;\n",
       "    }\n",
       "\n",
       "    .dataframe thead th {\n",
       "        text-align: right;\n",
       "    }\n",
       "</style>\n",
       "<table border=\"1\" class=\"dataframe\">\n",
       "  <thead>\n",
       "    <tr style=\"text-align: right;\">\n",
       "      <th></th>\n",
       "      <th>Sex</th>\n",
       "      <th>Year</th>\n",
       "      <th>Name</th>\n",
       "    </tr>\n",
       "  </thead>\n",
       "  <tbody>\n",
       "    <tr>\n",
       "      <th>0</th>\n",
       "      <td>M</td>\n",
       "      <td>1992</td>\n",
       "      <td>A Dijiang</td>\n",
       "    </tr>\n",
       "    <tr>\n",
       "      <th>1</th>\n",
       "      <td>M</td>\n",
       "      <td>2012</td>\n",
       "      <td>A Lamusi</td>\n",
       "    </tr>\n",
       "    <tr>\n",
       "      <th>2</th>\n",
       "      <td>M</td>\n",
       "      <td>1920</td>\n",
       "      <td>Gunnar Nielsen Aaby</td>\n",
       "    </tr>\n",
       "    <tr>\n",
       "      <th>3</th>\n",
       "      <td>M</td>\n",
       "      <td>1900</td>\n",
       "      <td>Edgar Lindenau Aabye</td>\n",
       "    </tr>\n",
       "    <tr>\n",
       "      <th>4</th>\n",
       "      <td>F</td>\n",
       "      <td>1988</td>\n",
       "      <td>Christine Jacoba Aaftink</td>\n",
       "    </tr>\n",
       "    <tr>\n",
       "      <th>...</th>\n",
       "      <td>...</td>\n",
       "      <td>...</td>\n",
       "      <td>...</td>\n",
       "    </tr>\n",
       "    <tr>\n",
       "      <th>271110</th>\n",
       "      <td>F</td>\n",
       "      <td>2016</td>\n",
       "      <td>Olga Igorevna Zyuzkova</td>\n",
       "    </tr>\n",
       "    <tr>\n",
       "      <th>271111</th>\n",
       "      <td>M</td>\n",
       "      <td>1976</td>\n",
       "      <td>Andrzej ya</td>\n",
       "    </tr>\n",
       "    <tr>\n",
       "      <th>271112</th>\n",
       "      <td>M</td>\n",
       "      <td>2016</td>\n",
       "      <td>Piotr ya</td>\n",
       "    </tr>\n",
       "    <tr>\n",
       "      <th>271114</th>\n",
       "      <td>M</td>\n",
       "      <td>2000</td>\n",
       "      <td>Tomasz Ireneusz ya</td>\n",
       "    </tr>\n",
       "    <tr>\n",
       "      <th>271115</th>\n",
       "      <td>M</td>\n",
       "      <td>2004</td>\n",
       "      <td>Tomasz Ireneusz ya</td>\n",
       "    </tr>\n",
       "  </tbody>\n",
       "</table>\n",
       "<p>187051 rows × 3 columns</p>\n",
       "</div>"
      ],
      "text/plain": [
       "       Sex  Year                      Name\n",
       "0        M  1992                 A Dijiang\n",
       "1        M  2012                  A Lamusi\n",
       "2        M  1920       Gunnar Nielsen Aaby\n",
       "3        M  1900      Edgar Lindenau Aabye\n",
       "4        F  1988  Christine Jacoba Aaftink\n",
       "...     ..   ...                       ...\n",
       "271110   F  2016    Olga Igorevna Zyuzkova\n",
       "271111   M  1976                Andrzej ya\n",
       "271112   M  2016                  Piotr ya\n",
       "271114   M  2000        Tomasz Ireneusz ya\n",
       "271115   M  2004        Tomasz Ireneusz ya\n",
       "\n",
       "[187051 rows x 3 columns]"
      ]
     },
     "metadata": {},
     "output_type": "display_data"
    }
   ],
   "source": [
    "athlete_per_year_and_sex = olympic_history[[\"Sex\",\"Year\",\"Name\"]].drop_duplicates()\n",
    "\n",
    "display(athlete_per_year_and_sex)"
   ]
  },
  {
   "cell_type": "markdown",
   "id": "3bc5f947-7163-46b2-bced-05686118f09a",
   "metadata": {},
   "source": [
    "##### Agrupar por sexo y año. Usando \"count()\" para obtener el numero de participantes."
   ]
  },
  {
   "cell_type": "code",
   "execution_count": 13,
   "id": "78c387fc-7f4f-4ca3-b014-262bf9a5f417",
   "metadata": {
    "tags": []
   },
   "outputs": [
    {
     "data": {
      "text/html": [
       "<div>\n",
       "<style scoped>\n",
       "    .dataframe tbody tr th:only-of-type {\n",
       "        vertical-align: middle;\n",
       "    }\n",
       "\n",
       "    .dataframe tbody tr th {\n",
       "        vertical-align: top;\n",
       "    }\n",
       "\n",
       "    .dataframe thead th {\n",
       "        text-align: right;\n",
       "    }\n",
       "</style>\n",
       "<table border=\"1\" class=\"dataframe\">\n",
       "  <thead>\n",
       "    <tr style=\"text-align: right;\">\n",
       "      <th></th>\n",
       "      <th>Sex</th>\n",
       "      <th>Year</th>\n",
       "      <th>Athletes</th>\n",
       "    </tr>\n",
       "  </thead>\n",
       "  <tbody>\n",
       "    <tr>\n",
       "      <th>32</th>\n",
       "      <td>M</td>\n",
       "      <td>1920</td>\n",
       "      <td>2597</td>\n",
       "    </tr>\n",
       "    <tr>\n",
       "      <th>10</th>\n",
       "      <td>F</td>\n",
       "      <td>1952</td>\n",
       "      <td>629</td>\n",
       "    </tr>\n",
       "    <tr>\n",
       "      <th>54</th>\n",
       "      <td>M</td>\n",
       "      <td>2016</td>\n",
       "      <td>7784</td>\n",
       "    </tr>\n",
       "    <tr>\n",
       "      <th>37</th>\n",
       "      <td>M</td>\n",
       "      <td>1948</td>\n",
       "      <td>4545</td>\n",
       "    </tr>\n",
       "    <tr>\n",
       "      <th>15</th>\n",
       "      <td>F</td>\n",
       "      <td>1972</td>\n",
       "      <td>1266</td>\n",
       "    </tr>\n",
       "  </tbody>\n",
       "</table>\n",
       "</div>"
      ],
      "text/plain": [
       "   Sex  Year  Athletes\n",
       "32   M  1920      2597\n",
       "10   F  1952       629\n",
       "54   M  2016      7784\n",
       "37   M  1948      4545\n",
       "15   F  1972      1266"
      ]
     },
     "execution_count": 13,
     "metadata": {},
     "output_type": "execute_result"
    }
   ],
   "source": [
    "athlete_per_year_and_sex_grouped = athlete_per_year_and_sex.groupby([\"Sex\",\"Year\"], as_index=False).count()\n",
    "athlete_per_year_and_sex_grouped.rename(columns={\"Name\":\"Athletes\"}, inplace=True)\n",
    "\n",
    "athlete_per_year_and_sex_grouped.sample(5)"
   ]
  },
  {
   "cell_type": "markdown",
   "id": "e149af19-a797-46de-987a-70e328fb3f0f",
   "metadata": {},
   "source": [
    "##### Crear grafico de barras con seaborn"
   ]
  },
  {
   "cell_type": "code",
   "execution_count": 14,
   "id": "47330c80-be4d-46a7-83d1-ad0ccee59bec",
   "metadata": {
    "tags": []
   },
   "outputs": [
    {
     "data": {
      "image/png": "[encoded data removed]",
      "text/plain": [
       "<Figure size 1500x800 with 1 Axes>"
      ]
     },
     "metadata": {},
     "output_type": "display_data"
    }
   ],
   "source": [
    "athlete_per_year_and_sex_plot = sns.barplot(data=athlete_per_year_and_sex_grouped, \n",
    "                                            x=\"Year\", \n",
    "                                            y=\"Athletes\",\n",
    "                                            hue=\"Sex\", \n",
    "                                            hue_order = ['M', 'F']\n",
    "                                           )\n",
    "\n",
    "#Modificar parametros del grafico para hacerlo mas presentable\n",
    "athlete_per_year_and_sex_plot.figure.set_figwidth(15)\n",
    "athlete_per_year_and_sex_plot.figure.set_figheight(8)\n",
    "athlete_per_year_and_sex_plot.set_title(\"Gender Analysis\", fontsize=20)\n",
    "athlete_per_year_and_sex_plot.set_xlabel(\"Years\", fontsize=15)\n",
    "athlete_per_year_and_sex_plot.set_ylabel(\"No. of Athletes\", fontsize=15)\n",
    "plt.tight_layout()\n",
    "\n",
    "#Mostrar grafico\n",
    "plt.show()"
   ]
  },
  {
   "cell_type": "markdown",
   "id": "877d5397-84f8-415b-b908-bf1543b797cd",
   "metadata": {
    "tags": []
   },
   "source": [
    "- Gráfico con los 50 paises con más medallas en toda la historia, en cada barra el nombre completo del pais, longitud de cada barra, total de medallas obtenidas por pais"
   ]
  },
  {
   "cell_type": "markdown",
   "id": "d1e37b13-aeb4-4d7c-97eb-7df8126af742",
   "metadata": {},
   "source": [
    "##### Guardar codigos NOC en Dataframe"
   ]
  },
  {
   "cell_type": "code",
   "execution_count": 15,
   "id": "83ce840a-c0c5-4bf2-9b74-9a5205169368",
   "metadata": {
    "tags": []
   },
   "outputs": [
    {
     "data": {
      "text/html": [
       "<div>\n",
       "<style scoped>\n",
       "    .dataframe tbody tr th:only-of-type {\n",
       "        vertical-align: middle;\n",
       "    }\n",
       "\n",
       "    .dataframe tbody tr th {\n",
       "        vertical-align: top;\n",
       "    }\n",
       "\n",
       "    .dataframe thead th {\n",
       "        text-align: right;\n",
       "    }\n",
       "</style>\n",
       "<table border=\"1\" class=\"dataframe\">\n",
       "  <thead>\n",
       "    <tr style=\"text-align: right;\">\n",
       "      <th></th>\n",
       "      <th>NOC</th>\n",
       "      <th>region</th>\n",
       "      <th>notes</th>\n",
       "    </tr>\n",
       "  </thead>\n",
       "  <tbody>\n",
       "    <tr>\n",
       "      <th>194</th>\n",
       "      <td>SWZ</td>\n",
       "      <td>Swaziland</td>\n",
       "      <td>NaN</td>\n",
       "    </tr>\n",
       "    <tr>\n",
       "      <th>51</th>\n",
       "      <td>CRT</td>\n",
       "      <td>Greece</td>\n",
       "      <td>Crete</td>\n",
       "    </tr>\n",
       "    <tr>\n",
       "      <th>88</th>\n",
       "      <td>HKG</td>\n",
       "      <td>China</td>\n",
       "      <td>Hong Kong</td>\n",
       "    </tr>\n",
       "    <tr>\n",
       "      <th>219</th>\n",
       "      <td>VEN</td>\n",
       "      <td>Venezuela</td>\n",
       "      <td>NaN</td>\n",
       "    </tr>\n",
       "    <tr>\n",
       "      <th>44</th>\n",
       "      <td>COD</td>\n",
       "      <td>Democratic Republic of the Congo</td>\n",
       "      <td>NaN</td>\n",
       "    </tr>\n",
       "  </tbody>\n",
       "</table>\n",
       "</div>"
      ],
      "text/plain": [
       "     NOC                            region      notes\n",
       "194  SWZ                         Swaziland        NaN\n",
       "51   CRT                            Greece      Crete\n",
       "88   HKG                             China  Hong Kong\n",
       "219  VEN                         Venezuela        NaN\n",
       "44   COD  Democratic Republic of the Congo        NaN"
      ]
     },
     "execution_count": 15,
     "metadata": {},
     "output_type": "execute_result"
    }
   ],
   "source": [
    "noc_route = os.path.join(\"res\",\"120_years_olympic_history\",\"noc_regions.csv\")\n",
    "\n",
    "noc = pd.read_csv(noc_route, engine=\"python\", header=0)\n",
    "\n",
    "noc.sample(5)\n"
   ]
  },
  {
   "cell_type": "markdown",
   "id": "d266a6ec-a631-4bd3-88b5-94caa10cb0f8",
   "metadata": {},
   "source": [
    "##### Unir los DataFrame de noc y olympic history\n",
    "##### Se eliminan la columna NOC y notes para que quede el dataframe solo con el nombre del pais y las medallas."
   ]
  },
  {
   "cell_type": "code",
   "execution_count": 16,
   "id": "c29c638c-5030-4d6f-90ad-cef7d782f9ec",
   "metadata": {
    "tags": []
   },
   "outputs": [
    {
     "data": {
      "text/html": [
       "<div>\n",
       "<style scoped>\n",
       "    .dataframe tbody tr th:only-of-type {\n",
       "        vertical-align: middle;\n",
       "    }\n",
       "\n",
       "    .dataframe tbody tr th {\n",
       "        vertical-align: top;\n",
       "    }\n",
       "\n",
       "    .dataframe thead th {\n",
       "        text-align: right;\n",
       "    }\n",
       "</style>\n",
       "<table border=\"1\" class=\"dataframe\">\n",
       "  <thead>\n",
       "    <tr style=\"text-align: right;\">\n",
       "      <th></th>\n",
       "      <th>Medal</th>\n",
       "      <th>Country</th>\n",
       "    </tr>\n",
       "  </thead>\n",
       "  <tbody>\n",
       "    <tr>\n",
       "      <th>266571</th>\n",
       "      <td>NaN</td>\n",
       "      <td>South Korea</td>\n",
       "    </tr>\n",
       "    <tr>\n",
       "      <th>209788</th>\n",
       "      <td>NaN</td>\n",
       "      <td>UK</td>\n",
       "    </tr>\n",
       "    <tr>\n",
       "      <th>250357</th>\n",
       "      <td>NaN</td>\n",
       "      <td>Romania</td>\n",
       "    </tr>\n",
       "    <tr>\n",
       "      <th>4864</th>\n",
       "      <td>NaN</td>\n",
       "      <td>Germany</td>\n",
       "    </tr>\n",
       "    <tr>\n",
       "      <th>21006</th>\n",
       "      <td>NaN</td>\n",
       "      <td>Netherlands</td>\n",
       "    </tr>\n",
       "  </tbody>\n",
       "</table>\n",
       "</div>"
      ],
      "text/plain": [
       "       Medal      Country\n",
       "266571   NaN  South Korea\n",
       "209788   NaN           UK\n",
       "250357   NaN      Romania\n",
       "4864     NaN      Germany\n",
       "21006    NaN  Netherlands"
      ]
     },
     "execution_count": 16,
     "metadata": {},
     "output_type": "execute_result"
    }
   ],
   "source": [
    "medal_countries = olympic_history[[\"NOC\", \"Medal\"]].merge(noc, on=[\"NOC\"], how=\"left\").drop([\"NOC\", \"notes\"], axis=1)\n",
    "medal_countries.rename(columns={\"region\":\"Country\"}, inplace=True)\n",
    "medal_countries.sample(5)"
   ]
  },
  {
   "cell_type": "markdown",
   "id": "5071cebb-ad93-4ed0-b725-7f32895d44b1",
   "metadata": {},
   "source": [
    "##### Agrupar por nombre de Pais y sortear de mayor a menor el conteo de las medallas."
   ]
  },
  {
   "cell_type": "code",
   "execution_count": 17,
   "id": "1cb0d95f-dac4-49aa-952b-ac6807dd2701",
   "metadata": {
    "tags": []
   },
   "outputs": [
    {
     "data": {
      "text/html": [
       "<div>\n",
       "<style scoped>\n",
       "    .dataframe tbody tr th:only-of-type {\n",
       "        vertical-align: middle;\n",
       "    }\n",
       "\n",
       "    .dataframe tbody tr th {\n",
       "        vertical-align: top;\n",
       "    }\n",
       "\n",
       "    .dataframe thead th {\n",
       "        text-align: right;\n",
       "    }\n",
       "</style>\n",
       "<table border=\"1\" class=\"dataframe\">\n",
       "  <thead>\n",
       "    <tr style=\"text-align: right;\">\n",
       "      <th></th>\n",
       "      <th>Country</th>\n",
       "      <th>Medal</th>\n",
       "    </tr>\n",
       "  </thead>\n",
       "  <tbody>\n",
       "    <tr>\n",
       "      <th>191</th>\n",
       "      <td>USA</td>\n",
       "      <td>5637</td>\n",
       "    </tr>\n",
       "    <tr>\n",
       "      <th>151</th>\n",
       "      <td>Russia</td>\n",
       "      <td>3947</td>\n",
       "    </tr>\n",
       "    <tr>\n",
       "      <th>67</th>\n",
       "      <td>Germany</td>\n",
       "      <td>3756</td>\n",
       "    </tr>\n",
       "    <tr>\n",
       "      <th>190</th>\n",
       "      <td>UK</td>\n",
       "      <td>2068</td>\n",
       "    </tr>\n",
       "    <tr>\n",
       "      <th>63</th>\n",
       "      <td>France</td>\n",
       "      <td>1777</td>\n",
       "    </tr>\n",
       "  </tbody>\n",
       "</table>\n",
       "</div>"
      ],
      "text/plain": [
       "     Country  Medal\n",
       "191      USA   5637\n",
       "151   Russia   3947\n",
       "67   Germany   3756\n",
       "190       UK   2068\n",
       "63    France   1777"
      ]
     },
     "execution_count": 17,
     "metadata": {},
     "output_type": "execute_result"
    }
   ],
   "source": [
    "medal_countries_grouped = medal_countries.groupby(\"Country\").count().reset_index().sort_values(by=[\"Medal\"],ascending=False)\n",
    "\n",
    "medal_countries_grouped.head(5)"
   ]
  },
  {
   "cell_type": "markdown",
   "id": "8bfbdc70-4a01-4d19-9f8c-5a245ca049f1",
   "metadata": {},
   "source": [
    "##### Usar slicing para obtener los 50 paises con mas medallas"
   ]
  },
  {
   "cell_type": "code",
   "execution_count": 18,
   "id": "347b8dc1-f7c6-4059-9d4d-605d1a42bf1b",
   "metadata": {
    "tags": []
   },
   "outputs": [
    {
     "data": {
      "text/html": [
       "<div>\n",
       "<style scoped>\n",
       "    .dataframe tbody tr th:only-of-type {\n",
       "        vertical-align: middle;\n",
       "    }\n",
       "\n",
       "    .dataframe tbody tr th {\n",
       "        vertical-align: top;\n",
       "    }\n",
       "\n",
       "    .dataframe thead th {\n",
       "        text-align: right;\n",
       "    }\n",
       "</style>\n",
       "<table border=\"1\" class=\"dataframe\">\n",
       "  <thead>\n",
       "    <tr style=\"text-align: right;\">\n",
       "      <th></th>\n",
       "      <th>Country</th>\n",
       "      <th>Medal</th>\n",
       "    </tr>\n",
       "  </thead>\n",
       "  <tbody>\n",
       "    <tr>\n",
       "      <th>0</th>\n",
       "      <td>USA</td>\n",
       "      <td>5637</td>\n",
       "    </tr>\n",
       "    <tr>\n",
       "      <th>1</th>\n",
       "      <td>Russia</td>\n",
       "      <td>3947</td>\n",
       "    </tr>\n",
       "    <tr>\n",
       "      <th>2</th>\n",
       "      <td>Germany</td>\n",
       "      <td>3756</td>\n",
       "    </tr>\n",
       "    <tr>\n",
       "      <th>3</th>\n",
       "      <td>UK</td>\n",
       "      <td>2068</td>\n",
       "    </tr>\n",
       "    <tr>\n",
       "      <th>4</th>\n",
       "      <td>France</td>\n",
       "      <td>1777</td>\n",
       "    </tr>\n",
       "    <tr>\n",
       "      <th>5</th>\n",
       "      <td>Italy</td>\n",
       "      <td>1637</td>\n",
       "    </tr>\n",
       "    <tr>\n",
       "      <th>6</th>\n",
       "      <td>Sweden</td>\n",
       "      <td>1536</td>\n",
       "    </tr>\n",
       "    <tr>\n",
       "      <th>7</th>\n",
       "      <td>Canada</td>\n",
       "      <td>1352</td>\n",
       "    </tr>\n",
       "    <tr>\n",
       "      <th>8</th>\n",
       "      <td>Australia</td>\n",
       "      <td>1349</td>\n",
       "    </tr>\n",
       "    <tr>\n",
       "      <th>9</th>\n",
       "      <td>Hungary</td>\n",
       "      <td>1135</td>\n",
       "    </tr>\n",
       "    <tr>\n",
       "      <th>10</th>\n",
       "      <td>Netherlands</td>\n",
       "      <td>1040</td>\n",
       "    </tr>\n",
       "    <tr>\n",
       "      <th>11</th>\n",
       "      <td>Norway</td>\n",
       "      <td>1033</td>\n",
       "    </tr>\n",
       "    <tr>\n",
       "      <th>12</th>\n",
       "      <td>China</td>\n",
       "      <td>993</td>\n",
       "    </tr>\n",
       "    <tr>\n",
       "      <th>13</th>\n",
       "      <td>Japan</td>\n",
       "      <td>913</td>\n",
       "    </tr>\n",
       "    <tr>\n",
       "      <th>14</th>\n",
       "      <td>Finland</td>\n",
       "      <td>900</td>\n",
       "    </tr>\n",
       "    <tr>\n",
       "      <th>15</th>\n",
       "      <td>Switzerland</td>\n",
       "      <td>691</td>\n",
       "    </tr>\n",
       "    <tr>\n",
       "      <th>16</th>\n",
       "      <td>Romania</td>\n",
       "      <td>653</td>\n",
       "    </tr>\n",
       "    <tr>\n",
       "      <th>17</th>\n",
       "      <td>Czech Republic</td>\n",
       "      <td>644</td>\n",
       "    </tr>\n",
       "    <tr>\n",
       "      <th>18</th>\n",
       "      <td>South Korea</td>\n",
       "      <td>638</td>\n",
       "    </tr>\n",
       "    <tr>\n",
       "      <th>19</th>\n",
       "      <td>Denmark</td>\n",
       "      <td>597</td>\n",
       "    </tr>\n",
       "    <tr>\n",
       "      <th>20</th>\n",
       "      <td>Poland</td>\n",
       "      <td>565</td>\n",
       "    </tr>\n",
       "    <tr>\n",
       "      <th>21</th>\n",
       "      <td>Serbia</td>\n",
       "      <td>539</td>\n",
       "    </tr>\n",
       "    <tr>\n",
       "      <th>22</th>\n",
       "      <td>Spain</td>\n",
       "      <td>489</td>\n",
       "    </tr>\n",
       "    <tr>\n",
       "      <th>23</th>\n",
       "      <td>Brazil</td>\n",
       "      <td>475</td>\n",
       "    </tr>\n",
       "    <tr>\n",
       "      <th>24</th>\n",
       "      <td>Belgium</td>\n",
       "      <td>468</td>\n",
       "    </tr>\n",
       "    <tr>\n",
       "      <th>25</th>\n",
       "      <td>Austria</td>\n",
       "      <td>450</td>\n",
       "    </tr>\n",
       "    <tr>\n",
       "      <th>26</th>\n",
       "      <td>Cuba</td>\n",
       "      <td>409</td>\n",
       "    </tr>\n",
       "    <tr>\n",
       "      <th>27</th>\n",
       "      <td>Bulgaria</td>\n",
       "      <td>342</td>\n",
       "    </tr>\n",
       "    <tr>\n",
       "      <th>28</th>\n",
       "      <td>Argentina</td>\n",
       "      <td>274</td>\n",
       "    </tr>\n",
       "    <tr>\n",
       "      <th>29</th>\n",
       "      <td>Greece</td>\n",
       "      <td>255</td>\n",
       "    </tr>\n",
       "    <tr>\n",
       "      <th>30</th>\n",
       "      <td>New Zealand</td>\n",
       "      <td>228</td>\n",
       "    </tr>\n",
       "    <tr>\n",
       "      <th>31</th>\n",
       "      <td>Ukraine</td>\n",
       "      <td>199</td>\n",
       "    </tr>\n",
       "    <tr>\n",
       "      <th>32</th>\n",
       "      <td>India</td>\n",
       "      <td>197</td>\n",
       "    </tr>\n",
       "    <tr>\n",
       "      <th>33</th>\n",
       "      <td>Jamaica</td>\n",
       "      <td>157</td>\n",
       "    </tr>\n",
       "    <tr>\n",
       "      <th>34</th>\n",
       "      <td>Croatia</td>\n",
       "      <td>149</td>\n",
       "    </tr>\n",
       "    <tr>\n",
       "      <th>35</th>\n",
       "      <td>Belarus</td>\n",
       "      <td>139</td>\n",
       "    </tr>\n",
       "    <tr>\n",
       "      <th>36</th>\n",
       "      <td>South Africa</td>\n",
       "      <td>131</td>\n",
       "    </tr>\n",
       "    <tr>\n",
       "      <th>37</th>\n",
       "      <td>Pakistan</td>\n",
       "      <td>121</td>\n",
       "    </tr>\n",
       "    <tr>\n",
       "      <th>38</th>\n",
       "      <td>Mexico</td>\n",
       "      <td>110</td>\n",
       "    </tr>\n",
       "    <tr>\n",
       "      <th>39</th>\n",
       "      <td>Kenya</td>\n",
       "      <td>106</td>\n",
       "    </tr>\n",
       "    <tr>\n",
       "      <th>40</th>\n",
       "      <td>Nigeria</td>\n",
       "      <td>99</td>\n",
       "    </tr>\n",
       "    <tr>\n",
       "      <th>41</th>\n",
       "      <td>Turkey</td>\n",
       "      <td>95</td>\n",
       "    </tr>\n",
       "    <tr>\n",
       "      <th>42</th>\n",
       "      <td>Kazakhstan</td>\n",
       "      <td>77</td>\n",
       "    </tr>\n",
       "    <tr>\n",
       "      <th>43</th>\n",
       "      <td>Iran</td>\n",
       "      <td>68</td>\n",
       "    </tr>\n",
       "    <tr>\n",
       "      <th>44</th>\n",
       "      <td>North Korea</td>\n",
       "      <td>67</td>\n",
       "    </tr>\n",
       "    <tr>\n",
       "      <th>45</th>\n",
       "      <td>Uruguay</td>\n",
       "      <td>63</td>\n",
       "    </tr>\n",
       "    <tr>\n",
       "      <th>46</th>\n",
       "      <td>Lithuania</td>\n",
       "      <td>61</td>\n",
       "    </tr>\n",
       "    <tr>\n",
       "      <th>47</th>\n",
       "      <td>Ethiopia</td>\n",
       "      <td>53</td>\n",
       "    </tr>\n",
       "    <tr>\n",
       "      <th>48</th>\n",
       "      <td>Estonia</td>\n",
       "      <td>50</td>\n",
       "    </tr>\n",
       "    <tr>\n",
       "      <th>49</th>\n",
       "      <td>Taiwan</td>\n",
       "      <td>49</td>\n",
       "    </tr>\n",
       "  </tbody>\n",
       "</table>\n",
       "</div>"
      ],
      "text/plain": [
       "           Country  Medal\n",
       "0              USA   5637\n",
       "1           Russia   3947\n",
       "2          Germany   3756\n",
       "3               UK   2068\n",
       "4           France   1777\n",
       "5            Italy   1637\n",
       "6           Sweden   1536\n",
       "7           Canada   1352\n",
       "8        Australia   1349\n",
       "9          Hungary   1135\n",
       "10     Netherlands   1040\n",
       "11          Norway   1033\n",
       "12           China    993\n",
       "13           Japan    913\n",
       "14         Finland    900\n",
       "15     Switzerland    691\n",
       "16         Romania    653\n",
       "17  Czech Republic    644\n",
       "18     South Korea    638\n",
       "19         Denmark    597\n",
       "20          Poland    565\n",
       "21          Serbia    539\n",
       "22           Spain    489\n",
       "23          Brazil    475\n",
       "24         Belgium    468\n",
       "25         Austria    450\n",
       "26            Cuba    409\n",
       "27        Bulgaria    342\n",
       "28       Argentina    274\n",
       "29          Greece    255\n",
       "30     New Zealand    228\n",
       "31         Ukraine    199\n",
       "32           India    197\n",
       "33         Jamaica    157\n",
       "34         Croatia    149\n",
       "35         Belarus    139\n",
       "36    South Africa    131\n",
       "37        Pakistan    121\n",
       "38          Mexico    110\n",
       "39           Kenya    106\n",
       "40         Nigeria     99\n",
       "41          Turkey     95\n",
       "42      Kazakhstan     77\n",
       "43            Iran     68\n",
       "44     North Korea     67\n",
       "45         Uruguay     63\n",
       "46       Lithuania     61\n",
       "47        Ethiopia     53\n",
       "48         Estonia     50\n",
       "49          Taiwan     49"
      ]
     },
     "metadata": {},
     "output_type": "display_data"
    }
   ],
   "source": [
    "top_50 = medal_countries_grouped[:50].reset_index(drop=True)\n",
    "\n",
    "display(top_50)"
   ]
  },
  {
   "cell_type": "markdown",
   "id": "0d0aa81e-0af6-4732-827a-64db0d461de3",
   "metadata": {},
   "source": [
    "##### Crear grafico de barras"
   ]
  },
  {
   "cell_type": "code",
   "execution_count": 19,
   "id": "7e7d7f55-5142-494e-b666-4b99e25732f3",
   "metadata": {
    "tags": []
   },
   "outputs": [
    {
     "data": {
      "image/png": "[encoded data removed]",
      "text/plain": [
       "<Figure size 1500x1500 with 1 Axes>"
      ]
     },
     "metadata": {},
     "output_type": "display_data"
    }
   ],
   "source": [
    "top_50_plot = sns.barplot(data=top_50, \n",
    "                          x=\"Medal\", \n",
    "                          y=\"Country\",\n",
    "                          orient=\"h\",\n",
    "                          palette=\"magma\"\n",
    "                          )\n",
    "\n",
    "#Modificar parametros del grafico para hacerlo mas presentable\n",
    "top_50_plot.figure.set_figwidth(15)\n",
    "top_50_plot.figure.set_figheight(15)\n",
    "top_50_plot.set_title(\"Top 50 Countries with more medals\", fontsize=20)\n",
    "top_50_plot.set_xlabel(\"Years\", fontsize=15)\n",
    "top_50_plot.set_ylabel(\"Countries\", fontsize=15)\n",
    "top_50_plot.bar_label(top_50_plot.containers[0])\n",
    "plt.tight_layout()\n",
    "\n",
    "#Mostrar grafico\n",
    "plt.show()"
   ]
  },
  {
   "cell_type": "markdown",
   "id": "7918d9b7",
   "metadata": {
    "tags": []
   },
   "source": [
    "### A3 - Machine Learning - 45%\n",
    "\n",
    "- Crear un modelo capaz de predecir el tiempo que va a hacer un atleta en la prueba de los 100 metros lisos, en función de su edad, sexo, peso y altura.\n",
    "![model](res/model.png)"
   ]
  },
  {
   "cell_type": "markdown",
   "id": "e9747dba-6631-4259-87f2-f65a136980c3",
   "metadata": {
    "tags": []
   },
   "source": [
    "### Preparar los datos para el modelo.\n",
    "\n",
    "##### Para obtener la edad, sexo, peso, altura y el tiempo de los atletas se deben unir los dos dataframe olympic_history que contiene los datos del atleta y olympic_track_field que contiene el tiempo que hizo cada uno."
   ]
  },
  {
   "cell_type": "markdown",
   "id": "62c226f9-c8e0-422d-bb5b-94876b40d816",
   "metadata": {},
   "source": [
    "##### Se filtran de los dos dataset olympic_track_field y olympic_history los participantes de 100 metros lisos\n",
    "##### Para obtener los filtros con los que filtrar cada dataset, busque a mano como estaban escrito en cada uno"
   ]
  },
  {
   "cell_type": "code",
   "execution_count": 20,
   "id": "122fafe6-6b69-4f1f-a381-2120ef02f249",
   "metadata": {
    "tags": []
   },
   "outputs": [],
   "source": [
    "athletes_100_meters= olympic_history[(olympic_history[\"Event\"] ==\"Athletics Men's 100 metres\") | \n",
    "                                     (olympic_history[\"Event\"] ==\"Athletics Women's 100 metres\")].reset_index(drop=True)\n",
    " \n",
    "results_100_meters = olympic_track_field[(olympic_track_field[\"Event\"] == \"100M Men\") | \n",
    "                                         (olympic_track_field[\"Event\"] == \"100M Women\")].reset_index(drop=True)"
   ]
  },
  {
   "cell_type": "code",
   "execution_count": 21,
   "id": "7d804be8-b64e-4b16-9a46-309023586158",
   "metadata": {
    "tags": []
   },
   "outputs": [
    {
     "data": {
      "text/html": [
       "<div>\n",
       "<style scoped>\n",
       "    .dataframe tbody tr th:only-of-type {\n",
       "        vertical-align: middle;\n",
       "    }\n",
       "\n",
       "    .dataframe tbody tr th {\n",
       "        vertical-align: top;\n",
       "    }\n",
       "\n",
       "    .dataframe thead th {\n",
       "        text-align: right;\n",
       "    }\n",
       "</style>\n",
       "<table border=\"1\" class=\"dataframe\">\n",
       "  <thead>\n",
       "    <tr style=\"text-align: right;\">\n",
       "      <th></th>\n",
       "      <th>ID</th>\n",
       "      <th>Name</th>\n",
       "      <th>Sex</th>\n",
       "      <th>Age</th>\n",
       "      <th>Height</th>\n",
       "      <th>Weight</th>\n",
       "      <th>Team</th>\n",
       "      <th>NOC</th>\n",
       "      <th>Games</th>\n",
       "      <th>Year</th>\n",
       "      <th>Season</th>\n",
       "      <th>City</th>\n",
       "      <th>Sport</th>\n",
       "      <th>Event</th>\n",
       "      <th>Medal</th>\n",
       "    </tr>\n",
       "  </thead>\n",
       "  <tbody>\n",
       "    <tr>\n",
       "      <th>0</th>\n",
       "      <td>8</td>\n",
       "      <td>Cornelia \"Cor\" Aalten (-Strannood)</td>\n",
       "      <td>F</td>\n",
       "      <td>18.0</td>\n",
       "      <td>168.0</td>\n",
       "      <td>NaN</td>\n",
       "      <td>Netherlands</td>\n",
       "      <td>NED</td>\n",
       "      <td>1932 Summer</td>\n",
       "      <td>1932</td>\n",
       "      <td>Summer</td>\n",
       "      <td>Los Angeles</td>\n",
       "      <td>Athletics</td>\n",
       "      <td>Athletics Women's 100 metres</td>\n",
       "      <td>NaN</td>\n",
       "    </tr>\n",
       "    <tr>\n",
       "      <th>1</th>\n",
       "      <td>96</td>\n",
       "      <td>Carlos Rodolfo Abaunza Balladares</td>\n",
       "      <td>M</td>\n",
       "      <td>18.0</td>\n",
       "      <td>168.0</td>\n",
       "      <td>60.0</td>\n",
       "      <td>Nicaragua</td>\n",
       "      <td>NCA</td>\n",
       "      <td>2004 Summer</td>\n",
       "      <td>2004</td>\n",
       "      <td>Summer</td>\n",
       "      <td>Athina</td>\n",
       "      <td>Athletics</td>\n",
       "      <td>Athletics Men's 100 metres</td>\n",
       "      <td>NaN</td>\n",
       "    </tr>\n",
       "    <tr>\n",
       "      <th>2</th>\n",
       "      <td>104</td>\n",
       "      <td>Gana Abba Kimet</td>\n",
       "      <td>M</td>\n",
       "      <td>26.0</td>\n",
       "      <td>NaN</td>\n",
       "      <td>NaN</td>\n",
       "      <td>Chad</td>\n",
       "      <td>CHA</td>\n",
       "      <td>1972 Summer</td>\n",
       "      <td>1972</td>\n",
       "      <td>Summer</td>\n",
       "      <td>Munich</td>\n",
       "      <td>Athletics</td>\n",
       "      <td>Athletics Men's 100 metres</td>\n",
       "      <td>NaN</td>\n",
       "    </tr>\n",
       "    <tr>\n",
       "      <th>3</th>\n",
       "      <td>129</td>\n",
       "      <td>Ruslan Abbasov</td>\n",
       "      <td>M</td>\n",
       "      <td>22.0</td>\n",
       "      <td>181.0</td>\n",
       "      <td>74.0</td>\n",
       "      <td>Azerbaijan</td>\n",
       "      <td>AZE</td>\n",
       "      <td>2008 Summer</td>\n",
       "      <td>2008</td>\n",
       "      <td>Summer</td>\n",
       "      <td>Beijing</td>\n",
       "      <td>Athletics</td>\n",
       "      <td>Athletics Men's 100 metres</td>\n",
       "      <td>NaN</td>\n",
       "    </tr>\n",
       "    <tr>\n",
       "      <th>4</th>\n",
       "      <td>168</td>\n",
       "      <td>Younis Abdallah Rabee</td>\n",
       "      <td>M</td>\n",
       "      <td>23.0</td>\n",
       "      <td>169.0</td>\n",
       "      <td>68.0</td>\n",
       "      <td>Kuwait</td>\n",
       "      <td>KUW</td>\n",
       "      <td>1972 Summer</td>\n",
       "      <td>1972</td>\n",
       "      <td>Summer</td>\n",
       "      <td>Munich</td>\n",
       "      <td>Athletics</td>\n",
       "      <td>Athletics Men's 100 metres</td>\n",
       "      <td>NaN</td>\n",
       "    </tr>\n",
       "  </tbody>\n",
       "</table>\n",
       "</div>"
      ],
      "text/plain": [
       "    ID                                Name Sex   Age  Height  Weight  \\\n",
       "0    8  Cornelia \"Cor\" Aalten (-Strannood)   F  18.0   168.0     NaN   \n",
       "1   96   Carlos Rodolfo Abaunza Balladares   M  18.0   168.0    60.0   \n",
       "2  104                     Gana Abba Kimet   M  26.0     NaN     NaN   \n",
       "3  129                      Ruslan Abbasov   M  22.0   181.0    74.0   \n",
       "4  168               Younis Abdallah Rabee   M  23.0   169.0    68.0   \n",
       "\n",
       "          Team  NOC        Games  Year  Season         City      Sport  \\\n",
       "0  Netherlands  NED  1932 Summer  1932  Summer  Los Angeles  Athletics   \n",
       "1    Nicaragua  NCA  2004 Summer  2004  Summer       Athina  Athletics   \n",
       "2         Chad  CHA  1972 Summer  1972  Summer       Munich  Athletics   \n",
       "3   Azerbaijan  AZE  2008 Summer  2008  Summer      Beijing  Athletics   \n",
       "4       Kuwait  KUW  1972 Summer  1972  Summer       Munich  Athletics   \n",
       "\n",
       "                          Event Medal  \n",
       "0  Athletics Women's 100 metres   NaN  \n",
       "1    Athletics Men's 100 metres   NaN  \n",
       "2    Athletics Men's 100 metres   NaN  \n",
       "3    Athletics Men's 100 metres   NaN  \n",
       "4    Athletics Men's 100 metres   NaN  "
      ]
     },
     "execution_count": 21,
     "metadata": {},
     "output_type": "execute_result"
    }
   ],
   "source": [
    "athletes_100_meters.head(5)"
   ]
  },
  {
   "cell_type": "code",
   "execution_count": 22,
   "id": "b6466bb3-6d84-47c1-8bd3-b2fff79c78b7",
   "metadata": {
    "tags": []
   },
   "outputs": [
    {
     "data": {
      "text/html": [
       "<div>\n",
       "<style scoped>\n",
       "    .dataframe tbody tr th:only-of-type {\n",
       "        vertical-align: middle;\n",
       "    }\n",
       "\n",
       "    .dataframe tbody tr th {\n",
       "        vertical-align: top;\n",
       "    }\n",
       "\n",
       "    .dataframe thead th {\n",
       "        text-align: right;\n",
       "    }\n",
       "</style>\n",
       "<table border=\"1\" class=\"dataframe\">\n",
       "  <thead>\n",
       "    <tr style=\"text-align: right;\">\n",
       "      <th></th>\n",
       "      <th>Gender</th>\n",
       "      <th>Event</th>\n",
       "      <th>Location</th>\n",
       "      <th>Year</th>\n",
       "      <th>Medal</th>\n",
       "      <th>Name</th>\n",
       "      <th>Nationality</th>\n",
       "      <th>Result</th>\n",
       "    </tr>\n",
       "  </thead>\n",
       "  <tbody>\n",
       "    <tr>\n",
       "      <th>0</th>\n",
       "      <td>M</td>\n",
       "      <td>100M Men</td>\n",
       "      <td>Rio</td>\n",
       "      <td>2016</td>\n",
       "      <td>G</td>\n",
       "      <td>Usain BOLT</td>\n",
       "      <td>JAM</td>\n",
       "      <td>9.81</td>\n",
       "    </tr>\n",
       "    <tr>\n",
       "      <th>1</th>\n",
       "      <td>M</td>\n",
       "      <td>100M Men</td>\n",
       "      <td>Rio</td>\n",
       "      <td>2016</td>\n",
       "      <td>S</td>\n",
       "      <td>Justin GATLIN</td>\n",
       "      <td>USA</td>\n",
       "      <td>9.89</td>\n",
       "    </tr>\n",
       "    <tr>\n",
       "      <th>2</th>\n",
       "      <td>M</td>\n",
       "      <td>100M Men</td>\n",
       "      <td>Rio</td>\n",
       "      <td>2016</td>\n",
       "      <td>B</td>\n",
       "      <td>Andre DE GRASSE</td>\n",
       "      <td>CAN</td>\n",
       "      <td>9.91</td>\n",
       "    </tr>\n",
       "    <tr>\n",
       "      <th>3</th>\n",
       "      <td>M</td>\n",
       "      <td>100M Men</td>\n",
       "      <td>Beijing</td>\n",
       "      <td>2008</td>\n",
       "      <td>G</td>\n",
       "      <td>Usain BOLT</td>\n",
       "      <td>JAM</td>\n",
       "      <td>9.69</td>\n",
       "    </tr>\n",
       "    <tr>\n",
       "      <th>4</th>\n",
       "      <td>M</td>\n",
       "      <td>100M Men</td>\n",
       "      <td>Beijing</td>\n",
       "      <td>2008</td>\n",
       "      <td>S</td>\n",
       "      <td>Richard THOMPSON</td>\n",
       "      <td>TTO</td>\n",
       "      <td>9.89</td>\n",
       "    </tr>\n",
       "  </tbody>\n",
       "</table>\n",
       "</div>"
      ],
      "text/plain": [
       "  Gender     Event Location  Year Medal              Name Nationality Result\n",
       "0      M  100M Men      Rio  2016     G        Usain BOLT         JAM   9.81\n",
       "1      M  100M Men      Rio  2016     S     Justin GATLIN         USA   9.89\n",
       "2      M  100M Men      Rio  2016     B   Andre DE GRASSE         CAN   9.91\n",
       "3      M  100M Men  Beijing  2008     G        Usain BOLT         JAM   9.69\n",
       "4      M  100M Men  Beijing  2008     S  Richard THOMPSON         TTO   9.89"
      ]
     },
     "execution_count": 22,
     "metadata": {},
     "output_type": "execute_result"
    }
   ],
   "source": [
    "results_100_meters.head(5)"
   ]
  },
  {
   "cell_type": "markdown",
   "id": "424833d9-4da2-4e97-aa19-b5bf51d05e6c",
   "metadata": {},
   "source": [
    "##### Solo tenemos el tiempo de los ganadores de medalla, asi que se eliminan los participantes que no tienen medalla en athletes_100_meters"
   ]
  },
  {
   "cell_type": "code",
   "execution_count": 23,
   "id": "19865c99-fb58-4643-a545-3d32c7531478",
   "metadata": {},
   "outputs": [
    {
     "data": {
      "text/html": [
       "<div>\n",
       "<style scoped>\n",
       "    .dataframe tbody tr th:only-of-type {\n",
       "        vertical-align: middle;\n",
       "    }\n",
       "\n",
       "    .dataframe tbody tr th {\n",
       "        vertical-align: top;\n",
       "    }\n",
       "\n",
       "    .dataframe thead th {\n",
       "        text-align: right;\n",
       "    }\n",
       "</style>\n",
       "<table border=\"1\" class=\"dataframe\">\n",
       "  <thead>\n",
       "    <tr style=\"text-align: right;\">\n",
       "      <th></th>\n",
       "      <th>ID</th>\n",
       "      <th>Name</th>\n",
       "      <th>Sex</th>\n",
       "      <th>Age</th>\n",
       "      <th>Height</th>\n",
       "      <th>Weight</th>\n",
       "      <th>Team</th>\n",
       "      <th>NOC</th>\n",
       "      <th>Games</th>\n",
       "      <th>Year</th>\n",
       "      <th>Season</th>\n",
       "      <th>City</th>\n",
       "      <th>Sport</th>\n",
       "      <th>Event</th>\n",
       "      <th>Medal</th>\n",
       "    </tr>\n",
       "  </thead>\n",
       "  <tbody>\n",
       "    <tr>\n",
       "      <th>0</th>\n",
       "      <td>519</td>\n",
       "      <td>Harold Maurice Abrahams</td>\n",
       "      <td>M</td>\n",
       "      <td>24.0</td>\n",
       "      <td>183.0</td>\n",
       "      <td>75.0</td>\n",
       "      <td>Great Britain</td>\n",
       "      <td>GBR</td>\n",
       "      <td>1924 Summer</td>\n",
       "      <td>1924</td>\n",
       "      <td>Summer</td>\n",
       "      <td>Paris</td>\n",
       "      <td>Athletics</td>\n",
       "      <td>Athletics Men's 100 metres</td>\n",
       "      <td>Gold</td>\n",
       "    </tr>\n",
       "    <tr>\n",
       "      <th>1</th>\n",
       "      <td>5547</td>\n",
       "      <td>Evelyn Ashford (-Washington)</td>\n",
       "      <td>F</td>\n",
       "      <td>27.0</td>\n",
       "      <td>165.0</td>\n",
       "      <td>52.0</td>\n",
       "      <td>United States</td>\n",
       "      <td>USA</td>\n",
       "      <td>1984 Summer</td>\n",
       "      <td>1984</td>\n",
       "      <td>Summer</td>\n",
       "      <td>Los Angeles</td>\n",
       "      <td>Athletics</td>\n",
       "      <td>Athletics Women's 100 metres</td>\n",
       "      <td>Gold</td>\n",
       "    </tr>\n",
       "    <tr>\n",
       "      <th>2</th>\n",
       "      <td>5547</td>\n",
       "      <td>Evelyn Ashford (-Washington)</td>\n",
       "      <td>F</td>\n",
       "      <td>31.0</td>\n",
       "      <td>165.0</td>\n",
       "      <td>52.0</td>\n",
       "      <td>United States</td>\n",
       "      <td>USA</td>\n",
       "      <td>1988 Summer</td>\n",
       "      <td>1988</td>\n",
       "      <td>Summer</td>\n",
       "      <td>Seoul</td>\n",
       "      <td>Athletics</td>\n",
       "      <td>Athletics Women's 100 metres</td>\n",
       "      <td>Silver</td>\n",
       "    </tr>\n",
       "    <tr>\n",
       "      <th>3</th>\n",
       "      <td>5930</td>\n",
       "      <td>Ingrid Auerswald-Lange (Brestrich-)</td>\n",
       "      <td>F</td>\n",
       "      <td>22.0</td>\n",
       "      <td>168.0</td>\n",
       "      <td>58.0</td>\n",
       "      <td>East Germany</td>\n",
       "      <td>GDR</td>\n",
       "      <td>1980 Summer</td>\n",
       "      <td>1980</td>\n",
       "      <td>Summer</td>\n",
       "      <td>Moskva</td>\n",
       "      <td>Athletics</td>\n",
       "      <td>Athletics Women's 100 metres</td>\n",
       "      <td>Bronze</td>\n",
       "    </tr>\n",
       "    <tr>\n",
       "      <th>4</th>\n",
       "      <td>6890</td>\n",
       "      <td>Donovan Bailey</td>\n",
       "      <td>M</td>\n",
       "      <td>28.0</td>\n",
       "      <td>183.0</td>\n",
       "      <td>82.0</td>\n",
       "      <td>Canada</td>\n",
       "      <td>CAN</td>\n",
       "      <td>1996 Summer</td>\n",
       "      <td>1996</td>\n",
       "      <td>Summer</td>\n",
       "      <td>Atlanta</td>\n",
       "      <td>Athletics</td>\n",
       "      <td>Athletics Men's 100 metres</td>\n",
       "      <td>Gold</td>\n",
       "    </tr>\n",
       "  </tbody>\n",
       "</table>\n",
       "</div>"
      ],
      "text/plain": [
       "     ID                                 Name Sex   Age  Height  Weight  \\\n",
       "0   519              Harold Maurice Abrahams   M  24.0   183.0    75.0   \n",
       "1  5547         Evelyn Ashford (-Washington)   F  27.0   165.0    52.0   \n",
       "2  5547         Evelyn Ashford (-Washington)   F  31.0   165.0    52.0   \n",
       "3  5930  Ingrid Auerswald-Lange (Brestrich-)   F  22.0   168.0    58.0   \n",
       "4  6890                       Donovan Bailey   M  28.0   183.0    82.0   \n",
       "\n",
       "            Team  NOC        Games  Year  Season         City      Sport  \\\n",
       "0  Great Britain  GBR  1924 Summer  1924  Summer        Paris  Athletics   \n",
       "1  United States  USA  1984 Summer  1984  Summer  Los Angeles  Athletics   \n",
       "2  United States  USA  1988 Summer  1988  Summer        Seoul  Athletics   \n",
       "3   East Germany  GDR  1980 Summer  1980  Summer       Moskva  Athletics   \n",
       "4         Canada  CAN  1996 Summer  1996  Summer      Atlanta  Athletics   \n",
       "\n",
       "                          Event   Medal  \n",
       "0    Athletics Men's 100 metres    Gold  \n",
       "1  Athletics Women's 100 metres    Gold  \n",
       "2  Athletics Women's 100 metres  Silver  \n",
       "3  Athletics Women's 100 metres  Bronze  \n",
       "4    Athletics Men's 100 metres    Gold  "
      ]
     },
     "execution_count": 23,
     "metadata": {},
     "output_type": "execute_result"
    }
   ],
   "source": [
    "athletes_100_meters = athletes_100_meters[athletes_100_meters[\"Medal\"].notnull()].reset_index(drop=True)\n",
    "\n",
    "athletes_100_meters.head()"
   ]
  },
  {
   "cell_type": "markdown",
   "id": "8eba26e4-52be-4540-8fba-938c056733a4",
   "metadata": {},
   "source": [
    "##### Se eliminan las columnas que no se van a usar de cada dataset"
   ]
  },
  {
   "cell_type": "code",
   "execution_count": 24,
   "id": "d21fa6f4-146b-40c3-9c51-1728804231b9",
   "metadata": {},
   "outputs": [],
   "source": [
    "athletes_100_meters = athletes_100_meters.drop(columns=[\"ID\",\"Name\",\"Team\",\"NOC\",\"Games\",\"Season\",\"City\",\"Sport\",\"Event\"])\n",
    "\n",
    "results_100_meters = results_100_meters.drop(columns=[\"Event\",\"Location\",\"Name\",\"Nationality\"])"
   ]
  },
  {
   "cell_type": "code",
   "execution_count": 25,
   "id": "ba4cc244-8029-4813-8d80-51b9a2124f8f",
   "metadata": {},
   "outputs": [
    {
     "data": {
      "text/html": [
       "<div>\n",
       "<style scoped>\n",
       "    .dataframe tbody tr th:only-of-type {\n",
       "        vertical-align: middle;\n",
       "    }\n",
       "\n",
       "    .dataframe tbody tr th {\n",
       "        vertical-align: top;\n",
       "    }\n",
       "\n",
       "    .dataframe thead th {\n",
       "        text-align: right;\n",
       "    }\n",
       "</style>\n",
       "<table border=\"1\" class=\"dataframe\">\n",
       "  <thead>\n",
       "    <tr style=\"text-align: right;\">\n",
       "      <th></th>\n",
       "      <th>Sex</th>\n",
       "      <th>Age</th>\n",
       "      <th>Height</th>\n",
       "      <th>Weight</th>\n",
       "      <th>Year</th>\n",
       "      <th>Medal</th>\n",
       "    </tr>\n",
       "  </thead>\n",
       "  <tbody>\n",
       "    <tr>\n",
       "      <th>0</th>\n",
       "      <td>M</td>\n",
       "      <td>24.0</td>\n",
       "      <td>183.0</td>\n",
       "      <td>75.0</td>\n",
       "      <td>1924</td>\n",
       "      <td>Gold</td>\n",
       "    </tr>\n",
       "    <tr>\n",
       "      <th>1</th>\n",
       "      <td>F</td>\n",
       "      <td>27.0</td>\n",
       "      <td>165.0</td>\n",
       "      <td>52.0</td>\n",
       "      <td>1984</td>\n",
       "      <td>Gold</td>\n",
       "    </tr>\n",
       "    <tr>\n",
       "      <th>2</th>\n",
       "      <td>F</td>\n",
       "      <td>31.0</td>\n",
       "      <td>165.0</td>\n",
       "      <td>52.0</td>\n",
       "      <td>1988</td>\n",
       "      <td>Silver</td>\n",
       "    </tr>\n",
       "    <tr>\n",
       "      <th>3</th>\n",
       "      <td>F</td>\n",
       "      <td>22.0</td>\n",
       "      <td>168.0</td>\n",
       "      <td>58.0</td>\n",
       "      <td>1980</td>\n",
       "      <td>Bronze</td>\n",
       "    </tr>\n",
       "    <tr>\n",
       "      <th>4</th>\n",
       "      <td>M</td>\n",
       "      <td>28.0</td>\n",
       "      <td>183.0</td>\n",
       "      <td>82.0</td>\n",
       "      <td>1996</td>\n",
       "      <td>Gold</td>\n",
       "    </tr>\n",
       "  </tbody>\n",
       "</table>\n",
       "</div>"
      ],
      "text/plain": [
       "  Sex   Age  Height  Weight  Year   Medal\n",
       "0   M  24.0   183.0    75.0  1924    Gold\n",
       "1   F  27.0   165.0    52.0  1984    Gold\n",
       "2   F  31.0   165.0    52.0  1988  Silver\n",
       "3   F  22.0   168.0    58.0  1980  Bronze\n",
       "4   M  28.0   183.0    82.0  1996    Gold"
      ]
     },
     "execution_count": 25,
     "metadata": {},
     "output_type": "execute_result"
    }
   ],
   "source": [
    "athletes_100_meters.head()"
   ]
  },
  {
   "cell_type": "code",
   "execution_count": 26,
   "id": "9bfb3423-2744-4f08-8608-25262d9a94d3",
   "metadata": {},
   "outputs": [
    {
     "data": {
      "text/html": [
       "<div>\n",
       "<style scoped>\n",
       "    .dataframe tbody tr th:only-of-type {\n",
       "        vertical-align: middle;\n",
       "    }\n",
       "\n",
       "    .dataframe tbody tr th {\n",
       "        vertical-align: top;\n",
       "    }\n",
       "\n",
       "    .dataframe thead th {\n",
       "        text-align: right;\n",
       "    }\n",
       "</style>\n",
       "<table border=\"1\" class=\"dataframe\">\n",
       "  <thead>\n",
       "    <tr style=\"text-align: right;\">\n",
       "      <th></th>\n",
       "      <th>Gender</th>\n",
       "      <th>Year</th>\n",
       "      <th>Medal</th>\n",
       "      <th>Result</th>\n",
       "    </tr>\n",
       "  </thead>\n",
       "  <tbody>\n",
       "    <tr>\n",
       "      <th>0</th>\n",
       "      <td>M</td>\n",
       "      <td>2016</td>\n",
       "      <td>G</td>\n",
       "      <td>9.81</td>\n",
       "    </tr>\n",
       "    <tr>\n",
       "      <th>1</th>\n",
       "      <td>M</td>\n",
       "      <td>2016</td>\n",
       "      <td>S</td>\n",
       "      <td>9.89</td>\n",
       "    </tr>\n",
       "    <tr>\n",
       "      <th>2</th>\n",
       "      <td>M</td>\n",
       "      <td>2016</td>\n",
       "      <td>B</td>\n",
       "      <td>9.91</td>\n",
       "    </tr>\n",
       "    <tr>\n",
       "      <th>3</th>\n",
       "      <td>M</td>\n",
       "      <td>2008</td>\n",
       "      <td>G</td>\n",
       "      <td>9.69</td>\n",
       "    </tr>\n",
       "    <tr>\n",
       "      <th>4</th>\n",
       "      <td>M</td>\n",
       "      <td>2008</td>\n",
       "      <td>S</td>\n",
       "      <td>9.89</td>\n",
       "    </tr>\n",
       "  </tbody>\n",
       "</table>\n",
       "</div>"
      ],
      "text/plain": [
       "  Gender  Year Medal Result\n",
       "0      M  2016     G   9.81\n",
       "1      M  2016     S   9.89\n",
       "2      M  2016     B   9.91\n",
       "3      M  2008     G   9.69\n",
       "4      M  2008     S   9.89"
      ]
     },
     "execution_count": 26,
     "metadata": {},
     "output_type": "execute_result"
    }
   ],
   "source": [
    "results_100_meters.head()"
   ]
  },
  {
   "cell_type": "markdown",
   "id": "e2dfa463-9238-4e62-8a43-18fe7e9c2a80",
   "metadata": {},
   "source": [
    "##### Reemplazar los nombres de las medallas y los valores de Gender para que coincidan en los dos dataset"
   ]
  },
  {
   "cell_type": "code",
   "execution_count": 27,
   "id": "15fee0da-cff2-4df3-9856-d5dc7c857ae1",
   "metadata": {},
   "outputs": [],
   "source": [
    "athletes_100_meters = athletes_100_meters.replace({\"Medal\":{\"Gold\":\"G\", \"Silver\":\"S\", \"Bronze\":\"B\"}})\n",
    "\n",
    "results_100_meters[\"Gender\"] = results_100_meters[\"Gender\"].replace([\"W\"], \"F\")"
   ]
  },
  {
   "cell_type": "code",
   "execution_count": 28,
   "id": "85089a4c-7563-44d1-8083-370cc966060d",
   "metadata": {},
   "outputs": [
    {
     "data": {
      "text/html": [
       "<div>\n",
       "<style scoped>\n",
       "    .dataframe tbody tr th:only-of-type {\n",
       "        vertical-align: middle;\n",
       "    }\n",
       "\n",
       "    .dataframe tbody tr th {\n",
       "        vertical-align: top;\n",
       "    }\n",
       "\n",
       "    .dataframe thead th {\n",
       "        text-align: right;\n",
       "    }\n",
       "</style>\n",
       "<table border=\"1\" class=\"dataframe\">\n",
       "  <thead>\n",
       "    <tr style=\"text-align: right;\">\n",
       "      <th></th>\n",
       "      <th>Sex</th>\n",
       "      <th>Age</th>\n",
       "      <th>Height</th>\n",
       "      <th>Weight</th>\n",
       "      <th>Year</th>\n",
       "      <th>Medal</th>\n",
       "    </tr>\n",
       "  </thead>\n",
       "  <tbody>\n",
       "    <tr>\n",
       "      <th>71</th>\n",
       "      <td>M</td>\n",
       "      <td>24.0</td>\n",
       "      <td>178.0</td>\n",
       "      <td>77.0</td>\n",
       "      <td>1920</td>\n",
       "      <td>S</td>\n",
       "    </tr>\n",
       "    <tr>\n",
       "      <th>113</th>\n",
       "      <td>F</td>\n",
       "      <td>25.0</td>\n",
       "      <td>167.0</td>\n",
       "      <td>53.0</td>\n",
       "      <td>1976</td>\n",
       "      <td>G</td>\n",
       "    </tr>\n",
       "    <tr>\n",
       "      <th>25</th>\n",
       "      <td>M</td>\n",
       "      <td>28.0</td>\n",
       "      <td>189.0</td>\n",
       "      <td>94.0</td>\n",
       "      <td>1988</td>\n",
       "      <td>S</td>\n",
       "    </tr>\n",
       "  </tbody>\n",
       "</table>\n",
       "</div>"
      ],
      "text/plain": [
       "    Sex   Age  Height  Weight  Year Medal\n",
       "71    M  24.0   178.0    77.0  1920     S\n",
       "113   F  25.0   167.0    53.0  1976     G\n",
       "25    M  28.0   189.0    94.0  1988     S"
      ]
     },
     "execution_count": 28,
     "metadata": {},
     "output_type": "execute_result"
    }
   ],
   "source": [
    "athletes_100_meters.sample(3)"
   ]
  },
  {
   "cell_type": "code",
   "execution_count": 29,
   "id": "a486b753-9e72-4c0e-973c-15ed6d49ff0d",
   "metadata": {
    "tags": []
   },
   "outputs": [
    {
     "data": {
      "text/html": [
       "<div>\n",
       "<style scoped>\n",
       "    .dataframe tbody tr th:only-of-type {\n",
       "        vertical-align: middle;\n",
       "    }\n",
       "\n",
       "    .dataframe tbody tr th {\n",
       "        vertical-align: top;\n",
       "    }\n",
       "\n",
       "    .dataframe thead th {\n",
       "        text-align: right;\n",
       "    }\n",
       "</style>\n",
       "<table border=\"1\" class=\"dataframe\">\n",
       "  <thead>\n",
       "    <tr style=\"text-align: right;\">\n",
       "      <th></th>\n",
       "      <th>Gender</th>\n",
       "      <th>Year</th>\n",
       "      <th>Medal</th>\n",
       "      <th>Result</th>\n",
       "    </tr>\n",
       "  </thead>\n",
       "  <tbody>\n",
       "    <tr>\n",
       "      <th>124</th>\n",
       "      <td>F</td>\n",
       "      <td>1980</td>\n",
       "      <td>G</td>\n",
       "      <td>11.06</td>\n",
       "    </tr>\n",
       "    <tr>\n",
       "      <th>34</th>\n",
       "      <td>M</td>\n",
       "      <td>1920</td>\n",
       "      <td>S</td>\n",
       "      <td>10.8</td>\n",
       "    </tr>\n",
       "    <tr>\n",
       "      <th>5</th>\n",
       "      <td>M</td>\n",
       "      <td>2008</td>\n",
       "      <td>B</td>\n",
       "      <td>9.91</td>\n",
       "    </tr>\n",
       "  </tbody>\n",
       "</table>\n",
       "</div>"
      ],
      "text/plain": [
       "    Gender  Year Medal Result\n",
       "124      F  1980     G  11.06\n",
       "34       M  1920     S   10.8\n",
       "5        M  2008     B   9.91"
      ]
     },
     "execution_count": 29,
     "metadata": {},
     "output_type": "execute_result"
    }
   ],
   "source": [
    "results_100_meters.sample(3)"
   ]
  },
  {
   "cell_type": "markdown",
   "id": "6766b539-9fed-471d-a3f8-caddc2bd046b",
   "metadata": {},
   "source": [
    "##### Unir los dos dataset usando las columnas de Year, Sex/Gender y Medal "
   ]
  },
  {
   "cell_type": "code",
   "execution_count": 30,
   "id": "87110dcb-daa9-473f-b54f-35003340d5c2",
   "metadata": {},
   "outputs": [
    {
     "data": {
      "text/html": [
       "<div>\n",
       "<style scoped>\n",
       "    .dataframe tbody tr th:only-of-type {\n",
       "        vertical-align: middle;\n",
       "    }\n",
       "\n",
       "    .dataframe tbody tr th {\n",
       "        vertical-align: top;\n",
       "    }\n",
       "\n",
       "    .dataframe thead th {\n",
       "        text-align: right;\n",
       "    }\n",
       "</style>\n",
       "<table border=\"1\" class=\"dataframe\">\n",
       "  <thead>\n",
       "    <tr style=\"text-align: right;\">\n",
       "      <th></th>\n",
       "      <th>Sex</th>\n",
       "      <th>Age</th>\n",
       "      <th>Height</th>\n",
       "      <th>Weight</th>\n",
       "      <th>Year</th>\n",
       "      <th>Medal</th>\n",
       "      <th>Gender</th>\n",
       "      <th>Result</th>\n",
       "    </tr>\n",
       "  </thead>\n",
       "  <tbody>\n",
       "    <tr>\n",
       "      <th>0</th>\n",
       "      <td>M</td>\n",
       "      <td>24.0</td>\n",
       "      <td>183.0</td>\n",
       "      <td>75.0</td>\n",
       "      <td>1924</td>\n",
       "      <td>G</td>\n",
       "      <td>M</td>\n",
       "      <td>10.6</td>\n",
       "    </tr>\n",
       "    <tr>\n",
       "      <th>1</th>\n",
       "      <td>F</td>\n",
       "      <td>27.0</td>\n",
       "      <td>165.0</td>\n",
       "      <td>52.0</td>\n",
       "      <td>1984</td>\n",
       "      <td>G</td>\n",
       "      <td>F</td>\n",
       "      <td>10.97</td>\n",
       "    </tr>\n",
       "    <tr>\n",
       "      <th>2</th>\n",
       "      <td>F</td>\n",
       "      <td>31.0</td>\n",
       "      <td>165.0</td>\n",
       "      <td>52.0</td>\n",
       "      <td>1988</td>\n",
       "      <td>S</td>\n",
       "      <td>NaN</td>\n",
       "      <td>NaN</td>\n",
       "    </tr>\n",
       "    <tr>\n",
       "      <th>3</th>\n",
       "      <td>F</td>\n",
       "      <td>22.0</td>\n",
       "      <td>168.0</td>\n",
       "      <td>58.0</td>\n",
       "      <td>1980</td>\n",
       "      <td>B</td>\n",
       "      <td>F</td>\n",
       "      <td>11.14</td>\n",
       "    </tr>\n",
       "    <tr>\n",
       "      <th>4</th>\n",
       "      <td>M</td>\n",
       "      <td>28.0</td>\n",
       "      <td>183.0</td>\n",
       "      <td>82.0</td>\n",
       "      <td>1996</td>\n",
       "      <td>G</td>\n",
       "      <td>M</td>\n",
       "      <td>9.84</td>\n",
       "    </tr>\n",
       "    <tr>\n",
       "      <th>...</th>\n",
       "      <td>...</td>\n",
       "      <td>...</td>\n",
       "      <td>...</td>\n",
       "      <td>...</td>\n",
       "      <td>...</td>\n",
       "      <td>...</td>\n",
       "      <td>...</td>\n",
       "      <td>...</td>\n",
       "    </tr>\n",
       "    <tr>\n",
       "      <th>152</th>\n",
       "      <td>F</td>\n",
       "      <td>25.0</td>\n",
       "      <td>174.0</td>\n",
       "      <td>60.0</td>\n",
       "      <td>1936</td>\n",
       "      <td>S</td>\n",
       "      <td>F</td>\n",
       "      <td>11.7</td>\n",
       "    </tr>\n",
       "    <tr>\n",
       "      <th>153</th>\n",
       "      <td>M</td>\n",
       "      <td>19.0</td>\n",
       "      <td>170.0</td>\n",
       "      <td>61.0</td>\n",
       "      <td>1908</td>\n",
       "      <td>G</td>\n",
       "      <td>M</td>\n",
       "      <td>10.8</td>\n",
       "    </tr>\n",
       "    <tr>\n",
       "      <th>154</th>\n",
       "      <td>M</td>\n",
       "      <td>28.0</td>\n",
       "      <td>183.0</td>\n",
       "      <td>86.0</td>\n",
       "      <td>1980</td>\n",
       "      <td>G</td>\n",
       "      <td>M</td>\n",
       "      <td>10.25</td>\n",
       "    </tr>\n",
       "    <tr>\n",
       "      <th>155</th>\n",
       "      <td>F</td>\n",
       "      <td>20.0</td>\n",
       "      <td>160.0</td>\n",
       "      <td>67.0</td>\n",
       "      <td>2004</td>\n",
       "      <td>S</td>\n",
       "      <td>F</td>\n",
       "      <td>10.96</td>\n",
       "    </tr>\n",
       "    <tr>\n",
       "      <th>156</th>\n",
       "      <td>M</td>\n",
       "      <td>19.0</td>\n",
       "      <td>170.0</td>\n",
       "      <td>56.0</td>\n",
       "      <td>1928</td>\n",
       "      <td>G</td>\n",
       "      <td>M</td>\n",
       "      <td>10.8</td>\n",
       "    </tr>\n",
       "  </tbody>\n",
       "</table>\n",
       "<p>157 rows × 8 columns</p>\n",
       "</div>"
      ],
      "text/plain": [
       "    Sex   Age  Height  Weight  Year Medal Gender Result\n",
       "0     M  24.0   183.0    75.0  1924     G      M   10.6\n",
       "1     F  27.0   165.0    52.0  1984     G      F  10.97\n",
       "2     F  31.0   165.0    52.0  1988     S    NaN    NaN\n",
       "3     F  22.0   168.0    58.0  1980     B      F  11.14\n",
       "4     M  28.0   183.0    82.0  1996     G      M   9.84\n",
       "..   ..   ...     ...     ...   ...   ...    ...    ...\n",
       "152   F  25.0   174.0    60.0  1936     S      F   11.7\n",
       "153   M  19.0   170.0    61.0  1908     G      M   10.8\n",
       "154   M  28.0   183.0    86.0  1980     G      M  10.25\n",
       "155   F  20.0   160.0    67.0  2004     S      F  10.96\n",
       "156   M  19.0   170.0    56.0  1928     G      M   10.8\n",
       "\n",
       "[157 rows x 8 columns]"
      ]
     },
     "execution_count": 30,
     "metadata": {},
     "output_type": "execute_result"
    }
   ],
   "source": [
    "model_data = athletes_100_meters.merge(results_100_meters, left_on=[\"Sex\", \"Year\", \"Medal\"], right_on=[\"Gender\", \"Year\", \"Medal\"], how=\"left\")\n",
    "\n",
    "model_data"
   ]
  },
  {
   "cell_type": "markdown",
   "id": "e7ff3486-546e-4356-aea4-094a7273661b",
   "metadata": {},
   "source": [
    "##### Eliminar Year, Medal ya que las dos primeras no se usaran en el modelo y Gender ya que es redundante con la columna Sex"
   ]
  },
  {
   "cell_type": "code",
   "execution_count": 31,
   "id": "58ef1aef-2e58-4670-99ce-76f0bd32a0e1",
   "metadata": {},
   "outputs": [
    {
     "data": {
      "text/html": [
       "<div>\n",
       "<style scoped>\n",
       "    .dataframe tbody tr th:only-of-type {\n",
       "        vertical-align: middle;\n",
       "    }\n",
       "\n",
       "    .dataframe tbody tr th {\n",
       "        vertical-align: top;\n",
       "    }\n",
       "\n",
       "    .dataframe thead th {\n",
       "        text-align: right;\n",
       "    }\n",
       "</style>\n",
       "<table border=\"1\" class=\"dataframe\">\n",
       "  <thead>\n",
       "    <tr style=\"text-align: right;\">\n",
       "      <th></th>\n",
       "      <th>Sex</th>\n",
       "      <th>Age</th>\n",
       "      <th>Height</th>\n",
       "      <th>Weight</th>\n",
       "      <th>Result</th>\n",
       "    </tr>\n",
       "  </thead>\n",
       "  <tbody>\n",
       "    <tr>\n",
       "      <th>0</th>\n",
       "      <td>M</td>\n",
       "      <td>24.0</td>\n",
       "      <td>183.0</td>\n",
       "      <td>75.0</td>\n",
       "      <td>10.6</td>\n",
       "    </tr>\n",
       "    <tr>\n",
       "      <th>1</th>\n",
       "      <td>F</td>\n",
       "      <td>27.0</td>\n",
       "      <td>165.0</td>\n",
       "      <td>52.0</td>\n",
       "      <td>10.97</td>\n",
       "    </tr>\n",
       "    <tr>\n",
       "      <th>2</th>\n",
       "      <td>F</td>\n",
       "      <td>31.0</td>\n",
       "      <td>165.0</td>\n",
       "      <td>52.0</td>\n",
       "      <td>NaN</td>\n",
       "    </tr>\n",
       "    <tr>\n",
       "      <th>3</th>\n",
       "      <td>F</td>\n",
       "      <td>22.0</td>\n",
       "      <td>168.0</td>\n",
       "      <td>58.0</td>\n",
       "      <td>11.14</td>\n",
       "    </tr>\n",
       "    <tr>\n",
       "      <th>4</th>\n",
       "      <td>M</td>\n",
       "      <td>28.0</td>\n",
       "      <td>183.0</td>\n",
       "      <td>82.0</td>\n",
       "      <td>9.84</td>\n",
       "    </tr>\n",
       "    <tr>\n",
       "      <th>...</th>\n",
       "      <td>...</td>\n",
       "      <td>...</td>\n",
       "      <td>...</td>\n",
       "      <td>...</td>\n",
       "      <td>...</td>\n",
       "    </tr>\n",
       "    <tr>\n",
       "      <th>152</th>\n",
       "      <td>F</td>\n",
       "      <td>25.0</td>\n",
       "      <td>174.0</td>\n",
       "      <td>60.0</td>\n",
       "      <td>11.7</td>\n",
       "    </tr>\n",
       "    <tr>\n",
       "      <th>153</th>\n",
       "      <td>M</td>\n",
       "      <td>19.0</td>\n",
       "      <td>170.0</td>\n",
       "      <td>61.0</td>\n",
       "      <td>10.8</td>\n",
       "    </tr>\n",
       "    <tr>\n",
       "      <th>154</th>\n",
       "      <td>M</td>\n",
       "      <td>28.0</td>\n",
       "      <td>183.0</td>\n",
       "      <td>86.0</td>\n",
       "      <td>10.25</td>\n",
       "    </tr>\n",
       "    <tr>\n",
       "      <th>155</th>\n",
       "      <td>F</td>\n",
       "      <td>20.0</td>\n",
       "      <td>160.0</td>\n",
       "      <td>67.0</td>\n",
       "      <td>10.96</td>\n",
       "    </tr>\n",
       "    <tr>\n",
       "      <th>156</th>\n",
       "      <td>M</td>\n",
       "      <td>19.0</td>\n",
       "      <td>170.0</td>\n",
       "      <td>56.0</td>\n",
       "      <td>10.8</td>\n",
       "    </tr>\n",
       "  </tbody>\n",
       "</table>\n",
       "<p>157 rows × 5 columns</p>\n",
       "</div>"
      ],
      "text/plain": [
       "    Sex   Age  Height  Weight Result\n",
       "0     M  24.0   183.0    75.0   10.6\n",
       "1     F  27.0   165.0    52.0  10.97\n",
       "2     F  31.0   165.0    52.0    NaN\n",
       "3     F  22.0   168.0    58.0  11.14\n",
       "4     M  28.0   183.0    82.0   9.84\n",
       "..   ..   ...     ...     ...    ...\n",
       "152   F  25.0   174.0    60.0   11.7\n",
       "153   M  19.0   170.0    61.0   10.8\n",
       "154   M  28.0   183.0    86.0  10.25\n",
       "155   F  20.0   160.0    67.0  10.96\n",
       "156   M  19.0   170.0    56.0   10.8\n",
       "\n",
       "[157 rows x 5 columns]"
      ]
     },
     "execution_count": 31,
     "metadata": {},
     "output_type": "execute_result"
    }
   ],
   "source": [
    "model_data = model_data.drop([\"Year\", \"Medal\", \"Gender\"], axis=1)\n",
    "\n",
    "model_data"
   ]
  },
  {
   "cell_type": "markdown",
   "id": "72c5699b-f909-488b-882b-822d17e84444",
   "metadata": {},
   "source": [
    "##### Verificar que datos nos quedan"
   ]
  },
  {
   "cell_type": "code",
   "execution_count": 32,
   "id": "10f42e04-630b-4205-b233-2201a86437fb",
   "metadata": {
    "tags": []
   },
   "outputs": [
    {
     "data": {
      "text/plain": [
       "Sex       0\n",
       "Age       0\n",
       "Height    5\n",
       "Weight    5\n",
       "Result    6\n",
       "dtype: int64"
      ]
     },
     "execution_count": 32,
     "metadata": {},
     "output_type": "execute_result"
    }
   ],
   "source": [
    "#Todavia quedan datos faltantes\n",
    "model_data.isnull().sum()"
   ]
  },
  {
   "cell_type": "markdown",
   "id": "697c40c6-e6e5-400c-9b5f-9bcaab194416",
   "metadata": {},
   "source": [
    "##### Eliminar las filas con datos incompletos"
   ]
  },
  {
   "cell_type": "code",
   "execution_count": 33,
   "id": "77aae377-0130-4554-aaed-6529cddc2f7a",
   "metadata": {
    "tags": []
   },
   "outputs": [
    {
     "data": {
      "text/html": [
       "<div>\n",
       "<style scoped>\n",
       "    .dataframe tbody tr th:only-of-type {\n",
       "        vertical-align: middle;\n",
       "    }\n",
       "\n",
       "    .dataframe tbody tr th {\n",
       "        vertical-align: top;\n",
       "    }\n",
       "\n",
       "    .dataframe thead th {\n",
       "        text-align: right;\n",
       "    }\n",
       "</style>\n",
       "<table border=\"1\" class=\"dataframe\">\n",
       "  <thead>\n",
       "    <tr style=\"text-align: right;\">\n",
       "      <th></th>\n",
       "      <th>Sex</th>\n",
       "      <th>Age</th>\n",
       "      <th>Height</th>\n",
       "      <th>Weight</th>\n",
       "      <th>Result</th>\n",
       "    </tr>\n",
       "  </thead>\n",
       "  <tbody>\n",
       "    <tr>\n",
       "      <th>0</th>\n",
       "      <td>M</td>\n",
       "      <td>24.0</td>\n",
       "      <td>183.0</td>\n",
       "      <td>75.0</td>\n",
       "      <td>10.6</td>\n",
       "    </tr>\n",
       "    <tr>\n",
       "      <th>1</th>\n",
       "      <td>F</td>\n",
       "      <td>27.0</td>\n",
       "      <td>165.0</td>\n",
       "      <td>52.0</td>\n",
       "      <td>10.97</td>\n",
       "    </tr>\n",
       "    <tr>\n",
       "      <th>3</th>\n",
       "      <td>F</td>\n",
       "      <td>22.0</td>\n",
       "      <td>168.0</td>\n",
       "      <td>58.0</td>\n",
       "      <td>11.14</td>\n",
       "    </tr>\n",
       "    <tr>\n",
       "      <th>4</th>\n",
       "      <td>M</td>\n",
       "      <td>28.0</td>\n",
       "      <td>183.0</td>\n",
       "      <td>82.0</td>\n",
       "      <td>9.84</td>\n",
       "    </tr>\n",
       "    <tr>\n",
       "      <th>5</th>\n",
       "      <td>M</td>\n",
       "      <td>31.0</td>\n",
       "      <td>180.0</td>\n",
       "      <td>65.0</td>\n",
       "      <td>10.4</td>\n",
       "    </tr>\n",
       "    <tr>\n",
       "      <th>...</th>\n",
       "      <td>...</td>\n",
       "      <td>...</td>\n",
       "      <td>...</td>\n",
       "      <td>...</td>\n",
       "      <td>...</td>\n",
       "    </tr>\n",
       "    <tr>\n",
       "      <th>152</th>\n",
       "      <td>F</td>\n",
       "      <td>25.0</td>\n",
       "      <td>174.0</td>\n",
       "      <td>60.0</td>\n",
       "      <td>11.7</td>\n",
       "    </tr>\n",
       "    <tr>\n",
       "      <th>153</th>\n",
       "      <td>M</td>\n",
       "      <td>19.0</td>\n",
       "      <td>170.0</td>\n",
       "      <td>61.0</td>\n",
       "      <td>10.8</td>\n",
       "    </tr>\n",
       "    <tr>\n",
       "      <th>154</th>\n",
       "      <td>M</td>\n",
       "      <td>28.0</td>\n",
       "      <td>183.0</td>\n",
       "      <td>86.0</td>\n",
       "      <td>10.25</td>\n",
       "    </tr>\n",
       "    <tr>\n",
       "      <th>155</th>\n",
       "      <td>F</td>\n",
       "      <td>20.0</td>\n",
       "      <td>160.0</td>\n",
       "      <td>67.0</td>\n",
       "      <td>10.96</td>\n",
       "    </tr>\n",
       "    <tr>\n",
       "      <th>156</th>\n",
       "      <td>M</td>\n",
       "      <td>19.0</td>\n",
       "      <td>170.0</td>\n",
       "      <td>56.0</td>\n",
       "      <td>10.8</td>\n",
       "    </tr>\n",
       "  </tbody>\n",
       "</table>\n",
       "<p>146 rows × 5 columns</p>\n",
       "</div>"
      ],
      "text/plain": [
       "    Sex   Age  Height  Weight Result\n",
       "0     M  24.0   183.0    75.0   10.6\n",
       "1     F  27.0   165.0    52.0  10.97\n",
       "3     F  22.0   168.0    58.0  11.14\n",
       "4     M  28.0   183.0    82.0   9.84\n",
       "5     M  31.0   180.0    65.0   10.4\n",
       "..   ..   ...     ...     ...    ...\n",
       "152   F  25.0   174.0    60.0   11.7\n",
       "153   M  19.0   170.0    61.0   10.8\n",
       "154   M  28.0   183.0    86.0  10.25\n",
       "155   F  20.0   160.0    67.0  10.96\n",
       "156   M  19.0   170.0    56.0   10.8\n",
       "\n",
       "[146 rows x 5 columns]"
      ]
     },
     "execution_count": 33,
     "metadata": {},
     "output_type": "execute_result"
    }
   ],
   "source": [
    "model_data = model_data.dropna()\n",
    "\n",
    "model_data"
   ]
  },
  {
   "cell_type": "markdown",
   "id": "46b7030c-e4c9-4374-8d94-f24bb25dd1ee",
   "metadata": {},
   "source": [
    "##### Cambiar los valores de Sex a numeros. 0 para Hombre y 1 para Mujer"
   ]
  },
  {
   "cell_type": "code",
   "execution_count": 34,
   "id": "2a68cb98-401c-4469-b71e-fbe3f283a3a4",
   "metadata": {
    "tags": []
   },
   "outputs": [
    {
     "name": "stderr",
     "output_type": "stream",
     "text": [
      "C:\\Users\\N29\\AppData\\Local\\Temp\\ipykernel_4212\\2940118181.py:1: SettingWithCopyWarning: \n",
      "A value is trying to be set on a copy of a slice from a DataFrame.\n",
      "Try using .loc[row_indexer,col_indexer] = value instead\n",
      "\n",
      "See the caveats in the documentation: https://pandas.pydata.org/pandas-docs/stable/user_guide/indexing.html#returning-a-view-versus-a-copy\n",
      "  model_data.replace({\"Sex\":{\"M\":0, \"F\":1}}, inplace=True)\n"
     ]
    },
    {
     "data": {
      "text/html": [
       "<div>\n",
       "<style scoped>\n",
       "    .dataframe tbody tr th:only-of-type {\n",
       "        vertical-align: middle;\n",
       "    }\n",
       "\n",
       "    .dataframe tbody tr th {\n",
       "        vertical-align: top;\n",
       "    }\n",
       "\n",
       "    .dataframe thead th {\n",
       "        text-align: right;\n",
       "    }\n",
       "</style>\n",
       "<table border=\"1\" class=\"dataframe\">\n",
       "  <thead>\n",
       "    <tr style=\"text-align: right;\">\n",
       "      <th></th>\n",
       "      <th>Sex</th>\n",
       "      <th>Age</th>\n",
       "      <th>Height</th>\n",
       "      <th>Weight</th>\n",
       "      <th>Result</th>\n",
       "    </tr>\n",
       "  </thead>\n",
       "  <tbody>\n",
       "    <tr>\n",
       "      <th>0</th>\n",
       "      <td>0</td>\n",
       "      <td>24.0</td>\n",
       "      <td>183.0</td>\n",
       "      <td>75.0</td>\n",
       "      <td>10.6</td>\n",
       "    </tr>\n",
       "    <tr>\n",
       "      <th>1</th>\n",
       "      <td>1</td>\n",
       "      <td>27.0</td>\n",
       "      <td>165.0</td>\n",
       "      <td>52.0</td>\n",
       "      <td>10.97</td>\n",
       "    </tr>\n",
       "    <tr>\n",
       "      <th>3</th>\n",
       "      <td>1</td>\n",
       "      <td>22.0</td>\n",
       "      <td>168.0</td>\n",
       "      <td>58.0</td>\n",
       "      <td>11.14</td>\n",
       "    </tr>\n",
       "    <tr>\n",
       "      <th>4</th>\n",
       "      <td>0</td>\n",
       "      <td>28.0</td>\n",
       "      <td>183.0</td>\n",
       "      <td>82.0</td>\n",
       "      <td>9.84</td>\n",
       "    </tr>\n",
       "    <tr>\n",
       "      <th>5</th>\n",
       "      <td>0</td>\n",
       "      <td>31.0</td>\n",
       "      <td>180.0</td>\n",
       "      <td>65.0</td>\n",
       "      <td>10.4</td>\n",
       "    </tr>\n",
       "    <tr>\n",
       "      <th>...</th>\n",
       "      <td>...</td>\n",
       "      <td>...</td>\n",
       "      <td>...</td>\n",
       "      <td>...</td>\n",
       "      <td>...</td>\n",
       "    </tr>\n",
       "    <tr>\n",
       "      <th>152</th>\n",
       "      <td>1</td>\n",
       "      <td>25.0</td>\n",
       "      <td>174.0</td>\n",
       "      <td>60.0</td>\n",
       "      <td>11.7</td>\n",
       "    </tr>\n",
       "    <tr>\n",
       "      <th>153</th>\n",
       "      <td>0</td>\n",
       "      <td>19.0</td>\n",
       "      <td>170.0</td>\n",
       "      <td>61.0</td>\n",
       "      <td>10.8</td>\n",
       "    </tr>\n",
       "    <tr>\n",
       "      <th>154</th>\n",
       "      <td>0</td>\n",
       "      <td>28.0</td>\n",
       "      <td>183.0</td>\n",
       "      <td>86.0</td>\n",
       "      <td>10.25</td>\n",
       "    </tr>\n",
       "    <tr>\n",
       "      <th>155</th>\n",
       "      <td>1</td>\n",
       "      <td>20.0</td>\n",
       "      <td>160.0</td>\n",
       "      <td>67.0</td>\n",
       "      <td>10.96</td>\n",
       "    </tr>\n",
       "    <tr>\n",
       "      <th>156</th>\n",
       "      <td>0</td>\n",
       "      <td>19.0</td>\n",
       "      <td>170.0</td>\n",
       "      <td>56.0</td>\n",
       "      <td>10.8</td>\n",
       "    </tr>\n",
       "  </tbody>\n",
       "</table>\n",
       "<p>146 rows × 5 columns</p>\n",
       "</div>"
      ],
      "text/plain": [
       "     Sex   Age  Height  Weight Result\n",
       "0      0  24.0   183.0    75.0   10.6\n",
       "1      1  27.0   165.0    52.0  10.97\n",
       "3      1  22.0   168.0    58.0  11.14\n",
       "4      0  28.0   183.0    82.0   9.84\n",
       "5      0  31.0   180.0    65.0   10.4\n",
       "..   ...   ...     ...     ...    ...\n",
       "152    1  25.0   174.0    60.0   11.7\n",
       "153    0  19.0   170.0    61.0   10.8\n",
       "154    0  28.0   183.0    86.0  10.25\n",
       "155    1  20.0   160.0    67.0  10.96\n",
       "156    0  19.0   170.0    56.0   10.8\n",
       "\n",
       "[146 rows x 5 columns]"
      ]
     },
     "execution_count": 34,
     "metadata": {},
     "output_type": "execute_result"
    }
   ],
   "source": [
    "model_data.replace({\"Sex\":{\"M\":0, \"F\":1}}, inplace=True)\n",
    "\n",
    "model_data"
   ]
  },
  {
   "cell_type": "markdown",
   "id": "681814bd-6f80-4586-a81d-07bb7277a329",
   "metadata": {},
   "source": [
    "##### Cambiar el tipo de results a float64"
   ]
  },
  {
   "cell_type": "code",
   "execution_count": 35,
   "id": "d0d29e50-0e71-46d5-8104-9105b60952a3",
   "metadata": {
    "tags": []
   },
   "outputs": [
    {
     "data": {
      "text/plain": [
       "Sex         int64\n",
       "Age       float64\n",
       "Height    float64\n",
       "Weight    float64\n",
       "Result     object\n",
       "dtype: object"
      ]
     },
     "execution_count": 35,
     "metadata": {},
     "output_type": "execute_result"
    }
   ],
   "source": [
    "model_data.dtypes"
   ]
  },
  {
   "cell_type": "code",
   "execution_count": 36,
   "id": "36de15df-2aa5-4542-953a-d17c290bd919",
   "metadata": {
    "tags": []
   },
   "outputs": [
    {
     "data": {
      "text/plain": [
       "array(['10.6', '10.97', '11.14', '9.84', '10.4', '10.5', '9.75', '11.9',\n",
       "       '9.9', '9.99', '9.69', '9.63', '9.81', '10.14', '10.83', '11.23',\n",
       "       '11.13', '12.0', '10.81', '11.2', '11.24', '9.96', '10.8', '10.06',\n",
       "       '11.5', '9.91', '10.82', '10.94', '10.3', '11.1', '10.2', '10.78',\n",
       "       '10.75', '10.86', '10.02', '9.89', '9.85', '9.79', '10.19', '10.0',\n",
       "       '9.87', '11.0', '11.17', '12.2', '11.3', '10.22', 'None', '11.6',\n",
       "       '11.06', '10.9', '12.6', '11.12', '11.18', '10.25', '11.7',\n",
       "       '10.33', '10.04', '10.93', '9.86', '11.07', '11.16', '11.19',\n",
       "       '10.39', '10.84', '10.08', '11.08', '11.8', '10.7', '10.98',\n",
       "       '10.24', '10.71', '10.96', '11.4'], dtype=object)"
      ]
     },
     "execution_count": 36,
     "metadata": {},
     "output_type": "execute_result"
    }
   ],
   "source": [
    "#Hay un resultado que tenemos en None, para reemplazarlo primero lo cambio a NaN\n",
    "model_data[\"Result\"].unique()"
   ]
  },
  {
   "cell_type": "code",
   "execution_count": 37,
   "id": "71194b20-2117-44f5-8780-2353aa1777ff",
   "metadata": {
    "tags": []
   },
   "outputs": [
    {
     "name": "stderr",
     "output_type": "stream",
     "text": [
      "C:\\Users\\N29\\AppData\\Local\\Temp\\ipykernel_4212\\2536132562.py:1: SettingWithCopyWarning: \n",
      "A value is trying to be set on a copy of a slice from a DataFrame\n",
      "\n",
      "See the caveats in the documentation: https://pandas.pydata.org/pandas-docs/stable/user_guide/indexing.html#returning-a-view-versus-a-copy\n",
      "  model_data[\"Result\"].replace(to_replace=[\"None\"], value=np.nan, inplace=True)\n"
     ]
    },
    {
     "data": {
      "text/plain": [
       "array(['10.6', '10.97', '11.14', '9.84', '10.4', '10.5', '9.75', '11.9',\n",
       "       '9.9', '9.99', '9.69', '9.63', '9.81', '10.14', '10.83', '11.23',\n",
       "       '11.13', '12.0', '10.81', '11.2', '11.24', '9.96', '10.8', '10.06',\n",
       "       '11.5', '9.91', '10.82', '10.94', '10.3', '11.1', '10.2', '10.78',\n",
       "       '10.75', '10.86', '10.02', '9.89', '9.85', '9.79', '10.19', '10.0',\n",
       "       '9.87', '11.0', '11.17', '12.2', '11.3', '10.22', nan, '11.6',\n",
       "       '11.06', '10.9', '12.6', '11.12', '11.18', '10.25', '11.7',\n",
       "       '10.33', '10.04', '10.93', '9.86', '11.07', '11.16', '11.19',\n",
       "       '10.39', '10.84', '10.08', '11.08', '11.8', '10.7', '10.98',\n",
       "       '10.24', '10.71', '10.96', '11.4'], dtype=object)"
      ]
     },
     "execution_count": 37,
     "metadata": {},
     "output_type": "execute_result"
    }
   ],
   "source": [
    "model_data[\"Result\"].replace(to_replace=[\"None\"], value=np.nan, inplace=True)\n",
    "\n",
    "model_data[\"Result\"].unique()"
   ]
  },
  {
   "cell_type": "code",
   "execution_count": 38,
   "id": "2d68fe87-92c4-428a-a0a3-9f79de74b3e5",
   "metadata": {
    "tags": []
   },
   "outputs": [
    {
     "name": "stderr",
     "output_type": "stream",
     "text": [
      "C:\\Users\\N29\\AppData\\Local\\Temp\\ipykernel_4212\\2752049949.py:2: SettingWithCopyWarning: \n",
      "A value is trying to be set on a copy of a slice from a DataFrame.\n",
      "Try using .loc[row_indexer,col_indexer] = value instead\n",
      "\n",
      "See the caveats in the documentation: https://pandas.pydata.org/pandas-docs/stable/user_guide/indexing.html#returning-a-view-versus-a-copy\n",
      "  model_data[\"Result\"] = model_data[\"Result\"].astype(\"float64\")\n"
     ]
    }
   ],
   "source": [
    "#Cambiar el tipo de dato guardado en Result a float\n",
    "model_data[\"Result\"] = model_data[\"Result\"].astype(\"float64\")"
   ]
  },
  {
   "cell_type": "code",
   "execution_count": 39,
   "id": "58edd13a-609e-40eb-9045-8f74e51b1989",
   "metadata": {
    "tags": []
   },
   "outputs": [
    {
     "data": {
      "text/plain": [
       "array([10.6 , 10.97, 11.14,  9.84, 10.4 , 10.5 ,  9.75, 11.9 ,  9.9 ,\n",
       "        9.99,  9.69,  9.63,  9.81, 10.14, 10.83, 11.23, 11.13, 12.  ,\n",
       "       10.81, 11.2 , 11.24,  9.96, 10.8 , 10.06, 11.5 ,  9.91, 10.82,\n",
       "       10.94, 10.3 , 11.1 , 10.2 , 10.78, 10.75, 10.86, 10.02,  9.89,\n",
       "        9.85,  9.79, 10.19, 10.  ,  9.87, 11.  , 11.17, 12.2 , 11.3 ,\n",
       "       10.22,   nan, 11.6 , 11.06, 10.9 , 12.6 , 11.12, 11.18, 10.25,\n",
       "       11.7 , 10.33, 10.04, 10.93,  9.86, 11.07, 11.16, 11.19, 10.39,\n",
       "       10.84, 10.08, 11.08, 11.8 , 10.7 , 10.98, 10.24, 10.71, 10.96,\n",
       "       11.4 ])"
      ]
     },
     "execution_count": 39,
     "metadata": {},
     "output_type": "execute_result"
    }
   ],
   "source": [
    "model_data[\"Result\"].unique()"
   ]
  },
  {
   "cell_type": "markdown",
   "id": "4b6032a7-5284-425f-8462-ce49dec21bc7",
   "metadata": {},
   "source": [
    "##### De los resultados nos esta faltanto un dato, al ser poca la cantidad decidi reemplazar el NaN por el promedio de todos los resultados"
   ]
  },
  {
   "cell_type": "code",
   "execution_count": 40,
   "id": "59e2e2b6-31e7-49cb-a455-11636119aa3e",
   "metadata": {
    "tags": []
   },
   "outputs": [
    {
     "name": "stderr",
     "output_type": "stream",
     "text": [
      "C:\\Users\\N29\\AppData\\Local\\Temp\\ipykernel_4212\\212870734.py:3: SettingWithCopyWarning: \n",
      "A value is trying to be set on a copy of a slice from a DataFrame\n",
      "\n",
      "See the caveats in the documentation: https://pandas.pydata.org/pandas-docs/stable/user_guide/indexing.html#returning-a-view-versus-a-copy\n",
      "  model_data[\"Result\"].fillna(model_data[\"Result\"].mean().round(2), inplace=True)\n"
     ]
    },
    {
     "data": {
      "text/plain": [
       "array([10.6 , 10.97, 11.14,  9.84, 10.4 , 10.5 ,  9.75, 11.9 ,  9.9 ,\n",
       "        9.99,  9.69,  9.63,  9.81, 10.14, 10.83, 11.23, 11.13, 12.  ,\n",
       "       10.81, 11.2 , 11.24,  9.96, 10.8 , 10.06, 11.5 ,  9.91, 10.82,\n",
       "       10.94, 10.3 , 11.1 , 10.2 , 10.78, 10.75, 10.86, 10.02,  9.89,\n",
       "        9.85,  9.79, 10.19, 10.  ,  9.87, 11.  , 11.17, 12.2 , 11.3 ,\n",
       "       10.22, 11.6 , 11.06, 10.9 , 12.6 , 11.12, 11.18, 10.25, 11.7 ,\n",
       "       10.33, 10.04, 10.93,  9.86, 11.07, 11.16, 11.19, 10.39, 10.84,\n",
       "       10.08, 11.08, 11.8 , 10.7 , 10.98, 10.24, 10.71, 10.96, 11.4 ])"
      ]
     },
     "execution_count": 40,
     "metadata": {},
     "output_type": "execute_result"
    }
   ],
   "source": [
    "model_data[\"Result\"].mean().round(2)\n",
    "\n",
    "model_data[\"Result\"].fillna(model_data[\"Result\"].mean().round(2), inplace=True)\n",
    "\n",
    "model_data[\"Result\"].unique()"
   ]
  },
  {
   "cell_type": "markdown",
   "id": "4406a12f-6a37-4a64-86ca-c99ec23f9f02",
   "metadata": {},
   "source": [
    "##### Asi quedaria entonces los datos finales para realizar el modelo predictivo"
   ]
  },
  {
   "cell_type": "code",
   "execution_count": 41,
   "id": "4a063822-3e6f-4611-9a3f-f4cf786480ce",
   "metadata": {
    "tags": []
   },
   "outputs": [
    {
     "data": {
      "text/html": [
       "<div>\n",
       "<style scoped>\n",
       "    .dataframe tbody tr th:only-of-type {\n",
       "        vertical-align: middle;\n",
       "    }\n",
       "\n",
       "    .dataframe tbody tr th {\n",
       "        vertical-align: top;\n",
       "    }\n",
       "\n",
       "    .dataframe thead th {\n",
       "        text-align: right;\n",
       "    }\n",
       "</style>\n",
       "<table border=\"1\" class=\"dataframe\">\n",
       "  <thead>\n",
       "    <tr style=\"text-align: right;\">\n",
       "      <th></th>\n",
       "      <th>Sex</th>\n",
       "      <th>Age</th>\n",
       "      <th>Height</th>\n",
       "      <th>Weight</th>\n",
       "      <th>Result</th>\n",
       "    </tr>\n",
       "  </thead>\n",
       "  <tbody>\n",
       "    <tr>\n",
       "      <th>0</th>\n",
       "      <td>0</td>\n",
       "      <td>24.0</td>\n",
       "      <td>183.0</td>\n",
       "      <td>75.0</td>\n",
       "      <td>10.60</td>\n",
       "    </tr>\n",
       "    <tr>\n",
       "      <th>1</th>\n",
       "      <td>1</td>\n",
       "      <td>27.0</td>\n",
       "      <td>165.0</td>\n",
       "      <td>52.0</td>\n",
       "      <td>10.97</td>\n",
       "    </tr>\n",
       "    <tr>\n",
       "      <th>3</th>\n",
       "      <td>1</td>\n",
       "      <td>22.0</td>\n",
       "      <td>168.0</td>\n",
       "      <td>58.0</td>\n",
       "      <td>11.14</td>\n",
       "    </tr>\n",
       "    <tr>\n",
       "      <th>4</th>\n",
       "      <td>0</td>\n",
       "      <td>28.0</td>\n",
       "      <td>183.0</td>\n",
       "      <td>82.0</td>\n",
       "      <td>9.84</td>\n",
       "    </tr>\n",
       "    <tr>\n",
       "      <th>5</th>\n",
       "      <td>0</td>\n",
       "      <td>31.0</td>\n",
       "      <td>180.0</td>\n",
       "      <td>65.0</td>\n",
       "      <td>10.40</td>\n",
       "    </tr>\n",
       "    <tr>\n",
       "      <th>...</th>\n",
       "      <td>...</td>\n",
       "      <td>...</td>\n",
       "      <td>...</td>\n",
       "      <td>...</td>\n",
       "      <td>...</td>\n",
       "    </tr>\n",
       "    <tr>\n",
       "      <th>152</th>\n",
       "      <td>1</td>\n",
       "      <td>25.0</td>\n",
       "      <td>174.0</td>\n",
       "      <td>60.0</td>\n",
       "      <td>11.70</td>\n",
       "    </tr>\n",
       "    <tr>\n",
       "      <th>153</th>\n",
       "      <td>0</td>\n",
       "      <td>19.0</td>\n",
       "      <td>170.0</td>\n",
       "      <td>61.0</td>\n",
       "      <td>10.80</td>\n",
       "    </tr>\n",
       "    <tr>\n",
       "      <th>154</th>\n",
       "      <td>0</td>\n",
       "      <td>28.0</td>\n",
       "      <td>183.0</td>\n",
       "      <td>86.0</td>\n",
       "      <td>10.25</td>\n",
       "    </tr>\n",
       "    <tr>\n",
       "      <th>155</th>\n",
       "      <td>1</td>\n",
       "      <td>20.0</td>\n",
       "      <td>160.0</td>\n",
       "      <td>67.0</td>\n",
       "      <td>10.96</td>\n",
       "    </tr>\n",
       "    <tr>\n",
       "      <th>156</th>\n",
       "      <td>0</td>\n",
       "      <td>19.0</td>\n",
       "      <td>170.0</td>\n",
       "      <td>56.0</td>\n",
       "      <td>10.80</td>\n",
       "    </tr>\n",
       "  </tbody>\n",
       "</table>\n",
       "<p>146 rows × 5 columns</p>\n",
       "</div>"
      ],
      "text/plain": [
       "     Sex   Age  Height  Weight  Result\n",
       "0      0  24.0   183.0    75.0   10.60\n",
       "1      1  27.0   165.0    52.0   10.97\n",
       "3      1  22.0   168.0    58.0   11.14\n",
       "4      0  28.0   183.0    82.0    9.84\n",
       "5      0  31.0   180.0    65.0   10.40\n",
       "..   ...   ...     ...     ...     ...\n",
       "152    1  25.0   174.0    60.0   11.70\n",
       "153    0  19.0   170.0    61.0   10.80\n",
       "154    0  28.0   183.0    86.0   10.25\n",
       "155    1  20.0   160.0    67.0   10.96\n",
       "156    0  19.0   170.0    56.0   10.80\n",
       "\n",
       "[146 rows x 5 columns]"
      ]
     },
     "execution_count": 41,
     "metadata": {},
     "output_type": "execute_result"
    }
   ],
   "source": [
    "model_data"
   ]
  },
  {
   "cell_type": "markdown",
   "id": "7dbb97e6-3cd6-4442-ab15-90644fc565ab",
   "metadata": {},
   "source": [
    "### Realizar modelo predictivo con el model_data"
   ]
  },
  {
   "cell_type": "code",
   "execution_count": 42,
   "id": "48f0307e-73fe-4406-9bf4-80b0df8da393",
   "metadata": {
    "tags": []
   },
   "outputs": [
    {
     "data": {
      "text/plain": [
       "<seaborn.axisgrid.PairGrid at 0x252d16c26d0>"
      ]
     },
     "execution_count": 42,
     "metadata": {},
     "output_type": "execute_result"
    },
    {
     "data": {
      "image/png": "[encoded data removed]",
      "text/plain": [
       "<Figure size 1250x1250 with 30 Axes>"
      ]
     },
     "metadata": {},
     "output_type": "display_data"
    }
   ],
   "source": [
    "#Scatterplot con la relacion de todas las variables.\n",
    "\n",
    "sns.pairplot(data=model_data)"
   ]
  },
  {
   "cell_type": "markdown",
   "id": "a6224daa-e89c-4da0-b2b7-3ee67237256b",
   "metadata": {},
   "source": [
    "##### Preparar X y Y del modelo a partir del dataframe model_data"
   ]
  },
  {
   "cell_type": "code",
   "execution_count": 43,
   "id": "bbe0412e-621e-499b-891d-db292ff0a10d",
   "metadata": {
    "tags": []
   },
   "outputs": [
    {
     "data": {
      "text/html": [
       "<div>\n",
       "<style scoped>\n",
       "    .dataframe tbody tr th:only-of-type {\n",
       "        vertical-align: middle;\n",
       "    }\n",
       "\n",
       "    .dataframe tbody tr th {\n",
       "        vertical-align: top;\n",
       "    }\n",
       "\n",
       "    .dataframe thead th {\n",
       "        text-align: right;\n",
       "    }\n",
       "</style>\n",
       "<table border=\"1\" class=\"dataframe\">\n",
       "  <thead>\n",
       "    <tr style=\"text-align: right;\">\n",
       "      <th></th>\n",
       "      <th>Sex</th>\n",
       "      <th>Age</th>\n",
       "      <th>Height</th>\n",
       "      <th>Weight</th>\n",
       "    </tr>\n",
       "  </thead>\n",
       "  <tbody>\n",
       "    <tr>\n",
       "      <th>0</th>\n",
       "      <td>0</td>\n",
       "      <td>24.0</td>\n",
       "      <td>183.0</td>\n",
       "      <td>75.0</td>\n",
       "    </tr>\n",
       "    <tr>\n",
       "      <th>1</th>\n",
       "      <td>1</td>\n",
       "      <td>27.0</td>\n",
       "      <td>165.0</td>\n",
       "      <td>52.0</td>\n",
       "    </tr>\n",
       "    <tr>\n",
       "      <th>3</th>\n",
       "      <td>1</td>\n",
       "      <td>22.0</td>\n",
       "      <td>168.0</td>\n",
       "      <td>58.0</td>\n",
       "    </tr>\n",
       "    <tr>\n",
       "      <th>4</th>\n",
       "      <td>0</td>\n",
       "      <td>28.0</td>\n",
       "      <td>183.0</td>\n",
       "      <td>82.0</td>\n",
       "    </tr>\n",
       "    <tr>\n",
       "      <th>5</th>\n",
       "      <td>0</td>\n",
       "      <td>31.0</td>\n",
       "      <td>180.0</td>\n",
       "      <td>65.0</td>\n",
       "    </tr>\n",
       "  </tbody>\n",
       "</table>\n",
       "</div>"
      ],
      "text/plain": [
       "   Sex   Age  Height  Weight\n",
       "0    0  24.0   183.0    75.0\n",
       "1    1  27.0   165.0    52.0\n",
       "3    1  22.0   168.0    58.0\n",
       "4    0  28.0   183.0    82.0\n",
       "5    0  31.0   180.0    65.0"
      ]
     },
     "execution_count": 43,
     "metadata": {},
     "output_type": "execute_result"
    }
   ],
   "source": [
    "X = model_data[[\"Sex\", \"Age\", \"Height\", \"Weight\"]]\n",
    "\n",
    "X.head()\n"
   ]
  },
  {
   "cell_type": "code",
   "execution_count": 44,
   "id": "e948d828-8d3b-4450-b29d-c69b2fa75218",
   "metadata": {
    "tags": []
   },
   "outputs": [
    {
     "data": {
      "text/plain": [
       "0    10.60\n",
       "1    10.97\n",
       "3    11.14\n",
       "4     9.84\n",
       "5    10.40\n",
       "Name: Result, dtype: float64"
      ]
     },
     "execution_count": 44,
     "metadata": {},
     "output_type": "execute_result"
    }
   ],
   "source": [
    "y = model_data[\"Result\"]\n",
    "\n",
    "y.head()"
   ]
  },
  {
   "cell_type": "markdown",
   "id": "ad76a746-1d19-4265-b258-7d59553d0b7e",
   "metadata": {},
   "source": [
    "##### Chequear shape de X y Y"
   ]
  },
  {
   "cell_type": "code",
   "execution_count": 47,
   "id": "016ee96d-c25a-4588-9266-3a4680ded92e",
   "metadata": {
    "tags": []
   },
   "outputs": [
    {
     "name": "stdout",
     "output_type": "stream",
     "text": [
      "(146, 4) (146,)\n"
     ]
    }
   ],
   "source": [
    "print(X.shape,y.shape)"
   ]
  },
  {
   "cell_type": "markdown",
   "id": "51efb679-6d96-44af-b8cf-ec0bc21ceeb8",
   "metadata": {},
   "source": [
    "##### Importar modulos de sklearn para realizar el modelo predictivo"
   ]
  },
  {
   "cell_type": "code",
   "execution_count": 48,
   "id": "b2f6fcf4-7851-42a8-9af4-de41f94ad11f",
   "metadata": {
    "tags": []
   },
   "outputs": [],
   "source": [
    "from sklearn.model_selection import train_test_split\n",
    "from sklearn.linear_model import LinearRegression\n",
    "from sklearn.model_selection import GridSearchCV\n",
    "from sklearn import metrics"
   ]
  },
  {
   "cell_type": "markdown",
   "id": "d1899cb3-a19d-4ea7-8bf5-f7dcbb9db68e",
   "metadata": {},
   "source": [
    "##### Separar los datos en sets de train y test"
   ]
  },
  {
   "cell_type": "code",
   "execution_count": 49,
   "id": "948b139c-482d-40f2-a3ad-c6bcb1120c98",
   "metadata": {},
   "outputs": [
    {
     "name": "stdout",
     "output_type": "stream",
     "text": [
      "(109, 4)\n",
      "(109,)\n",
      "(37, 4)\n",
      "(37,)\n"
     ]
    }
   ],
   "source": [
    "X_train, X_test, y_train, y_test = train_test_split(X, y, random_state=811)\n",
    "\n",
    "print(X_train.shape)\n",
    "print(y_train.shape)\n",
    "print(X_test.shape)\n",
    "print(y_test.shape)"
   ]
  },
  {
   "cell_type": "markdown",
   "id": "dc95432f-48d0-4b0e-b416-359de47cdd4d",
   "metadata": {},
   "source": [
    "#### Entrenar modelo Regresion lineal de Sklearn"
   ]
  },
  {
   "cell_type": "code",
   "execution_count": 50,
   "id": "c01e6f31-23f5-4c66-a18b-8c5dbe39f5e9",
   "metadata": {},
   "outputs": [
    {
     "data": {
      "text/html": [
       "<style>#sk-container-id-1 {color: black;background-color: white;}#sk-container-id-1 pre{padding: 0;}#sk-container-id-1 div.sk-toggleable {background-color: white;}#sk-container-id-1 label.sk-toggleable__label {cursor: pointer;display: block;width: 100%;margin-bottom: 0;padding: 0.3em;box-sizing: border-box;text-align: center;}#sk-container-id-1 label.sk-toggleable__label-arrow:before {content: \"▸\";float: left;margin-right: 0.25em;color: #696969;}#sk-container-id-1 label.sk-toggleable__label-arrow:hover:before {color: black;}#sk-container-id-1 div.sk-estimator:hover label.sk-toggleable__label-arrow:before {color: black;}#sk-container-id-1 div.sk-toggleable__content {max-height: 0;max-width: 0;overflow: hidden;text-align: left;background-color: #f0f8ff;}#sk-container-id-1 div.sk-toggleable__content pre {margin: 0.2em;color: black;border-radius: 0.25em;background-color: #f0f8ff;}#sk-container-id-1 input.sk-toggleable__control:checked~div.sk-toggleable__content {max-height: 200px;max-width: 100%;overflow: auto;}#sk-container-id-1 input.sk-toggleable__control:checked~label.sk-toggleable__label-arrow:before {content: \"▾\";}#sk-container-id-1 div.sk-estimator input.sk-toggleable__control:checked~label.sk-toggleable__label {background-color: #d4ebff;}#sk-container-id-1 div.sk-label input.sk-toggleable__control:checked~label.sk-toggleable__label {background-color: #d4ebff;}#sk-container-id-1 input.sk-hidden--visually {border: 0;clip: rect(1px 1px 1px 1px);clip: rect(1px, 1px, 1px, 1px);height: 1px;margin: -1px;overflow: hidden;padding: 0;position: absolute;width: 1px;}#sk-container-id-1 div.sk-estimator {font-family: monospace;background-color: #f0f8ff;border: 1px dotted black;border-radius: 0.25em;box-sizing: border-box;margin-bottom: 0.5em;}#sk-container-id-1 div.sk-estimator:hover {background-color: #d4ebff;}#sk-container-id-1 div.sk-parallel-item::after {content: \"\";width: 100%;border-bottom: 1px solid gray;flex-grow: 1;}#sk-container-id-1 div.sk-label:hover label.sk-toggleable__label {background-color: #d4ebff;}#sk-container-id-1 div.sk-serial::before {content: \"\";position: absolute;border-left: 1px solid gray;box-sizing: border-box;top: 0;bottom: 0;left: 50%;z-index: 0;}#sk-container-id-1 div.sk-serial {display: flex;flex-direction: column;align-items: center;background-color: white;padding-right: 0.2em;padding-left: 0.2em;position: relative;}#sk-container-id-1 div.sk-item {position: relative;z-index: 1;}#sk-container-id-1 div.sk-parallel {display: flex;align-items: stretch;justify-content: center;background-color: white;position: relative;}#sk-container-id-1 div.sk-item::before, #sk-container-id-1 div.sk-parallel-item::before {content: \"\";position: absolute;border-left: 1px solid gray;box-sizing: border-box;top: 0;bottom: 0;left: 50%;z-index: -1;}#sk-container-id-1 div.sk-parallel-item {display: flex;flex-direction: column;z-index: 1;position: relative;background-color: white;}#sk-container-id-1 div.sk-parallel-item:first-child::after {align-self: flex-end;width: 50%;}#sk-container-id-1 div.sk-parallel-item:last-child::after {align-self: flex-start;width: 50%;}#sk-container-id-1 div.sk-parallel-item:only-child::after {width: 0;}#sk-container-id-1 div.sk-dashed-wrapped {border: 1px dashed gray;margin: 0 0.4em 0.5em 0.4em;box-sizing: border-box;padding-bottom: 0.4em;background-color: white;}#sk-container-id-1 div.sk-label label {font-family: monospace;font-weight: bold;display: inline-block;line-height: 1.2em;}#sk-container-id-1 div.sk-label-container {text-align: center;}#sk-container-id-1 div.sk-container {/* jupyter's `normalize.less` sets `[hidden] { display: none; }` but bootstrap.min.css set `[hidden] { display: none !important; }` so we also need the `!important` here to be able to override the default hidden behavior on the sphinx rendered scikit-learn.org. See: https://github.com/scikit-learn/scikit-learn/issues/21755 */display: inline-block !important;position: relative;}#sk-container-id-1 div.sk-text-repr-fallback {display: none;}</style><div id=\"sk-container-id-1\" class=\"sk-top-container\"><div class=\"sk-text-repr-fallback\"><pre>LinearRegression()</pre><b>In a Jupyter environment, please rerun this cell to show the HTML representation or trust the notebook. <br />On GitHub, the HTML representation is unable to render, please try loading this page with nbviewer.org.</b></div><div class=\"sk-container\" hidden><div class=\"sk-item\"><div class=\"sk-estimator sk-toggleable\"><input class=\"sk-toggleable__control sk-hidden--visually\" id=\"sk-estimator-id-1\" type=\"checkbox\" checked><label for=\"sk-estimator-id-1\" class=\"sk-toggleable__label sk-toggleable__label-arrow\">LinearRegression</label><div class=\"sk-toggleable__content\"><pre>LinearRegression()</pre></div></div></div></div></div>"
      ],
      "text/plain": [
       "LinearRegression()"
      ]
     },
     "execution_count": 50,
     "metadata": {},
     "output_type": "execute_result"
    }
   ],
   "source": [
    "athlete_model = LinearRegression()\n",
    "athlete_model.fit(X_train,y_train)"
   ]
  },
  {
   "cell_type": "markdown",
   "id": "42e84032-3982-4e27-9dc6-921c4510eca3",
   "metadata": {},
   "source": [
    "##### Verificar varianza con respecto a valores de testeo"
   ]
  },
  {
   "cell_type": "code",
   "execution_count": 51,
   "id": "05a445ac-e60b-480a-8129-68f49c2f7a97",
   "metadata": {
    "tags": []
   },
   "outputs": [
    {
     "name": "stdout",
     "output_type": "stream",
     "text": [
      "MAE: 0.3199588111293146\n",
      "MRE: 0.15891224583738967\n",
      "SMRE: 0.3986379884524174\n"
     ]
    }
   ],
   "source": [
    "y_pred = athlete_model.predict(X_test)\n",
    "\n",
    "print(f\"MAE: {metrics.mean_absolute_error(y_test, y_pred)}\")\n",
    "print(f\"MRE: {metrics.mean_squared_error(y_test, y_pred, squared=True)}\")\n",
    "print(f\"SMRE: {metrics.mean_squared_error(y_test, y_pred, squared=False)}\")"
   ]
  },
  {
   "cell_type": "markdown",
   "id": "fa419ecd-7e41-4948-89d3-cacd93ec6d4f",
   "metadata": {},
   "source": [
    "![model](res/model.png)"
   ]
  },
  {
   "cell_type": "markdown",
   "id": "b8949efe-d707-4623-965c-b146a9c8f6f9",
   "metadata": {},
   "source": [
    "##### Manejar input de usuario para predecir el tiempo del atleta"
   ]
  },
  {
   "cell_type": "code",
   "execution_count": 120,
   "id": "e41ab5f3-dd5b-4f13-8543-5df029fca664",
   "metadata": {
    "tags": []
   },
   "outputs": [
    {
     "name": "stdin",
     "output_type": "stream",
     "text": [
      "Introduce la edad \n",
      " 19\n",
      "Introduce el sexo (0: Hombre, 1: Mujer) \n",
      " 0\n",
      "Intrdouce el peso (kg) \n",
      " 68\n",
      "Introduce la altura (cm) \n",
      " 181\n"
     ]
    },
    {
     "name": "stdout",
     "output_type": "stream",
     "text": [
      "Segun el modelo escogido el atleta con los datos introducidos hará el siguiente tiempo: 10.849328258898128\n"
     ]
    }
   ],
   "source": [
    "age = float(input(\"Introduce la edad \\n\"))\n",
    "sex = float(input(\"Introduce el sexo (0: Hombre, 1: Mujer) \\n\"))\n",
    "weight = float(input(\"Intrdouce el peso (kg) \\n\"))\n",
    "height = float(input(\"Introduce la altura (cm) \\n\"))\n",
    "\n",
    "athlete = pd.DataFrame({\"Sex\":[sex], \"Age\":[age], \"Height\":[height], \"Weight\":[weight]})\n",
    "\n",
    "time = athlete_model.predict(athlete)\n",
    "print(f\"Segun el modelo escogido el atleta con los datos introducidos hará el siguiente tiempo: {time[0]}\")"
   ]
  },
  {
   "cell_type": "markdown",
   "id": "e935ef15-6135-47c4-9f91-e767be5e8e9f",
   "metadata": {},
   "source": [
    "\n",
    "##### Pienso que el modelo es un poco limitado ya que se tienen solo los resultados de los ganadores de medalla y no de todos los participantes de la olimpiada lo que hace menos general el modelo"
   ]
  },
  {
   "cell_type": "markdown",
   "id": "f3ab94b7-8cd5-47e9-8986-ee73ce9e2477",
   "metadata": {
    "tags": []
   },
   "source": [
    "#### Realizar modelo con Tensorflow"
   ]
  },
  {
   "cell_type": "code",
   "execution_count": 53,
   "id": "1470b5ea-609a-4fdd-a877-006258b76df3",
   "metadata": {},
   "outputs": [],
   "source": [
    "#No es necesario pero quise practicar y ver la diferencia entre los dos modelos.\n",
    "#Asi tambien me corrige el uso de Tensorflow ^^u"
   ]
  },
  {
   "cell_type": "markdown",
   "id": "3192b8a6-5907-44df-9f78-6fd37c15fa4e",
   "metadata": {},
   "source": [
    "##### Importar modulos para red neuronal Sequencial"
   ]
  },
  {
   "cell_type": "code",
   "execution_count": 100,
   "id": "8b8bc3bc-cc62-4990-95b2-e5a9a7c66d46",
   "metadata": {},
   "outputs": [],
   "source": [
    "from numpy import set_printoptions\n",
    "from numpy import sqrt\n",
    "from numpy import argmax\n",
    "from pandas import read_csv\n",
    "from sklearn.model_selection import train_test_split\n",
    "from tensorflow.keras import Sequential\n",
    "from tensorflow.keras.layers import Dense\n",
    "from tensorflow.keras.callbacks import EarlyStopping"
   ]
  },
  {
   "cell_type": "markdown",
   "id": "8d6b1bca-3424-489e-a794-ca1a9ed0de8f",
   "metadata": {},
   "source": [
    "##### Definir el numero de features"
   ]
  },
  {
   "cell_type": "code",
   "execution_count": 101,
   "id": "6527ea2f-de3d-44a1-bafe-e387a09ccdcb",
   "metadata": {
    "tags": []
   },
   "outputs": [
    {
     "data": {
      "text/plain": [
       "4"
      ]
     },
     "execution_count": 101,
     "metadata": {},
     "output_type": "execute_result"
    }
   ],
   "source": [
    "n_features = X_train.shape[1]\n",
    "\n",
    "n_features"
   ]
  },
  {
   "cell_type": "markdown",
   "id": "666f9f07-985f-4070-be54-f21e842fb4e1",
   "metadata": {},
   "source": [
    "##### Definir y compilar modelo"
   ]
  },
  {
   "cell_type": "code",
   "execution_count": 133,
   "id": "ca3a6e54-160b-4822-8365-40a1b53c87d9",
   "metadata": {
    "tags": []
   },
   "outputs": [],
   "source": [
    "athlete_model_tf = Sequential()\n",
    "athlete_model_tf.add(Dense(10, activation='relu', kernel_initializer='he_normal', input_shape=(n_features,)))\n",
    "athlete_model_tf.add(Dense(8, activation='relu', kernel_initializer='he_normal'))\n",
    "athlete_model_tf.add(Dense(8, activation='relu', kernel_initializer='he_normal'))\n",
    "athlete_model_tf.add(Dense(8, activation='relu', kernel_initializer='he_normal'))\n",
    "athlete_model_tf.add(Dense(1))\n",
    "\n",
    "#Compilar\n",
    "athlete_model_tf.compile(optimizer=\"adam\", loss=\"mse\")"
   ]
  },
  {
   "cell_type": "markdown",
   "id": "72351dc2-73e0-49ad-bf3c-0c34d042b25c",
   "metadata": {},
   "source": [
    "##### Configurar Early Stopping"
   ]
  },
  {
   "cell_type": "code",
   "execution_count": 134,
   "id": "4a3c8846-280f-4a91-98a5-da745e6845ff",
   "metadata": {
    "tags": []
   },
   "outputs": [],
   "source": [
    "es = EarlyStopping(monitor='loss', patience=5)"
   ]
  },
  {
   "cell_type": "markdown",
   "id": "97078cd6-e895-4f93-8583-cb051109d73b",
   "metadata": {},
   "source": [
    "##### Entrenar modelo "
   ]
  },
  {
   "cell_type": "code",
   "execution_count": 135,
   "id": "6f5e91a9-e2d2-476f-b11a-a8449ae676c4",
   "metadata": {
    "tags": []
   },
   "outputs": [
    {
     "data": {
      "text/plain": [
       "<keras.callbacks.History at 0x252d3fe8d50>"
      ]
     },
     "execution_count": 135,
     "metadata": {},
     "output_type": "execute_result"
    }
   ],
   "source": [
    "athlete_model_tf.fit(X_train, y_train, epochs=3000, batch_size=32, verbose=0, callbacks=[es])"
   ]
  },
  {
   "cell_type": "markdown",
   "id": "7d8f46d7-e46a-46c9-8197-0ecede68989b",
   "metadata": {},
   "source": [
    "##### Evaluar el modelo con los datos de entrenamiento"
   ]
  },
  {
   "cell_type": "code",
   "execution_count": 136,
   "id": "f11dad27-0d1c-43ce-9dd1-1048da3a9782",
   "metadata": {
    "tags": []
   },
   "outputs": [
    {
     "name": "stdout",
     "output_type": "stream",
     "text": [
      "WARNING:tensorflow:5 out of the last 11 calls to <function Model.make_test_function.<locals>.test_function at 0x00000252F955A700> triggered tf.function retracing. Tracing is expensive and the excessive number of tracings could be due to (1) creating @tf.function repeatedly in a loop, (2) passing tensors with different shapes, (3) passing Python objects instead of tensors. For (1), please define your @tf.function outside of the loop. For (2), @tf.function has reduce_retracing=True option that can avoid unnecessary retracing. For (3), please refer to https://www.tensorflow.org/guide/function#controlling_retracing and https://www.tensorflow.org/api_docs/python/tf/function for  more details.\n",
      "MSE: 0.942, RMSE: 0.970\n"
     ]
    }
   ],
   "source": [
    "error = athlete_model_tf.evaluate(X_test, y_test, verbose=0)\n",
    "print(f'MSE: {error:.3f}, RMSE: {sqrt(error):.3f}')"
   ]
  },
  {
   "cell_type": "code",
   "execution_count": 137,
   "id": "1da5b26b-fb8b-4653-882d-aad7536f98c8",
   "metadata": {
    "tags": []
   },
   "outputs": [],
   "source": [
    "#Como podria mejorar el modelo para que haga mejores predicciones?"
   ]
  },
  {
   "cell_type": "markdown",
   "id": "b2ccd820-2e27-4702-a1fa-99eac8e39c64",
   "metadata": {},
   "source": [
    "##### Manejar input para hacer predicciones"
   ]
  },
  {
   "cell_type": "code",
   "execution_count": 127,
   "id": "73c90d79-3088-4d76-9352-f44da3d94fd6",
   "metadata": {
    "tags": []
   },
   "outputs": [
    {
     "name": "stdin",
     "output_type": "stream",
     "text": [
      "Introduce la edad \n",
      " 28\n",
      "Introduce el sexo (0: Hombre, 1: Mujer) \n",
      " 1\n",
      "Intrdouce el peso (kg) \n",
      " 16\n",
      "Introduce la altura (cm) \n",
      " 150\n"
     ]
    },
    {
     "name": "stdout",
     "output_type": "stream",
     "text": [
      "1/1 [==============================] - 0s 85ms/step\n",
      "Segun el modelo escogido el atleta con los datos introducidos hará el siguiente tiempo: [1.374]\n"
     ]
    }
   ],
   "source": [
    "age = float(input(\"Introduce la edad \\n\"))\n",
    "sex = float(input(\"Introduce el sexo (0: Hombre, 1: Mujer) \\n\"))\n",
    "weight = float(input(\"Intrdouce el peso (kg) \\n\"))\n",
    "height = float(input(\"Introduce la altura (cm) \\n\"))\n",
    "\n",
    "athlete = [sex, age, height, weight]\n",
    "\n",
    "time = athlete_model_tf.predict([athlete])\n",
    "\n",
    "print(f\"Segun el modelo escogido el atleta con los datos introducidos hará el siguiente tiempo: {time[0]}\")"
   ]
  },
  {
   "cell_type": "markdown",
   "id": "4301f908-ba45-4837-ae2d-4aed8668b3dc",
   "metadata": {},
   "source": [
    "## Comparar resultado de los dos modelos"
   ]
  },
  {
   "cell_type": "markdown",
   "id": "ea3f3372-7e0f-4ffc-a85d-82aa8b57e884",
   "metadata": {},
   "source": [
    "![model](res/model.png)"
   ]
  },
  {
   "cell_type": "code",
   "execution_count": 138,
   "id": "64bb9d4c-a201-4190-9ce0-86c79bb9f5c7",
   "metadata": {
    "tags": []
   },
   "outputs": [
    {
     "name": "stdin",
     "output_type": "stream",
     "text": [
      "Introduce la edad \n",
      " 19\n",
      "Introduce el sexo (0: Hombre, 1: Mujer) \n",
      " 0\n",
      "Intrdouce el peso (kg) \n",
      " 68\n",
      "Introduce la altura (cm) \n",
      " 181\n"
     ]
    },
    {
     "name": "stdout",
     "output_type": "stream",
     "text": [
      "Modelo Sklearn\n",
      "Segun el modelo escogido el atleta con los datos introducidos hará el siguiente tiempo: 10.85 \n",
      "\n",
      "1/1 [==============================] - 0s 75ms/step\n",
      "Modelo Tensorflow\n",
      "Segun el modelo escogido el atleta con los datos introducidos hará el siguiente tiempo: 10.67\n"
     ]
    }
   ],
   "source": [
    "age = float(input(\"Introduce la edad \\n\"))\n",
    "sex = float(input(\"Introduce el sexo (0: Hombre, 1: Mujer) \\n\"))\n",
    "weight = float(input(\"Intrdouce el peso (kg) \\n\"))\n",
    "height = float(input(\"Introduce la altura (cm) \\n\"))\n",
    "\n",
    "athlete = pd.DataFrame({\"Sex\":[sex], \"Age\":[age], \"Height\":[height], \"Weight\":[weight]})\n",
    "athlete_tf = [sex, age, height, weight]\n",
    "\n",
    "#Modelo Sklearn\n",
    "time = athlete_model.predict(athlete)\n",
    "print(\"Modelo Sklearn\")\n",
    "print(f\"Segun el modelo escogido el atleta con los datos introducidos hará el siguiente tiempo: {time[0]:.2f} \\n\")\n",
    "\n",
    "#Modelo Tensorflow\n",
    "time = athlete_model_tf.predict([athlete])\n",
    "#set_printoptions(precision=3)\n",
    "print(\"Modelo Tensorflow\")\n",
    "print(f\"Segun el modelo escogido el atleta con los datos introducidos hará el siguiente tiempo: {time[0][0]:.2f}\")"
   ]
  }
 ],
 "metadata": {
  "kernelspec": {
   "display_name": "Python 3 (ipykernel)",
   "language": "python",
   "name": "python3"
  },
  "language_info": {
   "codemirror_mode": {
    "name": "ipython",
    "version": 3
   },
   "file_extension": ".py",
   "mimetype": "text/x-python",
   "name": "python",
   "nbconvert_exporter": "python",
   "pygments_lexer": "ipython3",
   "version": "3.11.1"
  }
 },
 "nbformat": 4,
 "nbformat_minor": 5
}
