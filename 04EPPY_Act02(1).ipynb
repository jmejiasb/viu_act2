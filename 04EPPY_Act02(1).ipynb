{
 "cells": [
  {
   "cell_type": "markdown",
   "id": "31ffaa68",
   "metadata": {},
   "source": [
    "<img src=\"../img/viu_logo.png\" width=\"200\">\n",
    "\n",
    "## 04EPPY - Actividad 2\n",
    "\n",
    "25% de la Nota Final\n",
    "\n",
    "### Fecha Entrega\n",
    "- Convocatoria 1 - 31/03/2022\n",
    "- Convocatoria 2 - 07/04/2022\n",
    "\n",
    "### Instrucciones:\n",
    "- Crear un notebook de Python3 que servirá como entrega de la actividad.\n",
    "- Separar bien los apartados propuestos con celdas Markdown.\n",
    "- Mantener una estructura limpia, comentando código y secuenciando los apartados con el código correspondiente que resuelva la actividad.\n",
    "- Como criterio de evaluación se tendrá en cuenta el resultado, la consecución del mismo, estilo, comentarios y adecuación.\n",
    "- No está permitido compartir los resultados ni el código en ninguno de los foros.\n",
    "\n",
    "### Entrega:\n",
    "- Un solo documento en formato notebook: .ipynb\n",
    "- Para hacer la entrega hay que subir el notebook al repositorio en la actividad de blackboard."
   ]
  },
  {
   "cell_type": "markdown",
   "id": "acc1f5f5",
   "metadata": {},
   "source": [
    "# Olympics"
   ]
  },
  {
   "cell_type": "markdown",
   "id": "96ebe415",
   "metadata": {
    "tags": []
   },
   "source": [
    "### A1 - Leer Datasets - 10%\n",
    "- En Kaggle existen dos datasets sobre las olimpiadas modernas\n",
    "  - Atletas y resultados de medallas, desde 1896 a 2016, https://www.kaggle.com/heesoo37/120-years-of-olympic-history-athletes-and-results\n",
    "  - Resultados de atletismo, desde 1896 a 2016, https://www.kaggle.com/jayrav13/olympic-track-field-results\n",
    "  \n",
    "- Obtener y leer los ficheros csv en dataframes de pandas"
   ]
  },
  {
   "cell_type": "markdown",
   "id": "e652ade9-1f7b-4c04-89d0-3cdede39cdac",
   "metadata": {},
   "source": [
    "#### Instalar paquete de API de Kaggle"
   ]
  },
  {
   "cell_type": "code",
   "execution_count": 3,
   "id": "9fe25752-74cd-4805-bbb0-c56dbd189bb6",
   "metadata": {
    "tags": []
   },
   "outputs": [
    {
     "name": "stdout",
     "output_type": "stream",
     "text": [
      "Note: you may need to restart the kernel to use updated packages.Requirement already satisfied: kaggle in c:\\users\\n29\\appdata\\local\\programs\\python\\python311\\lib\\site-packages (1.5.13)\n",
      "Requirement already satisfied: six>=1.10 in c:\\users\\n29\\appdata\\roaming\\python\\python311\\site-packages (from kaggle) (1.16.0)\n",
      "Requirement already satisfied: certifi in c:\\users\\n29\\appdata\\roaming\\python\\python311\\site-packages (from kaggle) (2022.12.7)\n",
      "Requirement already satisfied: python-dateutil in c:\\users\\n29\\appdata\\roaming\\python\\python311\\site-packages (from kaggle) (2.8.2)\n",
      "Requirement already satisfied: requests in c:\\users\\n29\\appdata\\local\\programs\\python\\python311\\lib\\site-packages (from kaggle) (2.28.2)\n",
      "Requirement already satisfied: tqdm in c:\\users\\n29\\appdata\\local\\programs\\python\\python311\\lib\\site-packages (from kaggle) (4.65.0)\n",
      "Requirement already satisfied: python-slugify in c:\\users\\n29\\appdata\\local\\programs\\python\\python311\\lib\\site-packages (from kaggle) (8.0.1)\n",
      "Requirement already satisfied: urllib3 in c:\\users\\n29\\appdata\\local\\programs\\python\\python311\\lib\\site-packages (from kaggle) (1.26.15)\n",
      "Requirement already satisfied: text-unidecode>=1.3 in c:\\users\\n29\\appdata\\local\\programs\\python\\python311\\lib\\site-packages (from python-slugify->kaggle) (1.3)\n",
      "Requirement already satisfied: charset-normalizer<4,>=2 in c:\\users\\n29\\appdata\\local\\programs\\python\\python311\\lib\\site-packages (from requests->kaggle) (3.1.0)\n",
      "Requirement already satisfied: idna<4,>=2.5 in c:\\users\\n29\\appdata\\local\\programs\\python\\python311\\lib\\site-packages (from requests->kaggle) (3.4)\n",
      "Requirement already satisfied: colorama in c:\\users\\n29\\appdata\\roaming\\python\\python311\\site-packages (from tqdm->kaggle) (0.4.6)\n",
      "\n"
     ]
    },
    {
     "name": "stderr",
     "output_type": "stream",
     "text": [
      "\n",
      "[notice] A new release of pip available: 22.3.1 -> 23.0.1\n",
      "[notice] To update, run: python.exe -m pip install --upgrade pip\n"
     ]
    }
   ],
   "source": [
    "pip install kaggle"
   ]
  },
  {
   "cell_type": "code",
   "execution_count": 83,
   "id": "50059406-1c89-42bb-b635-8c1991ff90ab",
   "metadata": {
    "tags": []
   },
   "outputs": [],
   "source": [
    "#Importar paquetes para usar en la actividad\n",
    "import numpy as np\n",
    "import pandas as pd\n",
    "import zipfile as zp\n",
    "import os\n",
    "import matplotlib.pyplot as plt\n",
    "import seaborn as sns"
   ]
  },
  {
   "cell_type": "code",
   "execution_count": 5,
   "id": "e7780bb0-6c88-453e-aebe-d72f7e3842fc",
   "metadata": {
    "tags": []
   },
   "outputs": [],
   "source": [
    "#Autenticacion con Kaggle API\n",
    "os.environ['KAGGLE_USERNAME'] = \"jmejiasb\"\n",
    "os.environ['KAGGLE_KEY'] = \"782634d4517fd0263297f09bf847ecad\"\n",
    "\n",
    "from kaggle.api.kaggle_api_extended import KaggleApi\n",
    "api = KaggleApi()\n",
    "api.authenticate()"
   ]
  },
  {
   "cell_type": "code",
   "execution_count": 6,
   "id": "3030741d-e5f5-4249-bfae-c2c0637e7098",
   "metadata": {
    "tags": []
   },
   "outputs": [],
   "source": [
    "#Descargar zip de archivos con API de Kaggle\n",
    "#Para descargar usando el Kaggle API se debe usar el link del dataset (la url de kaggle despues de \"www.kaggle.com/\") y la ruta donde guardar el archivo zip\n",
    "route = os.path.join(\"res\")\n",
    "api.dataset_download_files(\"heesoo37/120-years-of-olympic-history-athletes-and-results\", path = route)\n",
    "api.dataset_download_files(\"jayrav13/olympic-track-field-results\", path = route)"
   ]
  },
  {
   "cell_type": "code",
   "execution_count": 7,
   "id": "dfe597bf-6be8-4c1c-b0f1-40c83349abd5",
   "metadata": {
    "tags": []
   },
   "outputs": [
    {
     "name": "stdout",
     "output_type": "stream",
     "text": [
      "Extracting all files...\n",
      "Done!\n",
      "Extracting all files...\n",
      "Done!\n"
     ]
    }
   ],
   "source": [
    "#Extraer archivos zip de los dataset en su respectiva carpeta\n",
    "\n",
    "#120 years of olympic history: athletes and results\n",
    "with zp.ZipFile(\"res/120-years-of-olympic-history-athletes-and-results.zip\") as zipp:\n",
    "    print('Extracting all files...') \n",
    "    zipp.extractall(os.path.join(\"res\",\"120_years_olympic_history\")) \n",
    "    print('Done!')\n",
    "    \n",
    "#Olympic track field results\n",
    "with zp.ZipFile(\"res/olympic-track-field-results.zip\") as zipp:\n",
    "    print('Extracting all files...') \n",
    "    zipp.extractall(os.path.join(\"res\",\"olympic-track-field-results\")) \n",
    "    print('Done!')"
   ]
  },
  {
   "cell_type": "code",
   "execution_count": 8,
   "id": "9451e96f-e6e2-495b-9f46-0c12b67e8927",
   "metadata": {
    "tags": []
   },
   "outputs": [
    {
     "data": {
      "text/html": [
       "<div>\n",
       "<style scoped>\n",
       "    .dataframe tbody tr th:only-of-type {\n",
       "        vertical-align: middle;\n",
       "    }\n",
       "\n",
       "    .dataframe tbody tr th {\n",
       "        vertical-align: top;\n",
       "    }\n",
       "\n",
       "    .dataframe thead th {\n",
       "        text-align: right;\n",
       "    }\n",
       "</style>\n",
       "<table border=\"1\" class=\"dataframe\">\n",
       "  <thead>\n",
       "    <tr style=\"text-align: right;\">\n",
       "      <th></th>\n",
       "      <th>ID</th>\n",
       "      <th>Name</th>\n",
       "      <th>Sex</th>\n",
       "      <th>Age</th>\n",
       "      <th>Height</th>\n",
       "      <th>Weight</th>\n",
       "      <th>Team</th>\n",
       "      <th>NOC</th>\n",
       "      <th>Games</th>\n",
       "      <th>Year</th>\n",
       "      <th>Season</th>\n",
       "      <th>City</th>\n",
       "      <th>Sport</th>\n",
       "      <th>Event</th>\n",
       "      <th>Medal</th>\n",
       "    </tr>\n",
       "  </thead>\n",
       "  <tbody>\n",
       "    <tr>\n",
       "      <th>212474</th>\n",
       "      <td>106683</td>\n",
       "      <td>Robert Scheidt</td>\n",
       "      <td>M</td>\n",
       "      <td>31.0</td>\n",
       "      <td>188.0</td>\n",
       "      <td>76.0</td>\n",
       "      <td>Brazil</td>\n",
       "      <td>BRA</td>\n",
       "      <td>2004 Summer</td>\n",
       "      <td>2004</td>\n",
       "      <td>Summer</td>\n",
       "      <td>Athina</td>\n",
       "      <td>Sailing</td>\n",
       "      <td>Sailing Mixed One Person Dinghy</td>\n",
       "      <td>Gold</td>\n",
       "    </tr>\n",
       "    <tr>\n",
       "      <th>21523</th>\n",
       "      <td>11360</td>\n",
       "      <td>Cludio Biekarck</td>\n",
       "      <td>M</td>\n",
       "      <td>29.0</td>\n",
       "      <td>187.0</td>\n",
       "      <td>84.0</td>\n",
       "      <td>Brazil</td>\n",
       "      <td>BRA</td>\n",
       "      <td>1980 Summer</td>\n",
       "      <td>1980</td>\n",
       "      <td>Summer</td>\n",
       "      <td>Moskva</td>\n",
       "      <td>Sailing</td>\n",
       "      <td>Sailing Mixed One Person Dinghy</td>\n",
       "      <td>NaN</td>\n",
       "    </tr>\n",
       "    <tr>\n",
       "      <th>74922</th>\n",
       "      <td>38022</td>\n",
       "      <td>Miha Gale</td>\n",
       "      <td>M</td>\n",
       "      <td>21.0</td>\n",
       "      <td>174.0</td>\n",
       "      <td>79.0</td>\n",
       "      <td>Slovenia</td>\n",
       "      <td>SLO</td>\n",
       "      <td>1998 Winter</td>\n",
       "      <td>1998</td>\n",
       "      <td>Winter</td>\n",
       "      <td>Nagano</td>\n",
       "      <td>Freestyle Skiing</td>\n",
       "      <td>Freestyle Skiing Men's Aerials</td>\n",
       "      <td>NaN</td>\n",
       "    </tr>\n",
       "    <tr>\n",
       "      <th>42162</th>\n",
       "      <td>21747</td>\n",
       "      <td>Edward \"Ed\" Clancy</td>\n",
       "      <td>M</td>\n",
       "      <td>31.0</td>\n",
       "      <td>185.0</td>\n",
       "      <td>79.0</td>\n",
       "      <td>Great Britain</td>\n",
       "      <td>GBR</td>\n",
       "      <td>2016 Summer</td>\n",
       "      <td>2016</td>\n",
       "      <td>Summer</td>\n",
       "      <td>Rio de Janeiro</td>\n",
       "      <td>Cycling</td>\n",
       "      <td>Cycling Men's Team Pursuit, 4,000 metres</td>\n",
       "      <td>Gold</td>\n",
       "    </tr>\n",
       "    <tr>\n",
       "      <th>48143</th>\n",
       "      <td>24819</td>\n",
       "      <td>Mustafa Dastanl</td>\n",
       "      <td>M</td>\n",
       "      <td>25.0</td>\n",
       "      <td>168.0</td>\n",
       "      <td>62.0</td>\n",
       "      <td>Turkey</td>\n",
       "      <td>TUR</td>\n",
       "      <td>1956 Summer</td>\n",
       "      <td>1956</td>\n",
       "      <td>Summer</td>\n",
       "      <td>Melbourne</td>\n",
       "      <td>Wrestling</td>\n",
       "      <td>Wrestling Men's Bantamweight, Freestyle</td>\n",
       "      <td>Gold</td>\n",
       "    </tr>\n",
       "  </tbody>\n",
       "</table>\n",
       "</div>"
      ],
      "text/plain": [
       "            ID                Name Sex   Age  Height  Weight           Team  \\\n",
       "212474  106683      Robert Scheidt   M  31.0   188.0    76.0         Brazil   \n",
       "21523    11360     Cludio Biekarck   M  29.0   187.0    84.0         Brazil   \n",
       "74922    38022           Miha Gale   M  21.0   174.0    79.0       Slovenia   \n",
       "42162    21747  Edward \"Ed\" Clancy   M  31.0   185.0    79.0  Great Britain   \n",
       "48143    24819     Mustafa Dastanl   M  25.0   168.0    62.0         Turkey   \n",
       "\n",
       "        NOC        Games  Year  Season            City             Sport  \\\n",
       "212474  BRA  2004 Summer  2004  Summer          Athina           Sailing   \n",
       "21523   BRA  1980 Summer  1980  Summer          Moskva           Sailing   \n",
       "74922   SLO  1998 Winter  1998  Winter          Nagano  Freestyle Skiing   \n",
       "42162   GBR  2016 Summer  2016  Summer  Rio de Janeiro           Cycling   \n",
       "48143   TUR  1956 Summer  1956  Summer       Melbourne         Wrestling   \n",
       "\n",
       "                                           Event Medal  \n",
       "212474           Sailing Mixed One Person Dinghy  Gold  \n",
       "21523            Sailing Mixed One Person Dinghy   NaN  \n",
       "74922             Freestyle Skiing Men's Aerials   NaN  \n",
       "42162   Cycling Men's Team Pursuit, 4,000 metres  Gold  \n",
       "48143    Wrestling Men's Bantamweight, Freestyle  Gold  "
      ]
     },
     "execution_count": 8,
     "metadata": {},
     "output_type": "execute_result"
    }
   ],
   "source": [
    "#Guardar csv en su respectivo DataFrame\n",
    "\n",
    "#120 years of olympic history: athletes and result\n",
    "olympic_history_route = os.path.join(\"res\",\"120_years_olympic_history\",\"athlete_events.csv\")\n",
    "\n",
    "\n",
    "olympic_history = pd.read_csv(olympic_history_route, engine=\"python\", header=0)\n",
    "\n",
    "olympic_history.sample(5)"
   ]
  },
  {
   "cell_type": "code",
   "execution_count": 11,
   "id": "787e4963-db64-41fd-9da5-ac6b8372d36f",
   "metadata": {
    "tags": []
   },
   "outputs": [],
   "source": [
    "#Track field results\n",
    "olympic_track_field_route = os.path.join(\"res\",\"olympic-track-field-results\",\"results.csv\")\n",
    "\n",
    "#Al intentar leer el csv lanza error ya que algunos valores de la columna \"Results\" tienen una coma de mas (ie. \",+0.1\") y lo toma como una nueva columna\n",
    "\n",
    "#olympic_track_field = pd.read_csv(olympic_track_field_route, engine=\"python\", header=0) #ParserError"
   ]
  },
  {
   "cell_type": "code",
   "execution_count": 12,
   "id": "d7ce7f80-d911-4455-8c68-5e3158ebff3c",
   "metadata": {
    "tags": []
   },
   "outputs": [
    {
     "data": {
      "text/html": [
       "<div>\n",
       "<style scoped>\n",
       "    .dataframe tbody tr th:only-of-type {\n",
       "        vertical-align: middle;\n",
       "    }\n",
       "\n",
       "    .dataframe tbody tr th {\n",
       "        vertical-align: top;\n",
       "    }\n",
       "\n",
       "    .dataframe thead th {\n",
       "        text-align: right;\n",
       "    }\n",
       "</style>\n",
       "<table border=\"1\" class=\"dataframe\">\n",
       "  <thead>\n",
       "    <tr style=\"text-align: right;\">\n",
       "      <th></th>\n",
       "      <th>Gender</th>\n",
       "      <th>Event</th>\n",
       "      <th>Location</th>\n",
       "      <th>Year</th>\n",
       "      <th>Medal</th>\n",
       "      <th>Name</th>\n",
       "      <th>Nationality</th>\n",
       "      <th>Result</th>\n",
       "    </tr>\n",
       "  </thead>\n",
       "  <tbody>\n",
       "    <tr>\n",
       "      <th>1156</th>\n",
       "      <td>M</td>\n",
       "      <td>Hammer Throw Men</td>\n",
       "      <td>Barcelona</td>\n",
       "      <td>1992</td>\n",
       "      <td>S</td>\n",
       "      <td>Igor ASTAPKOVICH</td>\n",
       "      <td>EUN</td>\n",
       "      <td>81.96</td>\n",
       "    </tr>\n",
       "    <tr>\n",
       "      <th>1082</th>\n",
       "      <td>M</td>\n",
       "      <td>Decathlon Men</td>\n",
       "      <td>Stockholm</td>\n",
       "      <td>1912</td>\n",
       "      <td>G</td>\n",
       "      <td>Hugo WIESLANDER</td>\n",
       "      <td>SWE</td>\n",
       "      <td>7724.495 P.</td>\n",
       "    </tr>\n",
       "    <tr>\n",
       "      <th>1071</th>\n",
       "      <td>M</td>\n",
       "      <td>Decathlon Men</td>\n",
       "      <td>Melbourne / Stockholm</td>\n",
       "      <td>1956</td>\n",
       "      <td>S</td>\n",
       "      <td>Rafer JOHNSON</td>\n",
       "      <td>USA</td>\n",
       "      <td>7587.0</td>\n",
       "    </tr>\n",
       "    <tr>\n",
       "      <th>1956</th>\n",
       "      <td>W</td>\n",
       "      <td>4X100M Relay Women</td>\n",
       "      <td>Atlanta</td>\n",
       "      <td>1996</td>\n",
       "      <td>S</td>\n",
       "      <td>NaN</td>\n",
       "      <td>BAH</td>\n",
       "      <td>42.14</td>\n",
       "    </tr>\n",
       "    <tr>\n",
       "      <th>1367</th>\n",
       "      <td>M</td>\n",
       "      <td>Long Jump Men</td>\n",
       "      <td>Stockholm</td>\n",
       "      <td>1912</td>\n",
       "      <td>S</td>\n",
       "      <td>Calvin BRICKER</td>\n",
       "      <td>CAN</td>\n",
       "      <td>7.21</td>\n",
       "    </tr>\n",
       "  </tbody>\n",
       "</table>\n",
       "</div>"
      ],
      "text/plain": [
       "     Gender               Event               Location  Year Medal  \\\n",
       "1156      M    Hammer Throw Men              Barcelona  1992     S   \n",
       "1082      M       Decathlon Men              Stockholm  1912     G   \n",
       "1071      M       Decathlon Men  Melbourne / Stockholm  1956     S   \n",
       "1956      W  4X100M Relay Women                Atlanta  1996     S   \n",
       "1367      M       Long Jump Men              Stockholm  1912     S   \n",
       "\n",
       "                  Name Nationality       Result  \n",
       "1156  Igor ASTAPKOVICH         EUN        81.96  \n",
       "1082   Hugo WIESLANDER         SWE  7724.495 P.  \n",
       "1071     Rafer JOHNSON         USA       7587.0  \n",
       "1956               NaN         BAH        42.14  \n",
       "1367    Calvin BRICKER         CAN         7.21  "
      ]
     },
     "execution_count": 12,
     "metadata": {},
     "output_type": "execute_result"
    }
   ],
   "source": [
    "#Para resolver este error se usa el parametro \"usecols\" para que solo tome en cuenta las primeras 8 columnas.\n",
    "olympic_track_field = pd.read_csv(olympic_track_field_route, engine=\"python\", header=0, usecols=range(8))\n",
    "\n",
    "olympic_track_field.sample(5)"
   ]
  },
  {
   "cell_type": "markdown",
   "id": "6c87165f",
   "metadata": {
    "tags": []
   },
   "source": [
    "### A2 - Análisis - 45%\n",
    "- Obtener un gráfico de barras con la evolución del número de deportes por año, eje X años, eje Y número de deportes\n",
    "![sports_per_year](res/sports_per_year.png)\n",
    "- Gráfico con la evolución de la participación femenina en las olimpiadas a lo largo de la historia, eje X años, eje Y número de atletas, para cada año una barra para cada sexo\n",
    "![sex](res/sex.png)\n",
    "- Gráfico con los 50 paises con más medallas en toda la historia, en cada barra el nombre completo del pais, longitud de cada barra, total de medallas obtenidas por pais\n",
    "![medallero](res/medallero.png)"
   ]
  },
  {
   "cell_type": "code",
   "execution_count": 13,
   "id": "597403b6-6b4c-46b6-8e4d-c2f4eb8e6c2d",
   "metadata": {
    "tags": []
   },
   "outputs": [
    {
     "data": {
      "text/html": [
       "<div>\n",
       "<style scoped>\n",
       "    .dataframe tbody tr th:only-of-type {\n",
       "        vertical-align: middle;\n",
       "    }\n",
       "\n",
       "    .dataframe tbody tr th {\n",
       "        vertical-align: top;\n",
       "    }\n",
       "\n",
       "    .dataframe thead th {\n",
       "        text-align: right;\n",
       "    }\n",
       "</style>\n",
       "<table border=\"1\" class=\"dataframe\">\n",
       "  <thead>\n",
       "    <tr style=\"text-align: right;\">\n",
       "      <th></th>\n",
       "      <th>ID</th>\n",
       "      <th>Name</th>\n",
       "      <th>Sex</th>\n",
       "      <th>Age</th>\n",
       "      <th>Height</th>\n",
       "      <th>Weight</th>\n",
       "      <th>Team</th>\n",
       "      <th>NOC</th>\n",
       "      <th>Games</th>\n",
       "      <th>Year</th>\n",
       "      <th>Season</th>\n",
       "      <th>City</th>\n",
       "      <th>Sport</th>\n",
       "      <th>Event</th>\n",
       "      <th>Medal</th>\n",
       "    </tr>\n",
       "  </thead>\n",
       "  <tbody>\n",
       "    <tr>\n",
       "      <th>22225</th>\n",
       "      <td>11704</td>\n",
       "      <td>Jorge Ral Birkner Cogan</td>\n",
       "      <td>M</td>\n",
       "      <td>23.0</td>\n",
       "      <td>179.0</td>\n",
       "      <td>73.0</td>\n",
       "      <td>Argentina</td>\n",
       "      <td>ARG</td>\n",
       "      <td>1988 Winter</td>\n",
       "      <td>1988</td>\n",
       "      <td>Winter</td>\n",
       "      <td>Calgary</td>\n",
       "      <td>Alpine Skiing</td>\n",
       "      <td>Alpine Skiing Men's Slalom</td>\n",
       "      <td>NaN</td>\n",
       "    </tr>\n",
       "    <tr>\n",
       "      <th>65778</th>\n",
       "      <td>33663</td>\n",
       "      <td>Francisco \"Kiko\" Fbregas Monegal</td>\n",
       "      <td>M</td>\n",
       "      <td>30.0</td>\n",
       "      <td>182.0</td>\n",
       "      <td>78.0</td>\n",
       "      <td>Spain</td>\n",
       "      <td>ESP</td>\n",
       "      <td>2008 Summer</td>\n",
       "      <td>2008</td>\n",
       "      <td>Summer</td>\n",
       "      <td>Beijing</td>\n",
       "      <td>Hockey</td>\n",
       "      <td>Hockey Men's Hockey</td>\n",
       "      <td>Silver</td>\n",
       "    </tr>\n",
       "    <tr>\n",
       "      <th>68061</th>\n",
       "      <td>34767</td>\n",
       "      <td>Rui Fernandes</td>\n",
       "      <td>M</td>\n",
       "      <td>25.0</td>\n",
       "      <td>183.0</td>\n",
       "      <td>75.0</td>\n",
       "      <td>Portugal</td>\n",
       "      <td>POR</td>\n",
       "      <td>1996 Summer</td>\n",
       "      <td>1996</td>\n",
       "      <td>Summer</td>\n",
       "      <td>Atlanta</td>\n",
       "      <td>Canoeing</td>\n",
       "      <td>Canoeing Men's Kayak Doubles, 500 metres</td>\n",
       "      <td>NaN</td>\n",
       "    </tr>\n",
       "    <tr>\n",
       "      <th>9657</th>\n",
       "      <td>5293</td>\n",
       "      <td>Marco Antonio Arriagada Quinchel</td>\n",
       "      <td>M</td>\n",
       "      <td>20.0</td>\n",
       "      <td>167.0</td>\n",
       "      <td>58.0</td>\n",
       "      <td>Chile</td>\n",
       "      <td>CHI</td>\n",
       "      <td>1996 Summer</td>\n",
       "      <td>1996</td>\n",
       "      <td>Summer</td>\n",
       "      <td>Atlanta</td>\n",
       "      <td>Cycling</td>\n",
       "      <td>Cycling Men's Team Pursuit, 4,000 metres</td>\n",
       "      <td>NaN</td>\n",
       "    </tr>\n",
       "    <tr>\n",
       "      <th>206324</th>\n",
       "      <td>103562</td>\n",
       "      <td>Arthur Rushen</td>\n",
       "      <td>M</td>\n",
       "      <td>NaN</td>\n",
       "      <td>NaN</td>\n",
       "      <td>NaN</td>\n",
       "      <td>Great Britain</td>\n",
       "      <td>GBR</td>\n",
       "      <td>1908 Summer</td>\n",
       "      <td>1908</td>\n",
       "      <td>Summer</td>\n",
       "      <td>London</td>\n",
       "      <td>Cycling</td>\n",
       "      <td>Cycling Men's Tandem Sprint, 2,000 metres</td>\n",
       "      <td>NaN</td>\n",
       "    </tr>\n",
       "  </tbody>\n",
       "</table>\n",
       "</div>"
      ],
      "text/plain": [
       "            ID                              Name Sex   Age  Height  Weight  \\\n",
       "22225    11704           Jorge Ral Birkner Cogan   M  23.0   179.0    73.0   \n",
       "65778    33663  Francisco \"Kiko\" Fbregas Monegal   M  30.0   182.0    78.0   \n",
       "68061    34767                     Rui Fernandes   M  25.0   183.0    75.0   \n",
       "9657      5293  Marco Antonio Arriagada Quinchel   M  20.0   167.0    58.0   \n",
       "206324  103562                     Arthur Rushen   M   NaN     NaN     NaN   \n",
       "\n",
       "                 Team  NOC        Games  Year  Season     City          Sport  \\\n",
       "22225       Argentina  ARG  1988 Winter  1988  Winter  Calgary  Alpine Skiing   \n",
       "65778           Spain  ESP  2008 Summer  2008  Summer  Beijing         Hockey   \n",
       "68061        Portugal  POR  1996 Summer  1996  Summer  Atlanta       Canoeing   \n",
       "9657            Chile  CHI  1996 Summer  1996  Summer  Atlanta        Cycling   \n",
       "206324  Great Britain  GBR  1908 Summer  1908  Summer   London        Cycling   \n",
       "\n",
       "                                            Event   Medal  \n",
       "22225                  Alpine Skiing Men's Slalom     NaN  \n",
       "65778                         Hockey Men's Hockey  Silver  \n",
       "68061    Canoeing Men's Kayak Doubles, 500 metres     NaN  \n",
       "9657     Cycling Men's Team Pursuit, 4,000 metres     NaN  \n",
       "206324  Cycling Men's Tandem Sprint, 2,000 metres     NaN  "
      ]
     },
     "execution_count": 13,
     "metadata": {},
     "output_type": "execute_result"
    }
   ],
   "source": [
    "#A partir de 1992 los juegos olimpicos de invierno se hacen con dos años de diferencia. \n",
    "#Para que todo el grafico quede en intervalos de 4 años, se hace una list comprehension para cambiar estos años de juegos de invierno a los años de los juegos de verano\n",
    "olympic_history[\"Year\"] = [x+2 if x % 4 != 0 else x for x in olympic_history[\"Year\"]]\n",
    "\n",
    "olympic_history.sample(5)"
   ]
  },
  {
   "cell_type": "markdown",
   "id": "5cc2586c-f978-4461-b44b-cb284077d40f",
   "metadata": {
    "jp-MarkdownHeadingCollapsed": true,
    "tags": []
   },
   "source": [
    "#### - Obtener un gráfico de barras con la evolución del número de deportes por año, eje X años, eje Y número de deportes"
   ]
  },
  {
   "cell_type": "code",
   "execution_count": 14,
   "id": "bb2c4233-d1a5-4e3b-85c8-461639cc3619",
   "metadata": {
    "tags": []
   },
   "outputs": [
    {
     "data": {
      "text/html": [
       "<div>\n",
       "<style scoped>\n",
       "    .dataframe tbody tr th:only-of-type {\n",
       "        vertical-align: middle;\n",
       "    }\n",
       "\n",
       "    .dataframe tbody tr th {\n",
       "        vertical-align: top;\n",
       "    }\n",
       "\n",
       "    .dataframe thead th {\n",
       "        text-align: right;\n",
       "    }\n",
       "</style>\n",
       "<table border=\"1\" class=\"dataframe\">\n",
       "  <thead>\n",
       "    <tr style=\"text-align: right;\">\n",
       "      <th></th>\n",
       "      <th>Year</th>\n",
       "      <th>Sport</th>\n",
       "    </tr>\n",
       "  </thead>\n",
       "  <tbody>\n",
       "    <tr>\n",
       "      <th>0</th>\n",
       "      <td>1992</td>\n",
       "      <td>Basketball</td>\n",
       "    </tr>\n",
       "    <tr>\n",
       "      <th>1</th>\n",
       "      <td>2012</td>\n",
       "      <td>Judo</td>\n",
       "    </tr>\n",
       "    <tr>\n",
       "      <th>2</th>\n",
       "      <td>1920</td>\n",
       "      <td>Football</td>\n",
       "    </tr>\n",
       "    <tr>\n",
       "      <th>3</th>\n",
       "      <td>1900</td>\n",
       "      <td>Tug-Of-War</td>\n",
       "    </tr>\n",
       "    <tr>\n",
       "      <th>4</th>\n",
       "      <td>1988</td>\n",
       "      <td>Speed Skating</td>\n",
       "    </tr>\n",
       "  </tbody>\n",
       "</table>\n",
       "</div>"
      ],
      "text/plain": [
       "   Year          Sport\n",
       "0  1992     Basketball\n",
       "1  2012           Judo\n",
       "2  1920       Football\n",
       "3  1900     Tug-Of-War\n",
       "4  1988  Speed Skating"
      ]
     },
     "execution_count": 14,
     "metadata": {},
     "output_type": "execute_result"
    }
   ],
   "source": [
    "#Filtrar el numero de deportes y el año en que se hizo, debido a que cada deporte tiene varios eventos se eliminan los duplicados\n",
    "sports_per_year = olympic_history[[\"Year\",\"Sport\"]].drop_duplicates()\n",
    "\n",
    "sports_per_year.head(5)"
   ]
  },
  {
   "cell_type": "code",
   "execution_count": 15,
   "id": "b82bab05-632b-4e4d-b992-53ffd9549aca",
   "metadata": {
    "tags": []
   },
   "outputs": [
    {
     "data": {
      "text/html": [
       "<div>\n",
       "<style scoped>\n",
       "    .dataframe tbody tr th:only-of-type {\n",
       "        vertical-align: middle;\n",
       "    }\n",
       "\n",
       "    .dataframe tbody tr th {\n",
       "        vertical-align: top;\n",
       "    }\n",
       "\n",
       "    .dataframe thead th {\n",
       "        text-align: right;\n",
       "    }\n",
       "</style>\n",
       "<table border=\"1\" class=\"dataframe\">\n",
       "  <thead>\n",
       "    <tr style=\"text-align: right;\">\n",
       "      <th></th>\n",
       "      <th>Year</th>\n",
       "      <th>Sport</th>\n",
       "    </tr>\n",
       "  </thead>\n",
       "  <tbody>\n",
       "    <tr>\n",
       "      <th>0</th>\n",
       "      <td>1896</td>\n",
       "      <td>9</td>\n",
       "    </tr>\n",
       "    <tr>\n",
       "      <th>1</th>\n",
       "      <td>1900</td>\n",
       "      <td>20</td>\n",
       "    </tr>\n",
       "    <tr>\n",
       "      <th>2</th>\n",
       "      <td>1904</td>\n",
       "      <td>18</td>\n",
       "    </tr>\n",
       "    <tr>\n",
       "      <th>3</th>\n",
       "      <td>1908</td>\n",
       "      <td>25</td>\n",
       "    </tr>\n",
       "    <tr>\n",
       "      <th>4</th>\n",
       "      <td>1912</td>\n",
       "      <td>17</td>\n",
       "    </tr>\n",
       "  </tbody>\n",
       "</table>\n",
       "</div>"
      ],
      "text/plain": [
       "   Year  Sport\n",
       "0  1896      9\n",
       "1  1900     20\n",
       "2  1904     18\n",
       "3  1908     25\n",
       "4  1912     17"
      ]
     },
     "execution_count": 15,
     "metadata": {},
     "output_type": "execute_result"
    }
   ],
   "source": [
    "#Se agrupa por año y se usa el metodo count() para saber el numero de deportes por año\n",
    "sports_per_year = sports_per_year.groupby(\"Year\", as_index=False).count()\n",
    "\n",
    "sports_per_year.head(5)"
   ]
  },
  {
   "cell_type": "code",
   "execution_count": 101,
   "id": "567d5fbd-ffe5-49cd-83e6-14fa38263427",
   "metadata": {
    "tags": []
   },
   "outputs": [
    {
     "data": {
      "image/png": "[encoded data removed]",
      "text/plain": [
       "<Figure size 2000x800 with 1 Axes>"
      ]
     },
     "metadata": {},
     "output_type": "display_data"
    }
   ],
   "source": [
    "#Crear grafico de barras\n",
    "\n",
    "\n",
    "sport_per_year_plot = sns.barplot(data=sports_per_year, x=sports_per_year[\"Year\"], y=sports_per_year[\"Sport\"], palette=\"Spectral\")\n",
    "\n",
    "#Modificar parametros del grafico para hacerlo mas presentable\n",
    "sport_per_year_plot.figure.set_figwidth(20)\n",
    "sport_per_year_plot.figure.set_figheight(8)\n",
    "sport_per_year_plot.set_title(\"Number of sports over the years\", fontsize=20)\n",
    "sport_per_year_plot.set_xlabel(\"Years\", fontsize=15)\n",
    "sport_per_year_plot.set_ylabel(\"No. of sports\", fontsize=15)\n",
    "plt.tight_layout()\n",
    "\n",
    "#Mostrar grafico\n",
    "plt.show()\n"
   ]
  },
  {
   "cell_type": "markdown",
   "id": "d1dfd633-d618-44c5-a55b-2ae9f69b3a29",
   "metadata": {
    "tags": []
   },
   "source": [
    "#### - Gráfico con la evolución de la participación femenina en las olimpiadas a lo largo de la historia, eje X años, eje Y número de atletas, para cada año una barra para cada sexo "
   ]
  },
  {
   "cell_type": "code",
   "execution_count": 81,
   "id": "fc0ca13e-c673-41d9-b9d5-08e31254e59a",
   "metadata": {
    "tags": []
   },
   "outputs": [
    {
     "data": {
      "text/html": [
       "<div>\n",
       "<style scoped>\n",
       "    .dataframe tbody tr th:only-of-type {\n",
       "        vertical-align: middle;\n",
       "    }\n",
       "\n",
       "    .dataframe tbody tr th {\n",
       "        vertical-align: top;\n",
       "    }\n",
       "\n",
       "    .dataframe thead th {\n",
       "        text-align: right;\n",
       "    }\n",
       "</style>\n",
       "<table border=\"1\" class=\"dataframe\">\n",
       "  <thead>\n",
       "    <tr style=\"text-align: right;\">\n",
       "      <th></th>\n",
       "      <th>Sex</th>\n",
       "      <th>Year</th>\n",
       "      <th>Name</th>\n",
       "    </tr>\n",
       "  </thead>\n",
       "  <tbody>\n",
       "    <tr>\n",
       "      <th>0</th>\n",
       "      <td>M</td>\n",
       "      <td>1992</td>\n",
       "      <td>A Dijiang</td>\n",
       "    </tr>\n",
       "    <tr>\n",
       "      <th>1</th>\n",
       "      <td>M</td>\n",
       "      <td>2012</td>\n",
       "      <td>A Lamusi</td>\n",
       "    </tr>\n",
       "    <tr>\n",
       "      <th>2</th>\n",
       "      <td>M</td>\n",
       "      <td>1920</td>\n",
       "      <td>Gunnar Nielsen Aaby</td>\n",
       "    </tr>\n",
       "    <tr>\n",
       "      <th>3</th>\n",
       "      <td>M</td>\n",
       "      <td>1900</td>\n",
       "      <td>Edgar Lindenau Aabye</td>\n",
       "    </tr>\n",
       "    <tr>\n",
       "      <th>4</th>\n",
       "      <td>F</td>\n",
       "      <td>1988</td>\n",
       "      <td>Christine Jacoba Aaftink</td>\n",
       "    </tr>\n",
       "    <tr>\n",
       "      <th>...</th>\n",
       "      <td>...</td>\n",
       "      <td>...</td>\n",
       "      <td>...</td>\n",
       "    </tr>\n",
       "    <tr>\n",
       "      <th>271110</th>\n",
       "      <td>F</td>\n",
       "      <td>2016</td>\n",
       "      <td>Olga Igorevna Zyuzkova</td>\n",
       "    </tr>\n",
       "    <tr>\n",
       "      <th>271111</th>\n",
       "      <td>M</td>\n",
       "      <td>1976</td>\n",
       "      <td>Andrzej ya</td>\n",
       "    </tr>\n",
       "    <tr>\n",
       "      <th>271112</th>\n",
       "      <td>M</td>\n",
       "      <td>2016</td>\n",
       "      <td>Piotr ya</td>\n",
       "    </tr>\n",
       "    <tr>\n",
       "      <th>271114</th>\n",
       "      <td>M</td>\n",
       "      <td>2000</td>\n",
       "      <td>Tomasz Ireneusz ya</td>\n",
       "    </tr>\n",
       "    <tr>\n",
       "      <th>271115</th>\n",
       "      <td>M</td>\n",
       "      <td>2004</td>\n",
       "      <td>Tomasz Ireneusz ya</td>\n",
       "    </tr>\n",
       "  </tbody>\n",
       "</table>\n",
       "<p>187051 rows × 3 columns</p>\n",
       "</div>"
      ],
      "text/plain": [
       "       Sex  Year                      Name\n",
       "0        M  1992                 A Dijiang\n",
       "1        M  2012                  A Lamusi\n",
       "2        M  1920       Gunnar Nielsen Aaby\n",
       "3        M  1900      Edgar Lindenau Aabye\n",
       "4        F  1988  Christine Jacoba Aaftink\n",
       "...     ..   ...                       ...\n",
       "271110   F  2016    Olga Igorevna Zyuzkova\n",
       "271111   M  1976                Andrzej ya\n",
       "271112   M  2016                  Piotr ya\n",
       "271114   M  2000        Tomasz Ireneusz ya\n",
       "271115   M  2004        Tomasz Ireneusz ya\n",
       "\n",
       "[187051 rows x 3 columns]"
      ]
     },
     "metadata": {},
     "output_type": "display_data"
    }
   ],
   "source": [
    "#Filtrar el nombre, año y sexo de cada participante. Se eliminan los atletas que participaron en varios eventos el mismo año.\n",
    "athlete_per_year_and_sex = olympic_history[[\"Sex\",\"Year\",\"Name\"]].drop_duplicates()\n",
    "\n",
    "display(athlete_per_year_and_sex)"
   ]
  },
  {
   "cell_type": "code",
   "execution_count": 95,
   "id": "78c387fc-7f4f-4ca3-b014-262bf9a5f417",
   "metadata": {
    "tags": []
   },
   "outputs": [
    {
     "data": {
      "text/html": [
       "<div>\n",
       "<style scoped>\n",
       "    .dataframe tbody tr th:only-of-type {\n",
       "        vertical-align: middle;\n",
       "    }\n",
       "\n",
       "    .dataframe tbody tr th {\n",
       "        vertical-align: top;\n",
       "    }\n",
       "\n",
       "    .dataframe thead th {\n",
       "        text-align: right;\n",
       "    }\n",
       "</style>\n",
       "<table border=\"1\" class=\"dataframe\">\n",
       "  <thead>\n",
       "    <tr style=\"text-align: right;\">\n",
       "      <th></th>\n",
       "      <th>Sex</th>\n",
       "      <th>Year</th>\n",
       "      <th>Athletes</th>\n",
       "    </tr>\n",
       "  </thead>\n",
       "  <tbody>\n",
       "    <tr>\n",
       "      <th>41</th>\n",
       "      <td>M</td>\n",
       "      <td>1964</td>\n",
       "      <td>5346</td>\n",
       "    </tr>\n",
       "    <tr>\n",
       "      <th>49</th>\n",
       "      <td>M</td>\n",
       "      <td>1996</td>\n",
       "      <td>8027</td>\n",
       "    </tr>\n",
       "    <tr>\n",
       "      <th>30</th>\n",
       "      <td>M</td>\n",
       "      <td>1908</td>\n",
       "      <td>2651</td>\n",
       "    </tr>\n",
       "    <tr>\n",
       "      <th>11</th>\n",
       "      <td>F</td>\n",
       "      <td>1956</td>\n",
       "      <td>516</td>\n",
       "    </tr>\n",
       "    <tr>\n",
       "      <th>16</th>\n",
       "      <td>F</td>\n",
       "      <td>1976</td>\n",
       "      <td>1490</td>\n",
       "    </tr>\n",
       "  </tbody>\n",
       "</table>\n",
       "</div>"
      ],
      "text/plain": [
       "   Sex  Year  Athletes\n",
       "41   M  1964      5346\n",
       "49   M  1996      8027\n",
       "30   M  1908      2651\n",
       "11   F  1956       516\n",
       "16   F  1976      1490"
      ]
     },
     "execution_count": 95,
     "metadata": {},
     "output_type": "execute_result"
    }
   ],
   "source": [
    "#Agrupar por sexo y año. Usando \"count()\" para obtener el numero de participantes.\n",
    "\n",
    "athlete_per_year_and_sex_grouped = athlete_per_year_and_sex.groupby([\"Sex\",\"Year\"], as_index=False).count()\n",
    "athlete_per_year_and_sex_grouped.rename(columns={\"Name\":\"Athletes\"}, inplace=True)\n",
    "\n",
    "athlete_per_year_and_sex_grouped.sample(5)"
   ]
  },
  {
   "cell_type": "code",
   "execution_count": 102,
   "id": "47330c80-be4d-46a7-83d1-ad0ccee59bec",
   "metadata": {
    "tags": []
   },
   "outputs": [
    {
     "data": {
      "image/png": "[encoded data removed]",
      "text/plain": [
       "<Figure size 1500x800 with 1 Axes>"
      ]
     },
     "metadata": {},
     "output_type": "display_data"
    }
   ],
   "source": [
    "#Crear grafico de barras\n",
    "\n",
    "athlete_per_year_and_sex_plot = sns.barplot(data=athlete_per_year_and_sex_grouped, \n",
    "                                            x=\"Year\", \n",
    "                                            y=\"Athletes\",\n",
    "                                            hue=\"Sex\", \n",
    "                                            hue_order = ['M', 'F']\n",
    "                                           )\n",
    "\n",
    "#Modificar parametros del grafico para hacerlo mas presentable\n",
    "athlete_per_year_and_sex_plot.figure.set_figwidth(15)\n",
    "athlete_per_year_and_sex_plot.figure.set_figheight(8)\n",
    "athlete_per_year_and_sex_plot.set_title(\"Sex Analysis\", fontsize=20)\n",
    "athlete_per_year_and_sex_plot.set_xlabel(\"Years\", fontsize=15)\n",
    "athlete_per_year_and_sex_plot.set_ylabel(\"No. of Athletes\", fontsize=15)\n",
    "plt.tight_layout()\n",
    "\n",
    "#Mostrar grafico\n",
    "plt.show()"
   ]
  },
  {
   "cell_type": "markdown",
   "id": "877d5397-84f8-415b-b908-bf1543b797cd",
   "metadata": {},
   "source": [
    "#### - Gráfico con la evolución de la participación femenina en las olimpiadas a lo largo de la historia, eje X años, eje Y número de atletas, para cada año una barra para cada sexo "
   ]
  },
  {
   "cell_type": "markdown",
   "id": "7918d9b7",
   "metadata": {},
   "source": [
    "### A3 - Machine Learning - 45%\n",
    "\n",
    "- Crear un modelo capaz de predecir el tiempo que va a hacer un atleta en la prueba de los 100 metros lisos, en función de su edad, sexo, peso y altura.\n",
    "![model](res/model.png)"
   ]
  }
 ],
 "metadata": {
  "kernelspec": {
   "display_name": "Python 3 (ipykernel)",
   "language": "python",
   "name": "python3"
  },
  "language_info": {
   "codemirror_mode": {
    "name": "ipython",
    "version": 3
   },
   "file_extension": ".py",
   "mimetype": "text/x-python",
   "name": "python",
   "nbconvert_exporter": "python",
   "pygments_lexer": "ipython3",
   "version": "3.11.1"
  }
 },
 "nbformat": 4,
 "nbformat_minor": 5
}
